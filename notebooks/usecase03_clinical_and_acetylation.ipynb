{
 "cells": [
  {
   "cell_type": "markdown",
   "metadata": {},
   "source": [
    "# Use Case 3: Associating Clinical Variables with Acetylation"
   ]
  },
  {
   "cell_type": "markdown",
   "metadata": {},
   "source": [
    "For this use case we will show how to analyze the acetylation data with a clinical attribute. We will use the clinical attribute \"Histologic_type\", but you can apply the processes shown here to many other clinical attributes. Our goal is to identify which acetylation sites differ significantly in frequency between non-tumor, serous and endometrial cells."
   ]
  },
  {
   "cell_type": "markdown",
   "metadata": {},
   "source": [
    "# Step 1: Import Packages and Load Data"
   ]
  },
  {
   "cell_type": "markdown",
   "metadata": {},
   "source": [
    "We will start by importing the data analysis tools we need, importing the cptac package, and loading the Endometrial dataset."
   ]
  },
  {
   "cell_type": "code",
   "execution_count": 1,
   "metadata": {},
   "outputs": [],
   "source": [
    "import pandas as pd\n",
    "import numpy as np\n",
    "import scipy.stats\n",
    "import statsmodels.stats.multitest\n",
    "import matplotlib.pyplot as plt\n",
    "import seaborn as sns\n",
    "import math\n",
    "import cptac\n",
    "import cptac.utils as ut\n",
    "\n",
    "en = cptac.Ucec()"
   ]
  },
  {
   "cell_type": "markdown",
   "metadata": {},
   "source": [
    "# Step 2: Choose Clinical Attribute and Join Dataframes"
   ]
  },
  {
   "cell_type": "markdown",
   "metadata": {},
   "source": [
    "For this use case, we will use the 'Histologic_type' clinical attribute in order to find differences in acetylation sites between \"endometrioid\" and \"serous\" cancer cells. "
   ]
  },
  {
   "cell_type": "code",
   "execution_count": 2,
   "metadata": {},
   "outputs": [],
   "source": [
    "#Set desired attribute to variable 'clinical_attribute'\n",
    "clinical_attribute = \"Histologic_type\""
   ]
  },
  {
   "cell_type": "markdown",
   "metadata": {},
   "source": [
    "Here we will join our desired clinical attribute with our acetylation dataframe using the `en.join_metadata_to_omics` method."
   ]
  },
  {
   "cell_type": "code",
   "execution_count": 3,
   "metadata": {},
   "outputs": [
    {
     "name": "stdout",
     "output_type": "stream",
     "text": [
      "                                                        \r"
     ]
    },
    {
     "data": {
      "text/html": [
       "<div>\n",
       "<style scoped>\n",
       "    .dataframe tbody tr th:only-of-type {\n",
       "        vertical-align: middle;\n",
       "    }\n",
       "\n",
       "    .dataframe tbody tr th {\n",
       "        vertical-align: top;\n",
       "    }\n",
       "\n",
       "    .dataframe thead th {\n",
       "        text-align: right;\n",
       "    }\n",
       "</style>\n",
       "<table border=\"1\" class=\"dataframe\">\n",
       "  <thead>\n",
       "    <tr style=\"text-align: right;\">\n",
       "      <th>Name</th>\n",
       "      <th>Histologic_type</th>\n",
       "      <th>A2M_awg_acetylproteomics_K1168</th>\n",
       "      <th>A2M_awg_acetylproteomics_K1176</th>\n",
       "      <th>A2M_awg_acetylproteomics_K135</th>\n",
       "      <th>A2M_awg_acetylproteomics_K145</th>\n",
       "      <th>A2M_awg_acetylproteomics_K516</th>\n",
       "      <th>A2M_awg_acetylproteomics_K664</th>\n",
       "      <th>A2M_awg_acetylproteomics_K682</th>\n",
       "      <th>AACS_awg_acetylproteomics_K391</th>\n",
       "      <th>AAGAB_awg_acetylproteomics_K290</th>\n",
       "      <th>...</th>\n",
       "      <th>ZSCAN31_awg_acetylproteomics_K215</th>\n",
       "      <th>ZSCAN32_awg_acetylproteomics_K659</th>\n",
       "      <th>ZW10_awg_acetylproteomics_K634</th>\n",
       "      <th>ZYX_awg_acetylproteomics_K24</th>\n",
       "      <th>ZYX_awg_acetylproteomics_K25</th>\n",
       "      <th>ZYX_awg_acetylproteomics_K265</th>\n",
       "      <th>ZYX_awg_acetylproteomics_K272</th>\n",
       "      <th>ZYX_awg_acetylproteomics_K279</th>\n",
       "      <th>ZYX_awg_acetylproteomics_K533</th>\n",
       "      <th>ZZZ3_awg_acetylproteomics_K117</th>\n",
       "    </tr>\n",
       "    <tr>\n",
       "      <th>Patient_ID</th>\n",
       "      <th></th>\n",
       "      <th></th>\n",
       "      <th></th>\n",
       "      <th></th>\n",
       "      <th></th>\n",
       "      <th></th>\n",
       "      <th></th>\n",
       "      <th></th>\n",
       "      <th></th>\n",
       "      <th></th>\n",
       "      <th></th>\n",
       "      <th></th>\n",
       "      <th></th>\n",
       "      <th></th>\n",
       "      <th></th>\n",
       "      <th></th>\n",
       "      <th></th>\n",
       "      <th></th>\n",
       "      <th></th>\n",
       "      <th></th>\n",
       "      <th></th>\n",
       "    </tr>\n",
       "  </thead>\n",
       "  <tbody>\n",
       "    <tr>\n",
       "      <th>C3L-00006</th>\n",
       "      <td>Endometrioid</td>\n",
       "      <td>NaN</td>\n",
       "      <td>1.080</td>\n",
       "      <td>NaN</td>\n",
       "      <td>NaN</td>\n",
       "      <td>NaN</td>\n",
       "      <td>NaN</td>\n",
       "      <td>NaN</td>\n",
       "      <td>NaN</td>\n",
       "      <td>0.461</td>\n",
       "      <td>...</td>\n",
       "      <td>NaN</td>\n",
       "      <td>NaN</td>\n",
       "      <td>NaN</td>\n",
       "      <td>NaN</td>\n",
       "      <td>NaN</td>\n",
       "      <td>NaN</td>\n",
       "      <td>NaN</td>\n",
       "      <td>NaN</td>\n",
       "      <td>NaN</td>\n",
       "      <td>NaN</td>\n",
       "    </tr>\n",
       "    <tr>\n",
       "      <th>C3L-00008</th>\n",
       "      <td>Endometrioid</td>\n",
       "      <td>NaN</td>\n",
       "      <td>0.477</td>\n",
       "      <td>NaN</td>\n",
       "      <td>NaN</td>\n",
       "      <td>NaN</td>\n",
       "      <td>NaN</td>\n",
       "      <td>NaN</td>\n",
       "      <td>NaN</td>\n",
       "      <td>1.770</td>\n",
       "      <td>...</td>\n",
       "      <td>-0.104</td>\n",
       "      <td>-0.80300</td>\n",
       "      <td>NaN</td>\n",
       "      <td>-0.988</td>\n",
       "      <td>-0.343</td>\n",
       "      <td>-0.307</td>\n",
       "      <td>NaN</td>\n",
       "      <td>-0.0955</td>\n",
       "      <td>NaN</td>\n",
       "      <td>NaN</td>\n",
       "    </tr>\n",
       "    <tr>\n",
       "      <th>C3L-00032</th>\n",
       "      <td>Endometrioid</td>\n",
       "      <td>NaN</td>\n",
       "      <td>NaN</td>\n",
       "      <td>NaN</td>\n",
       "      <td>NaN</td>\n",
       "      <td>NaN</td>\n",
       "      <td>NaN</td>\n",
       "      <td>NaN</td>\n",
       "      <td>NaN</td>\n",
       "      <td>-0.815</td>\n",
       "      <td>...</td>\n",
       "      <td>NaN</td>\n",
       "      <td>NaN</td>\n",
       "      <td>NaN</td>\n",
       "      <td>-0.459</td>\n",
       "      <td>-1.170</td>\n",
       "      <td>NaN</td>\n",
       "      <td>NaN</td>\n",
       "      <td>-0.7050</td>\n",
       "      <td>0.089</td>\n",
       "      <td>NaN</td>\n",
       "    </tr>\n",
       "    <tr>\n",
       "      <th>C3L-00084</th>\n",
       "      <td>Carcinosarcoma</td>\n",
       "      <td>NaN</td>\n",
       "      <td>NaN</td>\n",
       "      <td>NaN</td>\n",
       "      <td>NaN</td>\n",
       "      <td>NaN</td>\n",
       "      <td>NaN</td>\n",
       "      <td>NaN</td>\n",
       "      <td>NaN</td>\n",
       "      <td>NaN</td>\n",
       "      <td>...</td>\n",
       "      <td>NaN</td>\n",
       "      <td>NaN</td>\n",
       "      <td>NaN</td>\n",
       "      <td>NaN</td>\n",
       "      <td>NaN</td>\n",
       "      <td>NaN</td>\n",
       "      <td>NaN</td>\n",
       "      <td>NaN</td>\n",
       "      <td>NaN</td>\n",
       "      <td>NaN</td>\n",
       "    </tr>\n",
       "    <tr>\n",
       "      <th>C3L-00090</th>\n",
       "      <td>Endometrioid</td>\n",
       "      <td>NaN</td>\n",
       "      <td>-0.608</td>\n",
       "      <td>NaN</td>\n",
       "      <td>NaN</td>\n",
       "      <td>-0.919</td>\n",
       "      <td>NaN</td>\n",
       "      <td>NaN</td>\n",
       "      <td>NaN</td>\n",
       "      <td>NaN</td>\n",
       "      <td>...</td>\n",
       "      <td>-0.457</td>\n",
       "      <td>-0.00175</td>\n",
       "      <td>-0.33</td>\n",
       "      <td>NaN</td>\n",
       "      <td>-0.537</td>\n",
       "      <td>NaN</td>\n",
       "      <td>NaN</td>\n",
       "      <td>-0.3700</td>\n",
       "      <td>NaN</td>\n",
       "      <td>NaN</td>\n",
       "    </tr>\n",
       "  </tbody>\n",
       "</table>\n",
       "<p>5 rows × 10863 columns</p>\n",
       "</div>"
      ],
      "text/plain": [
       "Name       Histologic_type  A2M_awg_acetylproteomics_K1168  \\\n",
       "Patient_ID                                                   \n",
       "C3L-00006     Endometrioid                             NaN   \n",
       "C3L-00008     Endometrioid                             NaN   \n",
       "C3L-00032     Endometrioid                             NaN   \n",
       "C3L-00084   Carcinosarcoma                             NaN   \n",
       "C3L-00090     Endometrioid                             NaN   \n",
       "\n",
       "Name        A2M_awg_acetylproteomics_K1176  A2M_awg_acetylproteomics_K135  \\\n",
       "Patient_ID                                                                  \n",
       "C3L-00006                            1.080                            NaN   \n",
       "C3L-00008                            0.477                            NaN   \n",
       "C3L-00032                              NaN                            NaN   \n",
       "C3L-00084                              NaN                            NaN   \n",
       "C3L-00090                           -0.608                            NaN   \n",
       "\n",
       "Name        A2M_awg_acetylproteomics_K145  A2M_awg_acetylproteomics_K516  \\\n",
       "Patient_ID                                                                 \n",
       "C3L-00006                             NaN                            NaN   \n",
       "C3L-00008                             NaN                            NaN   \n",
       "C3L-00032                             NaN                            NaN   \n",
       "C3L-00084                             NaN                            NaN   \n",
       "C3L-00090                             NaN                         -0.919   \n",
       "\n",
       "Name        A2M_awg_acetylproteomics_K664  A2M_awg_acetylproteomics_K682  \\\n",
       "Patient_ID                                                                 \n",
       "C3L-00006                             NaN                            NaN   \n",
       "C3L-00008                             NaN                            NaN   \n",
       "C3L-00032                             NaN                            NaN   \n",
       "C3L-00084                             NaN                            NaN   \n",
       "C3L-00090                             NaN                            NaN   \n",
       "\n",
       "Name        AACS_awg_acetylproteomics_K391  AAGAB_awg_acetylproteomics_K290  \\\n",
       "Patient_ID                                                                    \n",
       "C3L-00006                              NaN                            0.461   \n",
       "C3L-00008                              NaN                            1.770   \n",
       "C3L-00032                              NaN                           -0.815   \n",
       "C3L-00084                              NaN                              NaN   \n",
       "C3L-00090                              NaN                              NaN   \n",
       "\n",
       "Name        ...  ZSCAN31_awg_acetylproteomics_K215  \\\n",
       "Patient_ID  ...                                      \n",
       "C3L-00006   ...                                NaN   \n",
       "C3L-00008   ...                             -0.104   \n",
       "C3L-00032   ...                                NaN   \n",
       "C3L-00084   ...                                NaN   \n",
       "C3L-00090   ...                             -0.457   \n",
       "\n",
       "Name        ZSCAN32_awg_acetylproteomics_K659  ZW10_awg_acetylproteomics_K634  \\\n",
       "Patient_ID                                                                      \n",
       "C3L-00006                                 NaN                             NaN   \n",
       "C3L-00008                            -0.80300                             NaN   \n",
       "C3L-00032                                 NaN                             NaN   \n",
       "C3L-00084                                 NaN                             NaN   \n",
       "C3L-00090                            -0.00175                           -0.33   \n",
       "\n",
       "Name        ZYX_awg_acetylproteomics_K24  ZYX_awg_acetylproteomics_K25  \\\n",
       "Patient_ID                                                               \n",
       "C3L-00006                            NaN                           NaN   \n",
       "C3L-00008                         -0.988                        -0.343   \n",
       "C3L-00032                         -0.459                        -1.170   \n",
       "C3L-00084                            NaN                           NaN   \n",
       "C3L-00090                            NaN                        -0.537   \n",
       "\n",
       "Name        ZYX_awg_acetylproteomics_K265  ZYX_awg_acetylproteomics_K272  \\\n",
       "Patient_ID                                                                 \n",
       "C3L-00006                             NaN                            NaN   \n",
       "C3L-00008                          -0.307                            NaN   \n",
       "C3L-00032                             NaN                            NaN   \n",
       "C3L-00084                             NaN                            NaN   \n",
       "C3L-00090                             NaN                            NaN   \n",
       "\n",
       "Name        ZYX_awg_acetylproteomics_K279  ZYX_awg_acetylproteomics_K533  \\\n",
       "Patient_ID                                                                 \n",
       "C3L-00006                             NaN                            NaN   \n",
       "C3L-00008                         -0.0955                            NaN   \n",
       "C3L-00032                         -0.7050                          0.089   \n",
       "C3L-00084                             NaN                            NaN   \n",
       "C3L-00090                         -0.3700                            NaN   \n",
       "\n",
       "Name        ZZZ3_awg_acetylproteomics_K117  \n",
       "Patient_ID                                  \n",
       "C3L-00006                              NaN  \n",
       "C3L-00008                              NaN  \n",
       "C3L-00032                              NaN  \n",
       "C3L-00084                              NaN  \n",
       "C3L-00090                              NaN  \n",
       "\n",
       "[5 rows x 10863 columns]"
      ]
     },
     "execution_count": 3,
     "metadata": {},
     "output_type": "execute_result"
    }
   ],
   "source": [
    "#Join attribute with acetylation dataframe\n",
    "clinical_and_acetylation = en.multi_join({\"awg clinical\": clinical_attribute, \"awg acetylproteomics\": ''})\n",
    "\n",
    "# Use the cptac.utils.reduce_multiindex function to combine the\n",
    "# multiple column levels, so it's easier to graph our data\n",
    "clinical_and_acetylation = ut.reduce_multiindex(df=clinical_and_acetylation, flatten=True)\n",
    "\n",
    "clinical_and_acetylation.head()"
   ]
  },
  {
   "cell_type": "markdown",
   "metadata": {},
   "source": [
    "# Step 3: Format Dataframe to Compare Acetylproteomic Sites Between Histologic Types"
   ]
  },
  {
   "cell_type": "code",
   "execution_count": 4,
   "metadata": {},
   "outputs": [
    {
     "data": {
      "text/plain": [
       "array(['Endometrioid', 'Carcinosarcoma', 'Serous', 'Clear cell', nan],\n",
       "      dtype=object)"
      ]
     },
     "execution_count": 4,
     "metadata": {},
     "output_type": "execute_result"
    }
   ],
   "source": [
    "clinical_attribute = \"Histologic_type\"\n",
    "#Show possible variations of Histologic_type\n",
    "clinical_and_acetylation[clinical_attribute].unique()"
   ]
  },
  {
   "cell_type": "markdown",
   "metadata": {},
   "source": [
    "In this step, we will make two different dataframes for \"Endometrioid\" and \"Serous\" cancer types, as well as fill the NaN columns with \"Non-Tumor.\""
   ]
  },
  {
   "cell_type": "code",
   "execution_count": 5,
   "metadata": {},
   "outputs": [],
   "source": [
    "#Make dataframes with only endometrioid and only serous data in order to compare \n",
    "endom = clinical_and_acetylation.loc[clinical_and_acetylation[clinical_attribute] == \"Endometrioid\"]\n",
    "serous = clinical_and_acetylation.loc[clinical_and_acetylation[clinical_attribute] == \"Serous\"]\n",
    "#Here is where we set the NaN values to \"Non_Tumor\"\n",
    "clinical_and_acetylation[[clinical_attribute]] = clinical_and_acetylation[[clinical_attribute]].fillna(\n",
    "    value=\"Non_Tumor\")"
   ]
  },
  {
   "cell_type": "markdown",
   "metadata": {},
   "source": [
    "Now that we have our different dataframes, we want to make sure that the amount of data we are using for each site is significant. Since there are fewer patients with \"serous\" tumors than with \"endometrioid,\" we will check to make sure that we have at least five values for each acetylation site that we are comparing that have a measurement of intensity for serous patients. We will remove every acetylation site from our dataframe that doesn't have at least five values among the serous patients."
   ]
  },
  {
   "cell_type": "code",
   "execution_count": 6,
   "metadata": {},
   "outputs": [
    {
     "name": "stdout",
     "output_type": "stream",
     "text": [
      "Total Sites:  10862\n",
      "Removed:  6926\n",
      "Remaining Sites:  3936\n",
      "Adjusted p-value cutoff will be:  1.2703252032520325e-05\n"
     ]
    }
   ],
   "source": [
    "#Remove every column that doesn't have at least 5 values among the serous patients\n",
    "print(\"Total Sites: \", len(serous.columns) - 1)\n",
    "sites_to_remove = []\n",
    "for num in range(1, len(serous.columns)):\n",
    "    serous_site = serous.columns[num]\n",
    "    one_site = serous[serous_site]\n",
    "    num_datapoints_ser = one_site.count()\n",
    "    if num_datapoints_ser < 5:\n",
    "        sites_to_remove.append(serous_site)\n",
    "\n",
    "clinical_and_acetylation = clinical_and_acetylation.drop(sites_to_remove, axis = 1)\n",
    "\n",
    "#Also remove non-tumor patients from our dataframe to use in comparison, as we want to compare only endometrioid and serous types\n",
    "clinical_and_acetylation_comparison = clinical_and_acetylation.loc[clinical_and_acetylation['Histologic_type'] != 'Non_Tumor']\n",
    "clinical_and_acetylation_comparison = clinical_and_acetylation_comparison.loc[clinical_and_acetylation_comparison['Histologic_type'] != 'Carcinosarcoma']\n",
    "clinical_and_acetylation_comparison = clinical_and_acetylation_comparison.loc[clinical_and_acetylation_comparison['Histologic_type'] != 'Clear cell']\n",
    "\n",
    "\n",
    "print(\"Removed: \", len(sites_to_remove))\n",
    "print(\"Remaining Sites: \", len(clinical_and_acetylation_comparison.columns) - 1)\n",
    "print(\"Adjusted p-value cutoff will be: \", .05/(len(clinical_and_acetylation_comparison.columns)-1))"
   ]
  },
  {
   "cell_type": "markdown",
   "metadata": {},
   "source": [
    "# Step 4: Compare Endometrioid and Serous Values"
   ]
  },
  {
   "cell_type": "markdown",
   "metadata": {},
   "source": [
    "We will now call the wrap_ttest method, which will loop through the data and compare endometrioid versus serous data for each acetylation site. If we find a site that is significantly different, we will add it to a dataframe, with its p-value. The default alpha used is .05, which will be adjusted to account for multiple testing using a bonferroni correction, dividing alpha by the number of comparisons that will occur (the number of comparison columns)."
   ]
  },
  {
   "cell_type": "code",
   "execution_count": 7,
   "metadata": {},
   "outputs": [
    {
     "data": {
      "text/html": [
       "<div>\n",
       "<style scoped>\n",
       "    .dataframe tbody tr th:only-of-type {\n",
       "        vertical-align: middle;\n",
       "    }\n",
       "\n",
       "    .dataframe tbody tr th {\n",
       "        vertical-align: top;\n",
       "    }\n",
       "\n",
       "    .dataframe thead th {\n",
       "        text-align: right;\n",
       "    }\n",
       "</style>\n",
       "<table border=\"1\" class=\"dataframe\">\n",
       "  <thead>\n",
       "    <tr style=\"text-align: right;\">\n",
       "      <th></th>\n",
       "      <th>Comparison</th>\n",
       "      <th>P_Value</th>\n",
       "    </tr>\n",
       "  </thead>\n",
       "  <tbody>\n",
       "    <tr>\n",
       "      <th>0</th>\n",
       "      <td>TBL1XR1_awg_acetylproteomics_K102</td>\n",
       "      <td>0.000114</td>\n",
       "    </tr>\n",
       "    <tr>\n",
       "      <th>1</th>\n",
       "      <td>FOXA2_awg_acetylproteomics_K280</td>\n",
       "      <td>0.000153</td>\n",
       "    </tr>\n",
       "    <tr>\n",
       "      <th>2</th>\n",
       "      <td>SRRT_awg_acetylproteomics_K720</td>\n",
       "      <td>0.000257</td>\n",
       "    </tr>\n",
       "    <tr>\n",
       "      <th>3</th>\n",
       "      <td>TOP2A_awg_acetylproteomics_K1433</td>\n",
       "      <td>0.00066</td>\n",
       "    </tr>\n",
       "    <tr>\n",
       "      <th>4</th>\n",
       "      <td>NCL_awg_acetylproteomics_K398</td>\n",
       "      <td>0.001211</td>\n",
       "    </tr>\n",
       "    <tr>\n",
       "      <th>5</th>\n",
       "      <td>MEAF6_awg_acetylproteomics_K69</td>\n",
       "      <td>0.0021</td>\n",
       "    </tr>\n",
       "    <tr>\n",
       "      <th>6</th>\n",
       "      <td>JADE3_awg_acetylproteomics_K32</td>\n",
       "      <td>0.003546</td>\n",
       "    </tr>\n",
       "    <tr>\n",
       "      <th>7</th>\n",
       "      <td>NOP2_awg_acetylproteomics_K91</td>\n",
       "      <td>0.008264</td>\n",
       "    </tr>\n",
       "    <tr>\n",
       "      <th>8</th>\n",
       "      <td>TOP2A_awg_acetylproteomics_K1422</td>\n",
       "      <td>0.010327</td>\n",
       "    </tr>\n",
       "    <tr>\n",
       "      <th>9</th>\n",
       "      <td>MCRS1_awg_acetylproteomics_K136</td>\n",
       "      <td>0.015518</td>\n",
       "    </tr>\n",
       "    <tr>\n",
       "      <th>10</th>\n",
       "      <td>PRR15_awg_acetylproteomics_K81</td>\n",
       "      <td>0.02704</td>\n",
       "    </tr>\n",
       "    <tr>\n",
       "      <th>11</th>\n",
       "      <td>FUS_awg_acetylproteomics_K332</td>\n",
       "      <td>0.035779</td>\n",
       "    </tr>\n",
       "    <tr>\n",
       "      <th>12</th>\n",
       "      <td>SUPT16H_awg_acetylproteomics_K674</td>\n",
       "      <td>0.036792</td>\n",
       "    </tr>\n",
       "  </tbody>\n",
       "</table>\n",
       "</div>"
      ],
      "text/plain": [
       "                           Comparison   P_Value\n",
       "0   TBL1XR1_awg_acetylproteomics_K102  0.000114\n",
       "1     FOXA2_awg_acetylproteomics_K280  0.000153\n",
       "2      SRRT_awg_acetylproteomics_K720  0.000257\n",
       "3    TOP2A_awg_acetylproteomics_K1433   0.00066\n",
       "4       NCL_awg_acetylproteomics_K398  0.001211\n",
       "5      MEAF6_awg_acetylproteomics_K69    0.0021\n",
       "6      JADE3_awg_acetylproteomics_K32  0.003546\n",
       "7       NOP2_awg_acetylproteomics_K91  0.008264\n",
       "8    TOP2A_awg_acetylproteomics_K1422  0.010327\n",
       "9     MCRS1_awg_acetylproteomics_K136  0.015518\n",
       "10     PRR15_awg_acetylproteomics_K81   0.02704\n",
       "11      FUS_awg_acetylproteomics_K332  0.035779\n",
       "12  SUPT16H_awg_acetylproteomics_K674  0.036792"
      ]
     },
     "execution_count": 7,
     "metadata": {},
     "output_type": "execute_result"
    }
   ],
   "source": [
    "#Make list of all remaining sites in dataframe to pass to wrap_ttest function\n",
    "columns_to_compare = list(clinical_and_acetylation_comparison.columns)\n",
    "\n",
    "#Remove the \"Histologic_type\" column (at index 0) from this list\n",
    "columns_to_compare = columns_to_compare[1:]\n",
    "\n",
    "#Perform ttest on each column in dataframe\n",
    "significant_sites_df = ut.wrap_ttest(df=clinical_and_acetylation_comparison, label_column=\"Histologic_type\", comparison_columns=columns_to_compare)\n",
    "\n",
    "#List significant results\n",
    "significant_sites_df"
   ]
  },
  {
   "cell_type": "markdown",
   "metadata": {},
   "source": [
    "# Step 5: Graph Results"
   ]
  },
  {
   "cell_type": "markdown",
   "metadata": {},
   "source": [
    "Now that we have eight acetylation sites that differ significantly between endometrioid and serous intensities, we will graph a couple of them using a boxplot and a stripplot in order to visually see the difference, as well as compare with normal cells."
   ]
  },
  {
   "cell_type": "code",
   "execution_count": 8,
   "metadata": {},
   "outputs": [
    {
     "name": "stdout",
     "output_type": "stream",
     "text": [
      "Ttest_indResult(statistic=nan, pvalue=nan)\n"
     ]
    },
    {
     "data": {
      "image/png": "[encoded data removed]",
      "text/plain": [
       "<Figure size 432x288 with 1 Axes>"
      ]
     },
     "metadata": {
      "needs_background": "light"
     },
     "output_type": "display_data"
    }
   ],
   "source": [
    "graphingSite = 'FOXA2_awg_acetylproteomics_K280'\n",
    "print(scipy.stats.ttest_ind(endom[graphingSite], serous[graphingSite]))\n",
    "sns.boxplot(x=clinical_attribute, y=graphingSite, data=clinical_and_acetylation, showfliers=False, \n",
    "            order=[\"Non_Tumor\", \"Endometrioid\", \"Serous\"])\n",
    "sns.stripplot(x=clinical_attribute, y=graphingSite, data=clinical_and_acetylation, color='.3', \n",
    "              order=[\"Non_Tumor\", \"Endometrioid\", \"Serous\"])\n",
    "plt.show()"
   ]
  },
  {
   "cell_type": "code",
   "execution_count": 9,
   "metadata": {},
   "outputs": [
    {
     "name": "stdout",
     "output_type": "stream",
     "text": [
      "Ttest_indResult(statistic=nan, pvalue=nan)\n"
     ]
    },
    {
     "data": {
      "image/png": "[encoded data removed]",
      "text/plain": [
       "<Figure size 432x288 with 1 Axes>"
      ]
     },
     "metadata": {
      "needs_background": "light"
     },
     "output_type": "display_data"
    }
   ],
   "source": [
    "graphingSite = 'TBL1XR1_awg_acetylproteomics_K102'\n",
    "print(scipy.stats.ttest_ind(endom[graphingSite], serous[graphingSite]))\n",
    "sns.boxplot(x=clinical_attribute, y=graphingSite, data=clinical_and_acetylation, showfliers = False, \n",
    "            order=[\"Non_Tumor\", \"Endometrioid\", \"Serous\"])\n",
    "sns.stripplot(x=clinical_attribute, y=graphingSite, data=clinical_and_acetylation, color='.3', \n",
    "              order=[\"Non_Tumor\", \"Endometrioid\", \"Serous\"])\n",
    "plt.show()"
   ]
  },
  {
   "cell_type": "code",
   "execution_count": null,
   "metadata": {},
   "outputs": [],
   "source": []
  }
 ],
 "metadata": {
  "kernelspec": {
   "display_name": "Python 3",
   "language": "python",
   "name": "python3"
  },
  "language_info": {
   "codemirror_mode": {
    "name": "ipython",
    "version": 3
   },
   "file_extension": ".py",
   "mimetype": "text/x-python",
   "name": "python",
   "nbconvert_exporter": "python",
   "pygments_lexer": "ipython3",
   "version": "3.8.8"
  }
 },
 "nbformat": 4,
 "nbformat_minor": 4
}
