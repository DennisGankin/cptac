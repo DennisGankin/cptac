{
 "cells": [
  {
   "cell_type": "markdown",
   "metadata": {},
   "source": [
    "# Tutorial 1: CPTAC Data Introduction\n",
    "\n",
    "The National Cancer Institute’s Clinical Proteomic Tumor Analysis Consortium (CPTAC) is a national effort to accelerate the understanding of the molecular basis of cancer through the application of large-scale proteome and genome analysis, or proteogenomics. CPTAC generates comprehensive proteomics and genomics data from clinical cohorts, typically with ~100 samples per tumor type. The graphic below summarizes the structure of each CPTAC dataset. For more information, visit the [NIH website](https://proteomics.cancer.gov/programs/cptac). \n",
    "\n",
    "<img src=\"img/Graphical_Abstract.png\" alt=\"CPTAC cohort\" width=\"700\"/>\n",
    "\n",
    "This Python package makes accessing CPTAC data easy with Python code and Jupyter notebooks. The package contains several tutorials which demonstrate data access and usage. This first tutorial serves as an introduction to the data to help users become familiar with what is included and how it is presented."
   ]
  },
  {
   "cell_type": "markdown",
   "metadata": {},
   "source": [
    "## Data Overview\n",
    "\n",
    "Our package provides data access in a Python programming environment. If you have not installed Python or have not installed the package, see our installation documentation [here](https://paynelab.github.io/cptac/#installation).\n",
    "\n",
    "Once we have the package installed and we're in our Python environment, we begin by importing the package with a standard Python import statement:"
   ]
  },
  {
   "cell_type": "code",
   "execution_count": 1,
   "metadata": {},
   "outputs": [],
   "source": [
    "import cptac"
   ]
  },
  {
   "cell_type": "markdown",
   "metadata": {},
   "source": [
    "cptac data is broken down into datasets by cancer type. To view the available datasets, call the `cptac.get_cancer_options()` function:"
   ]
  },
  {
   "cell_type": "code",
   "execution_count": null,
   "metadata": {},
   "outputs": [],
   "source": [
    "\n"
   ]
  },
  {
   "cell_type": "markdown",
   "metadata": {},
   "source": [
    "## Data Availability\n",
    "The goals of CPTAC as a consortium include the broad and open dissemination of cancer proteogenomic data. The timing of a dataset's public release generally follows three stages: internal release to CPTAC investigators, public release with a publication embargo, and full public release. Each of the cancer types may be at a different data availability stage, depending on the date of data creation. In the Python `cptac` package, these three stages are dealt with as follows:\n",
    "\n",
    "**Internally released data** requires a password to download.\n",
    "\n",
    "**Embargoed release data** is publicly available, but prints an embargo statement every time you interact with the data.\n",
    "\n",
    "**Public data** is fully released without restrictions."
   ]
  },
  {
   "cell_type": "markdown",
   "metadata": {},
   "source": [
    "## Exploring the data\n",
    "\n",
    "`cptac` allows you to load the dataset into a Python variable, and you can use that variable to access and work with the data. To load a particular dataset into a variable, type the name you want to give the variable, followed by `=`, and then type `cptac.` and the name of the dataset in [UpperCamelCase](https://en.wikipedia.org/wiki/Camel_case) followed by two parentheses, e.g. `cptac.Ucec()` or `cptac.Ccrcc()`:"
   ]
  },
  {
   "cell_type": "code",
   "execution_count": 2,
   "metadata": {},
   "outputs": [],
   "source": [
    "en = cptac.Ucec()"
   ]
  },
  {
   "cell_type": "markdown",
   "metadata": {},
   "source": [
    "To see what data is available, use the `en.list_data_sources()` function. This displays the different types of data included in the dataset for this particular cancer type, each stored in a [pandas dataframe](https://pandas.pydata.org/pandas-docs/stable/getting_started/dsintro.html#dataframe)."
   ]
  },
  {
   "cell_type": "code",
   "execution_count": 3,
   "metadata": {},
   "outputs": [
    {
     "data": {
      "text/html": [
       "<div>\n",
       "<style scoped>\n",
       "    .dataframe tbody tr th:only-of-type {\n",
       "        vertical-align: middle;\n",
       "    }\n",
       "\n",
       "    .dataframe tbody tr th {\n",
       "        vertical-align: top;\n",
       "    }\n",
       "\n",
       "    .dataframe thead th {\n",
       "        text-align: right;\n",
       "    }\n",
       "</style>\n",
       "<table border=\"1\" class=\"dataframe\">\n",
       "  <thead>\n",
       "    <tr style=\"text-align: right;\">\n",
       "      <th></th>\n",
       "      <th>Data type</th>\n",
       "      <th>Available sources</th>\n",
       "    </tr>\n",
       "  </thead>\n",
       "  <tbody>\n",
       "    <tr>\n",
       "      <th>0</th>\n",
       "      <td>CNV</td>\n",
       "      <td>washu</td>\n",
       "    </tr>\n",
       "    <tr>\n",
       "      <th>1</th>\n",
       "      <td>circular_RNA</td>\n",
       "      <td>bcm</td>\n",
       "    </tr>\n",
       "    <tr>\n",
       "      <th>2</th>\n",
       "      <td>clinical</td>\n",
       "      <td>mssm</td>\n",
       "    </tr>\n",
       "    <tr>\n",
       "      <th>3</th>\n",
       "      <td>deconvolution_cibersort</td>\n",
       "      <td>washu</td>\n",
       "    </tr>\n",
       "    <tr>\n",
       "      <th>4</th>\n",
       "      <td>deconvolution_xcell</td>\n",
       "      <td>washu</td>\n",
       "    </tr>\n",
       "    <tr>\n",
       "      <th>5</th>\n",
       "      <td>miRNA</td>\n",
       "      <td>washu</td>\n",
       "    </tr>\n",
       "    <tr>\n",
       "      <th>6</th>\n",
       "      <td>phosphoproteomics</td>\n",
       "      <td>umich</td>\n",
       "    </tr>\n",
       "    <tr>\n",
       "      <th>7</th>\n",
       "      <td>proteomics</td>\n",
       "      <td>umich</td>\n",
       "    </tr>\n",
       "    <tr>\n",
       "      <th>8</th>\n",
       "      <td>somatic_mutation</td>\n",
       "      <td>harmonized, washu</td>\n",
       "    </tr>\n",
       "    <tr>\n",
       "      <th>9</th>\n",
       "      <td>transcriptomics</td>\n",
       "      <td>bcm, broad, washu</td>\n",
       "    </tr>\n",
       "    <tr>\n",
       "      <th>10</th>\n",
       "      <td>tumor_purity</td>\n",
       "      <td>washu</td>\n",
       "    </tr>\n",
       "  </tbody>\n",
       "</table>\n",
       "</div>"
      ],
      "text/plain": [
       "                  Data type  Available sources\n",
       "0                       CNV              washu\n",
       "1              circular_RNA                bcm\n",
       "2                  clinical               mssm\n",
       "3   deconvolution_cibersort              washu\n",
       "4       deconvolution_xcell              washu\n",
       "5                     miRNA              washu\n",
       "6         phosphoproteomics              umich\n",
       "7                proteomics              umich\n",
       "8          somatic_mutation  harmonized, washu\n",
       "9           transcriptomics  bcm, broad, washu\n",
       "10             tumor_purity              washu"
      ]
     },
     "execution_count": 3,
     "metadata": {},
     "output_type": "execute_result"
    }
   ],
   "source": [
    "en.list_data_sources()"
   ]
  },
  {
   "cell_type": "markdown",
   "metadata": {},
   "source": [
    "# Molecular Omics\n",
    "\n",
    "You'll notice that some datatypes have more than one source, usually named after the organization which generated the data. Since not all of this data has been publicly released yet, we will use 'awg' data in these tutorials. AWG stands for \"All Working Groups\" and was generated collaboratively by many different groups, albeit with some inconsistencies between datasets.\n",
    "\n",
    "Data can be accessed through the `get_dataframe` function, or through one of several helper \"get\" functions. For example, we can look at the proteomics data by using `en.get_proteomics()`. This returns a [pandas dataframe](https://pandas.pydata.org/pandas-docs/stable/getting_started/dsintro.html#dataframe) containing the proteomic data. Each column in the proteomics dataframe is the quantitiative measurement for a particular protein. Each row in the proteomics dataframe is a sample of either a tumor or non-tumor from a cancer patient."
   ]
  },
  {
   "cell_type": "code",
   "execution_count": 4,
   "metadata": {},
   "outputs": [
    {
     "name": "stdout",
     "output_type": "stream",
     "text": [
      "                                                  \r",
      "Samples: ['C3L-00006', 'C3L-00008', 'C3L-00032', 'C3L-00084', 'C3L-00090', 'C3L-00098', 'C3L-00136', 'C3L-00137', 'C3L-00139', 'C3L-00143', 'C3L-00145', 'C3L-00156', 'C3L-00157', 'C3L-00161', 'C3L-00356', 'C3L-00358', 'C3L-00361', 'C3L-00362', 'C3L-00413', 'C3L-00449']\n",
      "Proteins: [('ARF5', 'ENSP00000000233.5'), ('M6PR', 'ENSP00000000412.3'), ('ESRRA', 'ENSP00000000442.6'), ('FKBP4', 'ENSP00000001008.4'), ('NDUFAF7', 'ENSP00000002125.4'), ('FUCA2', 'ENSP00000002165.5'), ('DBNDD1', 'ENSP00000002501.6'), ('SEMA3F', 'ENSP00000002829.3'), ('CFTR', 'ENSP00000003084.6'), ('CYP51A1', 'ENSP00000003100.8'), ('USP28', 'ENSP00000003302.4'), ('SLC7A2', 'ENSP00000004531.10'), ('HSPB6', 'ENSP00000004982.3'), ('PDK4', 'ENSP00000005178.5'), ('USH1C', 'ENSP00000005226.7'), ('RALA', 'ENSP00000005257.2'), ('BAIAP2L1', 'ENSP00000005260.8'), ('TMEM132A', 'ENSP00000005286.4'), ('DVL2', 'ENSP00000005340.4'), ('RPAP3', 'ENSP00000005386.3')]\n"
     ]
    }
   ],
   "source": [
    "# These two methods of getting proteomics data are functionally equivalent:\n",
    "# get_dataframe needs at least two arguments: datatype, and source\n",
    "proteomics = en.get_dataframe('proteomics', 'umich')\n",
    "# there is also a get function for each datatype, this is the same as get_dataframe but does not need the datatype argument\n",
    "proteomics = en.get_proteomics('umich')\n",
    "\n",
    "samples = proteomics.index\n",
    "proteins = proteomics.columns\n",
    "print(\"Samples:\",samples[0:20].tolist()) #the first twenty samples\n",
    "print(\"Proteins:\",proteins[0:20].tolist()) #the first twenty proteins"
   ]
  },
  {
   "cell_type": "markdown",
   "metadata": {},
   "source": [
    "## Dataframe values\n",
    "\n",
    "Values in the dataframe are protein abundance values. Values that read \"NaN\" mean that particular sample from that patient had no data for that particular protein. For the awg endometrial CPTAC proteomics data, a TMT-reference channel strategy was used. A detailed description of this strategy can be found at [Nature Protocols](https://www.nature.com/articles/s41596-018-0006-9) and also at [PubMed Central](https://www.ncbi.nlm.nih.gov/pubmed/?term=29988108). This strategy ratios each sample's abundance to a pooled reference. The ratio is then log transformed. Therefore positive values indicate a measurement higher than the pooled reference; negative values are lower than the pooled reference."
   ]
  },
  {
   "cell_type": "code",
   "execution_count": 5,
   "metadata": {},
   "outputs": [
    {
     "data": {
      "text/html": [
       "<div>\n",
       "<style scoped>\n",
       "    .dataframe tbody tr th:only-of-type {\n",
       "        vertical-align: middle;\n",
       "    }\n",
       "\n",
       "    .dataframe tbody tr th {\n",
       "        vertical-align: top;\n",
       "    }\n",
       "\n",
       "    .dataframe thead tr th {\n",
       "        text-align: left;\n",
       "    }\n",
       "\n",
       "    .dataframe thead tr:last-of-type th {\n",
       "        text-align: right;\n",
       "    }\n",
       "</style>\n",
       "<table border=\"1\" class=\"dataframe\">\n",
       "  <thead>\n",
       "    <tr>\n",
       "      <th>Name</th>\n",
       "      <th>ARF5</th>\n",
       "      <th>M6PR</th>\n",
       "      <th>ESRRA</th>\n",
       "      <th>FKBP4</th>\n",
       "      <th>NDUFAF7</th>\n",
       "      <th>FUCA2</th>\n",
       "      <th>DBNDD1</th>\n",
       "      <th>SEMA3F</th>\n",
       "      <th>CFTR</th>\n",
       "      <th>CYP51A1</th>\n",
       "      <th>...</th>\n",
       "      <th>SCRIB</th>\n",
       "      <th>WIZ</th>\n",
       "      <th>BPIFB4</th>\n",
       "      <th>LDB1</th>\n",
       "      <th>WIZ</th>\n",
       "      <th>TSGA10</th>\n",
       "      <th>RFX7</th>\n",
       "      <th>SWSAP1</th>\n",
       "      <th>MSANTD2</th>\n",
       "      <th>SVIL</th>\n",
       "    </tr>\n",
       "    <tr>\n",
       "      <th>Database_ID</th>\n",
       "      <th>ENSP00000000233.5</th>\n",
       "      <th>ENSP00000000412.3</th>\n",
       "      <th>ENSP00000000442.6</th>\n",
       "      <th>ENSP00000001008.4</th>\n",
       "      <th>ENSP00000002125.4</th>\n",
       "      <th>ENSP00000002165.5</th>\n",
       "      <th>ENSP00000002501.6</th>\n",
       "      <th>ENSP00000002829.3</th>\n",
       "      <th>ENSP00000003084.6</th>\n",
       "      <th>ENSP00000003100.8</th>\n",
       "      <th>...</th>\n",
       "      <th>ENSP00000501177.1</th>\n",
       "      <th>ENSP00000501256.3</th>\n",
       "      <th>ENSP00000501266.1</th>\n",
       "      <th>ENSP00000501277.1</th>\n",
       "      <th>ENSP00000501300.1</th>\n",
       "      <th>ENSP00000501312.1</th>\n",
       "      <th>ENSP00000501317.1</th>\n",
       "      <th>ENSP00000501355.1</th>\n",
       "      <th>ENSP00000501466.1</th>\n",
       "      <th>ENSP00000501521.1</th>\n",
       "    </tr>\n",
       "    <tr>\n",
       "      <th>Patient_ID</th>\n",
       "      <th></th>\n",
       "      <th></th>\n",
       "      <th></th>\n",
       "      <th></th>\n",
       "      <th></th>\n",
       "      <th></th>\n",
       "      <th></th>\n",
       "      <th></th>\n",
       "      <th></th>\n",
       "      <th></th>\n",
       "      <th></th>\n",
       "      <th></th>\n",
       "      <th></th>\n",
       "      <th></th>\n",
       "      <th></th>\n",
       "      <th></th>\n",
       "      <th></th>\n",
       "      <th></th>\n",
       "      <th></th>\n",
       "      <th></th>\n",
       "      <th></th>\n",
       "    </tr>\n",
       "  </thead>\n",
       "  <tbody>\n",
       "    <tr>\n",
       "      <th>C3L-00006</th>\n",
       "      <td>-0.056513</td>\n",
       "      <td>0.016557</td>\n",
       "      <td>0.002569</td>\n",
       "      <td>0.389819</td>\n",
       "      <td>0.603610</td>\n",
       "      <td>-0.332543</td>\n",
       "      <td>-0.790426</td>\n",
       "      <td>NaN</td>\n",
       "      <td>0.822732</td>\n",
       "      <td>0.039134</td>\n",
       "      <td>...</td>\n",
       "      <td>0.161720</td>\n",
       "      <td>-0.884807</td>\n",
       "      <td>NaN</td>\n",
       "      <td>0.268247</td>\n",
       "      <td>0.125392</td>\n",
       "      <td>-0.880833</td>\n",
       "      <td>0.108554</td>\n",
       "      <td>0.107413</td>\n",
       "      <td>-0.085833</td>\n",
       "      <td>NaN</td>\n",
       "    </tr>\n",
       "    <tr>\n",
       "      <th>C3L-00008</th>\n",
       "      <td>0.549959</td>\n",
       "      <td>-0.206129</td>\n",
       "      <td>0.905784</td>\n",
       "      <td>-0.303631</td>\n",
       "      <td>0.018767</td>\n",
       "      <td>0.503513</td>\n",
       "      <td>0.950955</td>\n",
       "      <td>0.080142</td>\n",
       "      <td>NaN</td>\n",
       "      <td>-0.063213</td>\n",
       "      <td>...</td>\n",
       "      <td>NaN</td>\n",
       "      <td>0.054284</td>\n",
       "      <td>NaN</td>\n",
       "      <td>-0.106450</td>\n",
       "      <td>0.380557</td>\n",
       "      <td>-0.756099</td>\n",
       "      <td>0.264611</td>\n",
       "      <td>0.044423</td>\n",
       "      <td>-0.248319</td>\n",
       "      <td>-1.206596</td>\n",
       "    </tr>\n",
       "    <tr>\n",
       "      <th>C3L-00032</th>\n",
       "      <td>0.088681</td>\n",
       "      <td>-0.154447</td>\n",
       "      <td>-0.190515</td>\n",
       "      <td>0.170753</td>\n",
       "      <td>0.196356</td>\n",
       "      <td>0.544194</td>\n",
       "      <td>-0.179078</td>\n",
       "      <td>NaN</td>\n",
       "      <td>NaN</td>\n",
       "      <td>0.377405</td>\n",
       "      <td>...</td>\n",
       "      <td>-1.086905</td>\n",
       "      <td>0.055991</td>\n",
       "      <td>NaN</td>\n",
       "      <td>-0.021986</td>\n",
       "      <td>-0.229645</td>\n",
       "      <td>1.923986</td>\n",
       "      <td>NaN</td>\n",
       "      <td>-0.176694</td>\n",
       "      <td>-0.332384</td>\n",
       "      <td>-1.330653</td>\n",
       "    </tr>\n",
       "    <tr>\n",
       "      <th>C3L-00084</th>\n",
       "      <td>-0.846555</td>\n",
       "      <td>0.027740</td>\n",
       "      <td>NaN</td>\n",
       "      <td>0.178700</td>\n",
       "      <td>0.264054</td>\n",
       "      <td>-0.183548</td>\n",
       "      <td>0.077215</td>\n",
       "      <td>-0.247164</td>\n",
       "      <td>0.152277</td>\n",
       "      <td>-0.279549</td>\n",
       "      <td>...</td>\n",
       "      <td>-0.125796</td>\n",
       "      <td>0.944212</td>\n",
       "      <td>NaN</td>\n",
       "      <td>0.917409</td>\n",
       "      <td>0.026862</td>\n",
       "      <td>-0.885976</td>\n",
       "      <td>-0.006510</td>\n",
       "      <td>-0.014162</td>\n",
       "      <td>0.365158</td>\n",
       "      <td>NaN</td>\n",
       "    </tr>\n",
       "    <tr>\n",
       "      <th>C3L-00090</th>\n",
       "      <td>0.539019</td>\n",
       "      <td>0.956619</td>\n",
       "      <td>-0.039516</td>\n",
       "      <td>0.323656</td>\n",
       "      <td>0.064605</td>\n",
       "      <td>0.173433</td>\n",
       "      <td>-0.524325</td>\n",
       "      <td>-0.038590</td>\n",
       "      <td>-0.311486</td>\n",
       "      <td>0.309905</td>\n",
       "      <td>...</td>\n",
       "      <td>0.853362</td>\n",
       "      <td>-0.716947</td>\n",
       "      <td>NaN</td>\n",
       "      <td>-0.286277</td>\n",
       "      <td>-0.046076</td>\n",
       "      <td>0.089645</td>\n",
       "      <td>-0.444506</td>\n",
       "      <td>-0.072531</td>\n",
       "      <td>-0.463495</td>\n",
       "      <td>NaN</td>\n",
       "    </tr>\n",
       "  </tbody>\n",
       "</table>\n",
       "<p>5 rows × 12662 columns</p>\n",
       "</div>"
      ],
      "text/plain": [
       "Name                     ARF5              M6PR             ESRRA  \\\n",
       "Database_ID ENSP00000000233.5 ENSP00000000412.3 ENSP00000000442.6   \n",
       "Patient_ID                                                          \n",
       "C3L-00006           -0.056513          0.016557          0.002569   \n",
       "C3L-00008            0.549959         -0.206129          0.905784   \n",
       "C3L-00032            0.088681         -0.154447         -0.190515   \n",
       "C3L-00084           -0.846555          0.027740               NaN   \n",
       "C3L-00090            0.539019          0.956619         -0.039516   \n",
       "\n",
       "Name                    FKBP4           NDUFAF7             FUCA2  \\\n",
       "Database_ID ENSP00000001008.4 ENSP00000002125.4 ENSP00000002165.5   \n",
       "Patient_ID                                                          \n",
       "C3L-00006            0.389819          0.603610         -0.332543   \n",
       "C3L-00008           -0.303631          0.018767          0.503513   \n",
       "C3L-00032            0.170753          0.196356          0.544194   \n",
       "C3L-00084            0.178700          0.264054         -0.183548   \n",
       "C3L-00090            0.323656          0.064605          0.173433   \n",
       "\n",
       "Name                   DBNDD1            SEMA3F              CFTR  \\\n",
       "Database_ID ENSP00000002501.6 ENSP00000002829.3 ENSP00000003084.6   \n",
       "Patient_ID                                                          \n",
       "C3L-00006           -0.790426               NaN          0.822732   \n",
       "C3L-00008            0.950955          0.080142               NaN   \n",
       "C3L-00032           -0.179078               NaN               NaN   \n",
       "C3L-00084            0.077215         -0.247164          0.152277   \n",
       "C3L-00090           -0.524325         -0.038590         -0.311486   \n",
       "\n",
       "Name                  CYP51A1  ...             SCRIB               WIZ  \\\n",
       "Database_ID ENSP00000003100.8  ... ENSP00000501177.1 ENSP00000501256.3   \n",
       "Patient_ID                     ...                                       \n",
       "C3L-00006            0.039134  ...          0.161720         -0.884807   \n",
       "C3L-00008           -0.063213  ...               NaN          0.054284   \n",
       "C3L-00032            0.377405  ...         -1.086905          0.055991   \n",
       "C3L-00084           -0.279549  ...         -0.125796          0.944212   \n",
       "C3L-00090            0.309905  ...          0.853362         -0.716947   \n",
       "\n",
       "Name                   BPIFB4              LDB1               WIZ  \\\n",
       "Database_ID ENSP00000501266.1 ENSP00000501277.1 ENSP00000501300.1   \n",
       "Patient_ID                                                          \n",
       "C3L-00006                 NaN          0.268247          0.125392   \n",
       "C3L-00008                 NaN         -0.106450          0.380557   \n",
       "C3L-00032                 NaN         -0.021986         -0.229645   \n",
       "C3L-00084                 NaN          0.917409          0.026862   \n",
       "C3L-00090                 NaN         -0.286277         -0.046076   \n",
       "\n",
       "Name                   TSGA10              RFX7            SWSAP1  \\\n",
       "Database_ID ENSP00000501312.1 ENSP00000501317.1 ENSP00000501355.1   \n",
       "Patient_ID                                                          \n",
       "C3L-00006           -0.880833          0.108554          0.107413   \n",
       "C3L-00008           -0.756099          0.264611          0.044423   \n",
       "C3L-00032            1.923986               NaN         -0.176694   \n",
       "C3L-00084           -0.885976         -0.006510         -0.014162   \n",
       "C3L-00090            0.089645         -0.444506         -0.072531   \n",
       "\n",
       "Name                  MSANTD2              SVIL  \n",
       "Database_ID ENSP00000501466.1 ENSP00000501521.1  \n",
       "Patient_ID                                       \n",
       "C3L-00006           -0.085833               NaN  \n",
       "C3L-00008           -0.248319         -1.206596  \n",
       "C3L-00032           -0.332384         -1.330653  \n",
       "C3L-00084            0.365158               NaN  \n",
       "C3L-00090           -0.463495               NaN  \n",
       "\n",
       "[5 rows x 12662 columns]"
      ]
     },
     "execution_count": 5,
     "metadata": {},
     "output_type": "execute_result"
    }
   ],
   "source": [
    "proteomics.head()"
   ]
  },
  {
   "cell_type": "markdown",
   "metadata": {},
   "source": [
    "As seen in `en.list_data_sources()`, other omics data are also available (e.g. transcriptomics, copy number variation, phoshoproteomics).\n",
    "\n",
    "The transcriptomics looks almost identical to the proteomics data, available in a pandas dataframe with the same convention. Each set of samples is consistent, meaning samples found in the endometrial proteomics data will be the same samples in all other endometrial dataframes."
   ]
  },
  {
   "cell_type": "code",
   "execution_count": null,
   "metadata": {},
   "outputs": [
    {
     "name": "stdout",
     "output_type": "stream",
     "text": [
      "Checking that washu_ucec index is up-to-date...\r",
      "                                               \r"
     ]
    }
   ],
   "source": [
    "transcriptomics = en.get_transcriptomics('washu')\n",
    "transcriptomics.head()"
   ]
  },
  {
   "cell_type": "markdown",
   "metadata": {},
   "source": [
    "# Clinical Data\n",
    "\n",
    "The clinical dataframe lists clinical information for the patient associated with each sample (e.g. age, race, diabetes status, tumor size). "
   ]
  },
  {
   "cell_type": "code",
   "execution_count": null,
   "metadata": {},
   "outputs": [],
   "source": [
    "clinical = en.get_clinical('awg')\n",
    "clinical.head()"
   ]
  },
  {
   "cell_type": "markdown",
   "metadata": {},
   "source": [
    "In addition to donating a tumor sample, some patients also had a normal sample taken for control and comparison. We can identify these samples by looking for samples marked \"Normal\" in the \"Sample_Tumor_Normal\" column, and whose Patient IDs are the same as the Patient IDs of tumor samples, but with a \".N\" appended to the ID. For example, patient C3L-00006 provided both a tumor sample (marked C3L-00006) and a normal sample (marked C3L-00006.N). Note that the normal samples do not have many values in the clinical columns, because much of the information does not apply to non-tumor samples. Additionally, in cases where a column would have identical values for tumor and normal samples from the same patient (e.g., patient age and gender), the information is recorded only for the tumor sample."
   ]
  },
  {
   "cell_type": "code",
   "execution_count": null,
   "metadata": {},
   "outputs": [],
   "source": [
    "clinical.loc[[\"C3L-00006\",\"C3L-00361\",\"C3L-01246\", \"C3L-00006.N\",\"C3L-00361.N\",\"C3L-01246.N\"]]"
   ]
  },
  {
   "cell_type": "markdown",
   "metadata": {},
   "source": [
    "# Mutation data\n",
    "\n",
    "Each cancer dataset contains mutation data for the cohort. The data consists of all somatic mutations found for each sample (meaning there will be many lines for each sample). Each row lists the specific gene that was mutated, the type of mutation, and the location of the mutation. This data is a direct import of a MAF file."
   ]
  },
  {
   "cell_type": "code",
   "execution_count": null,
   "metadata": {},
   "outputs": [],
   "source": [
    "somatic_mutations = en.get_somatic_mutation('awg')\n",
    "somatic_mutations.head()"
   ]
  },
  {
   "cell_type": "markdown",
   "metadata": {},
   "source": [
    "# Exporting dataframes\n",
    "\n",
    "If you wish to export a dataframe to a file, simply call the dataframe's `to_csv` method, passing the path you wish to save the file to, and the value separator you want:"
   ]
  },
  {
   "cell_type": "code",
   "execution_count": null,
   "metadata": {},
   "outputs": [],
   "source": [
    "clinical = en.get_clinical('awg')\n",
    "clinical.to_csv(path_or_buf=\"clinical_dataframe.tsv\", sep='\\t')"
   ]
  },
  {
   "cell_type": "markdown",
   "metadata": {},
   "source": [
    "## Downloading data\n",
    "\n",
    "The cptac package stores the data files for each dataset on a remote server. When you first install cptac, you will have no data files. Data files will be automatically downloaded the first time you try to use them. If you won't have internet access and need to download the files beforehand, that can be done with the `cptac.download` function:"
   ]
  },
  {
   "cell_type": "code",
   "execution_count": null,
   "metadata": {},
   "outputs": [],
   "source": [
    "cptac.download({\"awg\": [\"proteomics\"]})"
   ]
  },
  {
   "cell_type": "markdown",
   "metadata": {},
   "source": [
    "# Getting help with a dataset or function\n",
    "\n",
    "To view the documentation for a dataset, pass it to the Python `help` function, e.g. `help(en)`. You can also view the documentation for just a specific function: `help(en.join_omics_to_omics)`."
   ]
  },
  {
   "cell_type": "code",
   "execution_count": null,
   "metadata": {},
   "outputs": [],
   "source": [
    "help(en.join_omics_to_omics)"
   ]
  }
 ],
 "metadata": {
  "kernelspec": {
   "display_name": "Python 3 (ipykernel)",
   "language": "python",
   "name": "python3"
  },
  "language_info": {
   "codemirror_mode": {
    "name": "ipython",
    "version": 3
   },
   "file_extension": ".py",
   "mimetype": "text/x-python",
   "name": "python",
   "nbconvert_exporter": "python",
   "pygments_lexer": "ipython3",
   "version": "3.9.13"
  }
 },
 "nbformat": 4,
 "nbformat_minor": 4
}
