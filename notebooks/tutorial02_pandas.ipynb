{
 "cells": [
  {
   "cell_type": "markdown",
   "metadata": {},
   "source": [
    "# Tutorial 2: Accessing dataframes and using them with `pandas` \n",
    "\n",
    "A large portion of this package utilizes the functionality of pandas dataframes. Here we give a few specific instances of using dataframes with our package. For a more general overview of dataframes, see pandas [documentation](https://pandas.pydata.org/pandas-docs/stable/reference/api/pandas.DataFrame.html) and [tutorials](https://www.datacamp.com/community/tutorials/pandas-tutorial-dataframe-python)."
   ]
  },
  {
   "cell_type": "markdown",
   "metadata": {},
   "source": [
    "## How do I install the package?\n",
    "\n",
    "Install the package from the [Python Package Index (PyPI)](https://pypi.org/project/cptac/) in the command line using the [pip package installer](https://pypi.org/project/pip/), with the name of the package:\n",
    "\n",
    "`pip install cptac`"
   ]
  },
  {
   "cell_type": "markdown",
   "metadata": {},
   "source": [
    "## How do I import the package once it has been installed?\n",
    "\n",
    "The cptac package has several cancer data sets. First import the entire package by entering the following:\n",
    "\n",
    "`import cptac`\n",
    "\n",
    "The data in the package is broken into specific cancer types. All available types can be seen with the command `cptac.list_cancer_options()`\n",
    "\n",
    "To get a data for a cancer, load the dataset object and assign it to a variable, like this:\n",
    "\n",
    "`en = cptac.Ucec()`\n"
   ]
  },
  {
   "cell_type": "code",
   "execution_count": 1,
   "metadata": {},
   "outputs": [],
   "source": [
    "import cptac\n",
    "en = cptac.Ucec()"
   ]
  },
  {
   "cell_type": "markdown",
   "metadata": {},
   "source": [
    "## Can I use multiple datasets at the same time?\n",
    "\n",
    "You can have multiple datasets loaded at the same time, just assign each one to its own variable."
   ]
  },
  {
   "cell_type": "code",
   "execution_count": null,
   "metadata": {},
   "outputs": [],
   "source": [
    "ov = cptac.Ov()\n",
    "co = cptac.Coad()"
   ]
  },
  {
   "cell_type": "markdown",
   "metadata": {},
   "source": [
    "**NOTE: When using multiple data sets, be sure to check that each function used matches the expected data set, as each data set uses the same API.** For example, the command for retrieving clinical data is `get_clinical()` for all data sets, so make sure not to retrieve ovarian clinical data `ov.get_clinical()` when you meant to get the endometrial clinical data `en.get_clinical()`."
   ]
  },
  {
   "cell_type": "markdown",
   "metadata": {},
   "source": [
    "## How do I access a particular dataframe?\n",
    "\n",
    "You can access a specific dataframe by calling the dataset's `get_dataframe` method and passing in a datatype and source. There are also helper \"get\" methods for each datatype, for example `get_clinical`, which works the same as `get_dataframe` but does not require the datatype parameter. (To see all available dataframes, call the dataset's `list_data_sources` function, e.g. `en.list_data_sources()`.)"
   ]
  },
  {
   "cell_type": "code",
   "execution_count": null,
   "metadata": {},
   "outputs": [],
   "source": [
    "ov.list_data_sources()"
   ]
  },
  {
   "cell_type": "code",
   "execution_count": null,
   "metadata": {},
   "outputs": [],
   "source": [
    "proteomics = en.get_proteomics('umich')\n",
    "proteomics.head()"
   ]
  },
  {
   "cell_type": "markdown",
   "metadata": {},
   "source": [
    "## How do I access specific columns in a dataframe?\n",
    "\n",
    "You'll probably want to get a feel for what data is in the dataframes you load. For example, say we want to know what kind of data is included in our proteomics dataframe. Each column in that dataframe contains the proteomics data for a different protein.\n",
    "\n",
    "You can view a list of column names (which is a list of protein names, in the case of the proteomics dataframe) by appending `.columns` to the end of a dataframe variable. (If you wish to see all of the column names, even if there are a lot, append `.columns.values` to the dataframe variable.)"
   ]
  },
  {
   "cell_type": "code",
   "execution_count": null,
   "metadata": {},
   "outputs": [],
   "source": [
    "proteomics.columns"
   ]
  },
  {
   "cell_type": "markdown",
   "metadata": {},
   "source": [
    "To access specific column (which is a specific protein's data, in the case of the proteomics dataframe), slice the column out of the dataframe using either of the following methods:\n",
    "\n",
    "`proteomics[\"A1BG\"]`\n",
    "\n",
    "or\n",
    "\n",
    "`proteomics.A1BG`\n",
    "\n",
    "Both return the column as a [pandas series](https://pandas.pydata.org/pandas-docs/stable/reference/api/pandas.Series.html). The first method is useful when the name of the column you want is stored as a string variable."
   ]
  },
  {
   "cell_type": "code",
   "execution_count": null,
   "metadata": {},
   "outputs": [],
   "source": [
    "protein = \"A1BG\"\n",
    "A1BG_col = proteomics[protein]\n",
    "A1BG_col.head()"
   ]
  },
  {
   "cell_type": "markdown",
   "metadata": {},
   "source": [
    "This `dataframe[\"col_name\"]` syntax also allows for selection of multiple columns by entering a list of column names."
   ]
  },
  {
   "cell_type": "code",
   "execution_count": null,
   "metadata": {},
   "outputs": [],
   "source": [
    "proteins = [\"A1BG\",\"PTEN\",\"TP53\"]\n",
    "selected_prot = proteomics[proteins]\n",
    "selected_prot.head()"
   ]
  },
  {
   "cell_type": "markdown",
   "metadata": {},
   "source": [
    "## How do I access specific rows in a dataframe?\n",
    "\n",
    "You can access specific rows in a dataframe (which are specific samples, in the case of the CPTAC data) using the dataframe's `.iloc` (by row number) or `.loc` (by row name) method, which both return a pandas Series if you select one row, and a pandas DataFrame if you select multiple rows."
   ]
  },
  {
   "cell_type": "code",
   "execution_count": null,
   "metadata": {},
   "outputs": [],
   "source": [
    "proteomics.iloc[0:5]"
   ]
  },
  {
   "cell_type": "code",
   "execution_count": null,
   "metadata": {},
   "outputs": [],
   "source": [
    "S001_row = proteomics.loc[\"C3L-00006\"]\n",
    "S001_row.head()"
   ]
  },
  {
   "cell_type": "markdown",
   "metadata": {},
   "source": [
    "## How do I access specific rows and columns?\n",
    "\n",
    "In addition to selecting specific rows, you can also use `.loc` to select a subset of rows and columns, using lists."
   ]
  },
  {
   "cell_type": "code",
   "execution_count": null,
   "metadata": {},
   "outputs": [],
   "source": [
    "samples = [\"C3L-00006\",\"C3L-00032\",\"C3L-00413\"]\n",
    "proteins = [\"A1BG\",\"PTEN\",\"TP53\"]\n",
    "proteomics.loc[samples, proteins]"
   ]
  },
  {
   "cell_type": "markdown",
   "metadata": {},
   "source": [
    "## How can I search using conditional statements?\n",
    "\n",
    "There are a variety of ways to use boolean statements to traverse a dataframe. A common way is to pass a boolean statement that selects the data you want to the `.loc` function. For example, if we want to see all the data for samples that have a positive protein expression level for the A1BG protein, we would pass the `.loc` function the boolean statement asking for rows containing values above zero for the A1BG column. "
   ]
  },
  {
   "cell_type": "markdown",
   "metadata": {},
   "source": [
    "`.loc` has many functionalities. For a full list, see pandas documentation for [.loc](https://pandas.pydata.org/pandas-docs/stable/reference/api/pandas.DataFrame.loc.html) and [indexing and slicing](https://pandas.pydata.org/pandas-docs/stable/user_guide/indexing.html)."
   ]
  },
  {
   "cell_type": "code",
   "execution_count": null,
   "metadata": {},
   "outputs": [],
   "source": [
    "a1bg_positive = proteomics.loc[proteomics[\"A1BG\"] > 0]\n",
    "a1bg_positive.head()"
   ]
  },
  {
   "cell_type": "markdown",
   "metadata": {},
   "source": [
    "For another example, suppose we wanted to separate clinical information for samples that are serous vs. endometrioid, as recorded in the \"Histologic_type\" column."
   ]
  },
  {
   "cell_type": "code",
   "execution_count": null,
   "metadata": {},
   "outputs": [],
   "source": [
    "clinical = en.get_clinical(\"awg\")\n",
    "endometrioid_clinical = clinical.loc[clinical[\"Histologic_type\"] == \"Endometrioid\"]\n",
    "serous_clinical = clinical.loc[clinical[\"Histologic_type\"] == \"Serous\"]"
   ]
  },
  {
   "cell_type": "code",
   "execution_count": null,
   "metadata": {},
   "outputs": [],
   "source": [
    "endometrioid_clinical.head()"
   ]
  },
  {
   "cell_type": "code",
   "execution_count": null,
   "metadata": {},
   "outputs": [],
   "source": [
    "serous_clinical.head()"
   ]
  },
  {
   "cell_type": "markdown",
   "metadata": {},
   "source": [
    "## How do I export a dataframe to a file?\n",
    "\n",
    "If you wish to export a dataframe to a file, call the dataframe's built-in `to_csv` method, specifying the path you wish to save to, and the separator you wish to use:"
   ]
  },
  {
   "cell_type": "code",
   "execution_count": null,
   "metadata": {},
   "outputs": [],
   "source": [
    "clinical = en.get_clinical('awg')\n",
    "clinical.to_csv(path_or_buf=\"clinical_df.tsv\", sep='\\t')"
   ]
  }
 ],
 "metadata": {
  "kernelspec": {
   "display_name": "Python 3 (ipykernel)",
   "language": "python",
   "name": "python3"
  },
  "language_info": {
   "codemirror_mode": {
    "name": "ipython",
    "version": 3
   },
   "file_extension": ".py",
   "mimetype": "text/x-python",
   "name": "python",
   "nbconvert_exporter": "python",
   "pygments_lexer": "ipython3",
   "version": "3.9.12"
  }
 },
 "nbformat": 4,
 "nbformat_minor": 4
}
