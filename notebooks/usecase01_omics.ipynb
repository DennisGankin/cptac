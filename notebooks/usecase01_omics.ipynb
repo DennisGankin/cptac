{
 "cells": [
  {
   "cell_type": "markdown",
   "metadata": {},
   "source": [
    "# Use Case 1: Comparing Omics Data"
   ]
  },
  {
   "cell_type": "markdown",
   "metadata": {},
   "source": [
    "## Step 1: Importing packages and setting up your notebook.\n",
    "\n",
    "This use case will guide you through basic features of our package, including importing the package and loading the data, interacting with the dataframes, and producing a basic scatterplot comparing proteomics and transcriptomics for a given gene. We will begin by importing standard data analysis libraries."
   ]
  },
  {
   "cell_type": "code",
   "execution_count": 1,
   "metadata": {},
   "outputs": [],
   "source": [
    "import pandas as pd\n",
    "import numpy as np\n",
    "import matplotlib.pyplot as plt\n",
    "import seaborn as sns"
   ]
  },
  {
   "cell_type": "markdown",
   "metadata": {},
   "source": [
    "Next, we will import the cptac package, and load the Endometrial dataset object. This dataset object includes functions that allow the user to access and perform basic operations on the data from the endometrial cancer patients."
   ]
  },
  {
   "cell_type": "code",
   "execution_count": 2,
   "metadata": {
    "tags": []
   },
   "outputs": [
    {
     "data": {
      "text/plain": [
       "['__doc__',\n",
       " '__file__',\n",
       " '__loader__',\n",
       " '__name__',\n",
       " '__package__',\n",
       " '__path__',\n",
       " '__spec__']"
      ]
     },
     "execution_count": 2,
     "metadata": {},
     "output_type": "execute_result"
    }
   ],
   "source": [
    "import cptac\n",
    "# import cptac.utils as ut\n",
    "dir(cptac)\n",
    "# en = cptac.Ucec()"
   ]
  },
  {
   "cell_type": "markdown",
   "metadata": {},
   "source": [
    "## Step 2: Joining dataframes\n",
    "\n",
    "Now that we've imported the package and loaded the data, we can begin to extract the data we need. In this use case, we want to compare the proteomics and transcriptomics data from the endometrial cancer patients for the A1BG gene. For a full list of available data, enter `en.list_data_sources()`. For a full list of functions available for accessing and manipulating the data, enter `help(en)`. To access documentation for a specific function, pass it to the help() function, e.g. `help(en.multi_join)`.\n",
    "\n",
    "We use the `en.multi_join()` function to join the A1BG columns from the proteomics and transcriptomics dataframes into a single dataframe."
   ]
  },
  {
   "cell_type": "code",
   "execution_count": 3,
   "metadata": {},
   "outputs": [
    {
     "ename": "NameError",
     "evalue": "name 'en' is not defined",
     "output_type": "error",
     "traceback": [
      "\u001b[0;31m---------------------------------------------------------------------------\u001b[0m",
      "\u001b[0;31mNameError\u001b[0m                                 Traceback (most recent call last)",
      "Cell \u001b[0;32mIn [3], line 1\u001b[0m\n\u001b[0;32m----> 1\u001b[0m A1BG_cross \u001b[38;5;241m=\u001b[39m en\u001b[38;5;241m.\u001b[39mmulti_join({\u001b[38;5;124m\"\u001b[39m\u001b[38;5;124mawg proteomics\u001b[39m\u001b[38;5;124m\"\u001b[39m: \u001b[38;5;124m\"\u001b[39m\u001b[38;5;124mA1BG\u001b[39m\u001b[38;5;124m\"\u001b[39m, \u001b[38;5;124m\"\u001b[39m\u001b[38;5;124mawg transcriptomics\u001b[39m\u001b[38;5;124m\"\u001b[39m: \u001b[38;5;124m\"\u001b[39m\u001b[38;5;124mA1BG\u001b[39m\u001b[38;5;124m\"\u001b[39m})\n\u001b[1;32m      2\u001b[0m A1BG_cross\u001b[38;5;241m.\u001b[39mhead()\n",
      "\u001b[0;31mNameError\u001b[0m: name 'en' is not defined"
     ]
    }
   ],
   "source": [
    "A1BG_cross = en.multi_join({\"awg proteomics\": \"A1BG\", \"awg transcriptomics\": \"A1BG\"})\n",
    "A1BG_cross.head()"
   ]
  },
  {
   "cell_type": "markdown",
   "metadata": {},
   "source": [
    "## Step 3: Plot data\n",
    "\n",
    "Finally, we will plot the transcriptomics data against the proteomics data. We use the Seaborn library for our tutorials, but you can get similar results using matplotlib.pyplot. The first plot we will make (for the A1BG gene) has a positive correlation between the proteomics and transcriptomics data."
   ]
  },
  {
   "cell_type": "code",
   "execution_count": null,
   "metadata": {},
   "outputs": [],
   "source": [
    "sns.set(style=\"darkgrid\")\n",
    "plot = sns.regplot(x=A1BG_cross.columns[0], y=A1BG_cross.columns[1], \n",
    "                   data=A1BG_cross)\n",
    "plot.set(xlabel='Proteomics', ylabel='Transcriptomics', \n",
    "         title='Proteomics vs. Transcriptomics for the A1BG gene')\n",
    "plt.show()"
   ]
  },
  {
   "cell_type": "markdown",
   "metadata": {},
   "source": [
    "## Step 4: Plot more data\n",
    "\n",
    "This exploratory task of examining the correlation between mRNA and protein abundance can be easily done for many genes. Here's another example with a ribosomal protein 'RPL11', which notably has a slightly negative correlation."
   ]
  },
  {
   "cell_type": "code",
   "execution_count": null,
   "metadata": {},
   "outputs": [],
   "source": [
    "gene = 'RPL11'\n",
    "gene_cross = en.multi_join({\"awg proteomics\": gene, \"awg transcriptomics\": gene});\n",
    "plot = sns.regplot(x=gene_cross.columns[0], y=gene_cross.columns[1], data=gene_cross, color=\"green\")\n",
    "plot.set(xlabel='Proteomics', ylabel='Transcriptomics', \n",
    "         title='Proteomics vs. Transcriptomics for the ' + gene + ' gene')\n",
    "plt.show()"
   ]
  },
  {
   "cell_type": "markdown",
   "metadata": {},
   "source": [
    "## Step 5: Repeat with the Ovarian dataset\n",
    "\n",
    "The cptac package uses the same API to present data from many different cancer types. Here we repeat the above exploratory analysis on ovarian cancer for the protein PTEN."
   ]
  },
  {
   "cell_type": "code",
   "execution_count": null,
   "metadata": {},
   "outputs": [],
   "source": [
    "ov = cptac.Ov()\n",
    "ovarian_cross = ov.multi_join({\"awg proteomics\": \"PTEN\", \"awg transcriptomics\": \"PTEN\"})\n",
    "\n",
    "# Use cptac.utils.reduce_multiindex to get rid of a level we don't need from the column index\n",
    "ovarian_cross = ut.reduce_multiindex(ovarian_cross, levels_to_drop=\"Database_ID\")\n",
    "\n",
    "sns.set(style=\"darkgrid\")\n",
    "plot = sns.regplot(x=ovarian_cross.columns[0], y=ovarian_cross.columns[1], data=ovarian_cross)\n",
    "plot.set(xlabel='Proteomics', ylabel='Transcriptomics', title='Proteomics vs. Transcriptomics for the PTEN gene')\n",
    "plt.show()"
   ]
  },
  {
   "cell_type": "markdown",
   "metadata": {},
   "source": [
    "## Step 6: Repeat with the Colon dataset\n",
    "\n",
    "We will also demonstrate how to go through this same process for the Colon dataset."
   ]
  },
  {
   "cell_type": "code",
   "execution_count": null,
   "metadata": {},
   "outputs": [],
   "source": [
    "co = cptac.Coad()\n",
    "source = 'awg'\n",
    "colon_cross = co.join_omics_to_omics(df1_name=\"proteomics\", df2_name=\"transcriptomics\",\n",
    "                                     df1_source=source, df2_source=source,\n",
    "                                     genes1=\"SOX9\", genes2=\"SOX9\")\n",
    "\n",
    "sns.set(style=\"darkgrid\")\n",
    "plot = sns.regplot(x=colon_cross.columns[0], y=colon_cross.columns[1], data=colon_cross)\n",
    "plot.set(xlabel='Proteomics', ylabel='Transcriptomics', title='Proteomics vs. Transcriptomics for the SOX9 gene')\n",
    "plt.show()"
   ]
  }
 ],
 "metadata": {
  "kernelspec": {
   "display_name": "Python 3 (ipykernel)",
   "language": "python",
   "name": "python3"
  },
  "language_info": {
   "codemirror_mode": {
    "name": "ipython",
    "version": 3
   },
   "file_extension": ".py",
   "mimetype": "text/x-python",
   "name": "python",
   "nbconvert_exporter": "python",
   "pygments_lexer": "ipython3",
   "version": "3.10.6"
  }
 },
 "nbformat": 4,
 "nbformat_minor": 4
}
