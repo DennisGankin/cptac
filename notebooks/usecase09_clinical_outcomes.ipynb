{
 "cells": [
  {
   "cell_type": "markdown",
   "metadata": {},
   "source": [
    "# Use Case 9: Survival Analysis of Ovarian Cancer--PODXL, RAC2, and Tumor Stage\n",
    "\n",
    "Through modern statistical methods, we can determine survival risk based on a variety of factors.  In this tutorial, we will walk through a small example of something you could do with our data to understand what factors relate with survival in various different types of cancer.  In this use case, we will be looking at Ovarian Cancer."
   ]
  },
  {
   "cell_type": "markdown",
   "metadata": {},
   "source": [
    "## Step 1: Import Data and Dependencies"
   ]
  },
  {
   "cell_type": "code",
   "execution_count": 1,
   "metadata": {},
   "outputs": [],
   "source": [
    "import pandas as pd\n",
    "import cptac\n",
    "import cptac.utils as ut\n",
    "import numpy as np\n",
    "import matplotlib.pyplot as plt\n",
    "import seaborn as sns\n",
    "import scipy\n",
    "import lifelines\n",
    "from lifelines import KaplanMeierFitter\n",
    "from lifelines import CoxPHFitter\n",
    "from lifelines.statistics import proportional_hazard_test\n",
    "%matplotlib inline"
   ]
  },
  {
   "cell_type": "code",
   "execution_count": 2,
   "metadata": {},
   "outputs": [],
   "source": [
    "ov = cptac.Ov()\n",
    "clinical = ov.get_clinical('mssm')\n",
    "proteomics = ov.get_proteomics('umich')\n",
    "follow_up = ov.get_followup('mssm')"
   ]
  },
  {
   "cell_type": "markdown",
   "metadata": {},
   "source": [
    "## Step 2: Gather Data from CPTAC API\n",
    "The Ovarian cancer dataset contains months of follow-up data, including whether a patient is still alive (Survival Status) at each follow-up period.  We will first merge the clinical and follow-up tables together for analysis. Then we will choose a few attributes to focus on, and narrow our dataframe to those attributes. While you could study a wide variety of factors related to survival, we will be focusing on tumor stage, grade and a proteins of interest listed below in *omics_genes*."
   ]
  },
  {
   "cell_type": "markdown",
   "metadata": {},
   "source": [
    "First we will join the *clinical* and *proteomics* dataframes to contain protein data for proteins of interest, and clinical data for each patient in the same dataframe."
   ]
  },
  {
   "cell_type": "code",
   "execution_count": 3,
   "metadata": {},
   "outputs": [],
   "source": [
    "cols = list(clinical.columns)\n",
    "omics_genes = ['RAC2', 'PODXL']\n",
    "\n",
    "clinical_and_protein = ov.join_metadata_to_omics(metadata_name=\"clinical\",\n",
    "                                                 metadata_source=\"mssm\",\n",
    "                                                 metadata_cols=cols,\n",
    "                                                 omics_name=\"proteomics\",\n",
    "                                                 omics_source=\"umich\",\n",
    "                                                 omics_genes=omics_genes)"
   ]
  },
  {
   "cell_type": "markdown",
   "metadata": {},
   "source": [
    "Next, we will rename the foreign key (\"PPID\" -> \"Patient_ID\") on the follow_up table to allow us to easily join that data with the dataframe of clinical and protein data"
   ]
  },
  {
   "cell_type": "code",
   "execution_count": 4,
   "metadata": {},
   "outputs": [
    {
     "data": {
      "text/html": [
       "<div>\n",
       "<style scoped>\n",
       "    .dataframe tbody tr th:only-of-type {\n",
       "        vertical-align: middle;\n",
       "    }\n",
       "\n",
       "    .dataframe tbody tr th {\n",
       "        vertical-align: top;\n",
       "    }\n",
       "\n",
       "    .dataframe thead th {\n",
       "        text-align: right;\n",
       "    }\n",
       "</style>\n",
       "<table border=\"1\" class=\"dataframe\">\n",
       "  <thead>\n",
       "    <tr style=\"text-align: right;\">\n",
       "      <th>Name</th>\n",
       "      <th>tumor_code</th>\n",
       "      <th>discovery_study</th>\n",
       "      <th>type_of_analyzed_samples_mssm_clinical</th>\n",
       "      <th>type_of_analyzed_samples_mssm_clinical</th>\n",
       "      <th>confirmatory_study</th>\n",
       "      <th>age</th>\n",
       "      <th>sex</th>\n",
       "      <th>race</th>\n",
       "      <th>ethnicity</th>\n",
       "      <th>ethnicity_race_ancestry_identified</th>\n",
       "      <th>...</th>\n",
       "      <th>number_of_days_from_date_of_initial_pathologic_diagnosis_to_date_of_additional_surgery_for_new_tumor_event_loco-regional</th>\n",
       "      <th>number_of_days_from_date_of_initial_pathologic_diagnosis_to_date_of_additional_surgery_for_new_tumor_event_metastasis</th>\n",
       "      <th>Recurrence-free survival, days</th>\n",
       "      <th>Recurrence-free survival from collection, days</th>\n",
       "      <th>Recurrence status (1, yes; 0, no)</th>\n",
       "      <th>Overall survival, days</th>\n",
       "      <th>Overall survival from collection, days</th>\n",
       "      <th>Survival status (1, dead; 0, alive)</th>\n",
       "      <th>RAC2_umich_proteomics</th>\n",
       "      <th>PODXL_umich_proteomics</th>\n",
       "    </tr>\n",
       "    <tr>\n",
       "      <th>Patient_ID</th>\n",
       "      <th></th>\n",
       "      <th></th>\n",
       "      <th></th>\n",
       "      <th></th>\n",
       "      <th></th>\n",
       "      <th></th>\n",
       "      <th></th>\n",
       "      <th></th>\n",
       "      <th></th>\n",
       "      <th></th>\n",
       "      <th></th>\n",
       "      <th></th>\n",
       "      <th></th>\n",
       "      <th></th>\n",
       "      <th></th>\n",
       "      <th></th>\n",
       "      <th></th>\n",
       "      <th></th>\n",
       "      <th></th>\n",
       "      <th></th>\n",
       "      <th></th>\n",
       "    </tr>\n",
       "  </thead>\n",
       "  <tbody>\n",
       "    <tr>\n",
       "      <th>01OV002</th>\n",
       "      <td>OV</td>\n",
       "      <td>Yes</td>\n",
       "      <td>NaN</td>\n",
       "      <td>NaN</td>\n",
       "      <td>NaN</td>\n",
       "      <td>45</td>\n",
       "      <td>Female</td>\n",
       "      <td>White</td>\n",
       "      <td>Not Hispanic or Latino</td>\n",
       "      <td>NaN</td>\n",
       "      <td>...</td>\n",
       "      <td>NaN</td>\n",
       "      <td>NaN</td>\n",
       "      <td>NaN</td>\n",
       "      <td>NaN</td>\n",
       "      <td>0.0</td>\n",
       "      <td>415.0</td>\n",
       "      <td>NaN</td>\n",
       "      <td>0.0</td>\n",
       "      <td>NaN</td>\n",
       "      <td>NaN</td>\n",
       "    </tr>\n",
       "    <tr>\n",
       "      <th>01OV007</th>\n",
       "      <td>OV</td>\n",
       "      <td>Yes</td>\n",
       "      <td>NaN</td>\n",
       "      <td>NaN</td>\n",
       "      <td>NaN</td>\n",
       "      <td>68</td>\n",
       "      <td>Female</td>\n",
       "      <td>White</td>\n",
       "      <td>Not Hispanic or Latino</td>\n",
       "      <td>NaN</td>\n",
       "      <td>...</td>\n",
       "      <td>NaN</td>\n",
       "      <td>NaN</td>\n",
       "      <td>NaN</td>\n",
       "      <td>NaN</td>\n",
       "      <td>0.0</td>\n",
       "      <td>369.0</td>\n",
       "      <td>NaN</td>\n",
       "      <td>0.0</td>\n",
       "      <td>0.455253</td>\n",
       "      <td>0.717456</td>\n",
       "    </tr>\n",
       "    <tr>\n",
       "      <th>01OV008</th>\n",
       "      <td>OV</td>\n",
       "      <td>Yes</td>\n",
       "      <td>NaN</td>\n",
       "      <td>NaN</td>\n",
       "      <td>NaN</td>\n",
       "      <td>55</td>\n",
       "      <td>Female</td>\n",
       "      <td>White</td>\n",
       "      <td>Not Hispanic or Latino</td>\n",
       "      <td>NaN</td>\n",
       "      <td>...</td>\n",
       "      <td>NaN</td>\n",
       "      <td>NaN</td>\n",
       "      <td>NaN</td>\n",
       "      <td>NaN</td>\n",
       "      <td>0.0</td>\n",
       "      <td>368.0</td>\n",
       "      <td>NaN</td>\n",
       "      <td>0.0</td>\n",
       "      <td>NaN</td>\n",
       "      <td>NaN</td>\n",
       "    </tr>\n",
       "    <tr>\n",
       "      <th>01OV010</th>\n",
       "      <td>OV</td>\n",
       "      <td>Yes</td>\n",
       "      <td>NaN</td>\n",
       "      <td>NaN</td>\n",
       "      <td>NaN</td>\n",
       "      <td>52</td>\n",
       "      <td>Female</td>\n",
       "      <td>Black or African American</td>\n",
       "      <td>Unknown</td>\n",
       "      <td>NaN</td>\n",
       "      <td>...</td>\n",
       "      <td>NaN</td>\n",
       "      <td>NaN</td>\n",
       "      <td>NaN</td>\n",
       "      <td>NaN</td>\n",
       "      <td>0.0</td>\n",
       "      <td>21.0</td>\n",
       "      <td>NaN</td>\n",
       "      <td>0.0</td>\n",
       "      <td>NaN</td>\n",
       "      <td>NaN</td>\n",
       "    </tr>\n",
       "    <tr>\n",
       "      <th>01OV013</th>\n",
       "      <td>OV</td>\n",
       "      <td>Yes</td>\n",
       "      <td>NaN</td>\n",
       "      <td>NaN</td>\n",
       "      <td>NaN</td>\n",
       "      <td>69</td>\n",
       "      <td>Female</td>\n",
       "      <td>White</td>\n",
       "      <td>Not Hispanic or Latino</td>\n",
       "      <td>NaN</td>\n",
       "      <td>...</td>\n",
       "      <td>NaN</td>\n",
       "      <td>NaN</td>\n",
       "      <td>NaN</td>\n",
       "      <td>NaN</td>\n",
       "      <td>0.0</td>\n",
       "      <td>411.0</td>\n",
       "      <td>NaN</td>\n",
       "      <td>0.0</td>\n",
       "      <td>NaN</td>\n",
       "      <td>NaN</td>\n",
       "    </tr>\n",
       "    <tr>\n",
       "      <th>...</th>\n",
       "      <td>...</td>\n",
       "      <td>...</td>\n",
       "      <td>...</td>\n",
       "      <td>...</td>\n",
       "      <td>...</td>\n",
       "      <td>...</td>\n",
       "      <td>...</td>\n",
       "      <td>...</td>\n",
       "      <td>...</td>\n",
       "      <td>...</td>\n",
       "      <td>...</td>\n",
       "      <td>...</td>\n",
       "      <td>...</td>\n",
       "      <td>...</td>\n",
       "      <td>...</td>\n",
       "      <td>...</td>\n",
       "      <td>...</td>\n",
       "      <td>...</td>\n",
       "      <td>...</td>\n",
       "      <td>...</td>\n",
       "      <td>...</td>\n",
       "    </tr>\n",
       "    <tr>\n",
       "      <th>17OV001.N</th>\n",
       "      <td>NaN</td>\n",
       "      <td>NaN</td>\n",
       "      <td>NaN</td>\n",
       "      <td>NaN</td>\n",
       "      <td>NaN</td>\n",
       "      <td>NaN</td>\n",
       "      <td>NaN</td>\n",
       "      <td>NaN</td>\n",
       "      <td>NaN</td>\n",
       "      <td>NaN</td>\n",
       "      <td>...</td>\n",
       "      <td>NaN</td>\n",
       "      <td>NaN</td>\n",
       "      <td>NaN</td>\n",
       "      <td>NaN</td>\n",
       "      <td>NaN</td>\n",
       "      <td>NaN</td>\n",
       "      <td>NaN</td>\n",
       "      <td>NaN</td>\n",
       "      <td>-0.078380</td>\n",
       "      <td>0.002298</td>\n",
       "    </tr>\n",
       "    <tr>\n",
       "      <th>17OV002.N</th>\n",
       "      <td>NaN</td>\n",
       "      <td>NaN</td>\n",
       "      <td>NaN</td>\n",
       "      <td>NaN</td>\n",
       "      <td>NaN</td>\n",
       "      <td>NaN</td>\n",
       "      <td>NaN</td>\n",
       "      <td>NaN</td>\n",
       "      <td>NaN</td>\n",
       "      <td>NaN</td>\n",
       "      <td>...</td>\n",
       "      <td>NaN</td>\n",
       "      <td>NaN</td>\n",
       "      <td>NaN</td>\n",
       "      <td>NaN</td>\n",
       "      <td>NaN</td>\n",
       "      <td>NaN</td>\n",
       "      <td>NaN</td>\n",
       "      <td>NaN</td>\n",
       "      <td>-0.234052</td>\n",
       "      <td>-0.377988</td>\n",
       "    </tr>\n",
       "    <tr>\n",
       "      <th>17OV003.N</th>\n",
       "      <td>NaN</td>\n",
       "      <td>NaN</td>\n",
       "      <td>NaN</td>\n",
       "      <td>NaN</td>\n",
       "      <td>NaN</td>\n",
       "      <td>NaN</td>\n",
       "      <td>NaN</td>\n",
       "      <td>NaN</td>\n",
       "      <td>NaN</td>\n",
       "      <td>NaN</td>\n",
       "      <td>...</td>\n",
       "      <td>NaN</td>\n",
       "      <td>NaN</td>\n",
       "      <td>NaN</td>\n",
       "      <td>NaN</td>\n",
       "      <td>NaN</td>\n",
       "      <td>NaN</td>\n",
       "      <td>NaN</td>\n",
       "      <td>NaN</td>\n",
       "      <td>-0.629568</td>\n",
       "      <td>-0.608454</td>\n",
       "    </tr>\n",
       "    <tr>\n",
       "      <th>17OV004.N</th>\n",
       "      <td>NaN</td>\n",
       "      <td>NaN</td>\n",
       "      <td>NaN</td>\n",
       "      <td>NaN</td>\n",
       "      <td>NaN</td>\n",
       "      <td>NaN</td>\n",
       "      <td>NaN</td>\n",
       "      <td>NaN</td>\n",
       "      <td>NaN</td>\n",
       "      <td>NaN</td>\n",
       "      <td>...</td>\n",
       "      <td>NaN</td>\n",
       "      <td>NaN</td>\n",
       "      <td>NaN</td>\n",
       "      <td>NaN</td>\n",
       "      <td>NaN</td>\n",
       "      <td>NaN</td>\n",
       "      <td>NaN</td>\n",
       "      <td>NaN</td>\n",
       "      <td>0.132159</td>\n",
       "      <td>-0.626095</td>\n",
       "    </tr>\n",
       "    <tr>\n",
       "      <th>17OV005.N</th>\n",
       "      <td>NaN</td>\n",
       "      <td>NaN</td>\n",
       "      <td>NaN</td>\n",
       "      <td>NaN</td>\n",
       "      <td>NaN</td>\n",
       "      <td>NaN</td>\n",
       "      <td>NaN</td>\n",
       "      <td>NaN</td>\n",
       "      <td>NaN</td>\n",
       "      <td>NaN</td>\n",
       "      <td>...</td>\n",
       "      <td>NaN</td>\n",
       "      <td>NaN</td>\n",
       "      <td>NaN</td>\n",
       "      <td>NaN</td>\n",
       "      <td>NaN</td>\n",
       "      <td>NaN</td>\n",
       "      <td>NaN</td>\n",
       "      <td>NaN</td>\n",
       "      <td>-0.202844</td>\n",
       "      <td>-0.765600</td>\n",
       "    </tr>\n",
       "  </tbody>\n",
       "</table>\n",
       "<p>130 rows × 126 columns</p>\n",
       "</div>"
      ],
      "text/plain": [
       "Name       tumor_code discovery_study type_of_analyzed_samples_mssm_clinical  \\\n",
       "Patient_ID                                                                     \n",
       "01OV002            OV             Yes                                    NaN   \n",
       "01OV007            OV             Yes                                    NaN   \n",
       "01OV008            OV             Yes                                    NaN   \n",
       "01OV010            OV             Yes                                    NaN   \n",
       "01OV013            OV             Yes                                    NaN   \n",
       "...               ...             ...                                    ...   \n",
       "17OV001.N         NaN             NaN                                    NaN   \n",
       "17OV002.N         NaN             NaN                                    NaN   \n",
       "17OV003.N         NaN             NaN                                    NaN   \n",
       "17OV004.N         NaN             NaN                                    NaN   \n",
       "17OV005.N         NaN             NaN                                    NaN   \n",
       "\n",
       "Name       type_of_analyzed_samples_mssm_clinical confirmatory_study  age  \\\n",
       "Patient_ID                                                                  \n",
       "01OV002                                       NaN                NaN   45   \n",
       "01OV007                                       NaN                NaN   68   \n",
       "01OV008                                       NaN                NaN   55   \n",
       "01OV010                                       NaN                NaN   52   \n",
       "01OV013                                       NaN                NaN   69   \n",
       "...                                           ...                ...  ...   \n",
       "17OV001.N                                     NaN                NaN  NaN   \n",
       "17OV002.N                                     NaN                NaN  NaN   \n",
       "17OV003.N                                     NaN                NaN  NaN   \n",
       "17OV004.N                                     NaN                NaN  NaN   \n",
       "17OV005.N                                     NaN                NaN  NaN   \n",
       "\n",
       "Name           sex                       race               ethnicity  \\\n",
       "Patient_ID                                                              \n",
       "01OV002     Female                      White  Not Hispanic or Latino   \n",
       "01OV007     Female                      White  Not Hispanic or Latino   \n",
       "01OV008     Female                      White  Not Hispanic or Latino   \n",
       "01OV010     Female  Black or African American                 Unknown   \n",
       "01OV013     Female                      White  Not Hispanic or Latino   \n",
       "...            ...                        ...                     ...   \n",
       "17OV001.N      NaN                        NaN                     NaN   \n",
       "17OV002.N      NaN                        NaN                     NaN   \n",
       "17OV003.N      NaN                        NaN                     NaN   \n",
       "17OV004.N      NaN                        NaN                     NaN   \n",
       "17OV005.N      NaN                        NaN                     NaN   \n",
       "\n",
       "Name       ethnicity_race_ancestry_identified  ...  \\\n",
       "Patient_ID                                     ...   \n",
       "01OV002                                   NaN  ...   \n",
       "01OV007                                   NaN  ...   \n",
       "01OV008                                   NaN  ...   \n",
       "01OV010                                   NaN  ...   \n",
       "01OV013                                   NaN  ...   \n",
       "...                                       ...  ...   \n",
       "17OV001.N                                 NaN  ...   \n",
       "17OV002.N                                 NaN  ...   \n",
       "17OV003.N                                 NaN  ...   \n",
       "17OV004.N                                 NaN  ...   \n",
       "17OV005.N                                 NaN  ...   \n",
       "\n",
       "Name       number_of_days_from_date_of_initial_pathologic_diagnosis_to_date_of_additional_surgery_for_new_tumor_event_loco-regional  \\\n",
       "Patient_ID                                                                                                                            \n",
       "01OV002                                                   NaN                                                                         \n",
       "01OV007                                                   NaN                                                                         \n",
       "01OV008                                                   NaN                                                                         \n",
       "01OV010                                                   NaN                                                                         \n",
       "01OV013                                                   NaN                                                                         \n",
       "...                                                       ...                                                                         \n",
       "17OV001.N                                                 NaN                                                                         \n",
       "17OV002.N                                                 NaN                                                                         \n",
       "17OV003.N                                                 NaN                                                                         \n",
       "17OV004.N                                                 NaN                                                                         \n",
       "17OV005.N                                                 NaN                                                                         \n",
       "\n",
       "Name       number_of_days_from_date_of_initial_pathologic_diagnosis_to_date_of_additional_surgery_for_new_tumor_event_metastasis  \\\n",
       "Patient_ID                                                                                                                         \n",
       "01OV002                                                   NaN                                                                      \n",
       "01OV007                                                   NaN                                                                      \n",
       "01OV008                                                   NaN                                                                      \n",
       "01OV010                                                   NaN                                                                      \n",
       "01OV013                                                   NaN                                                                      \n",
       "...                                                       ...                                                                      \n",
       "17OV001.N                                                 NaN                                                                      \n",
       "17OV002.N                                                 NaN                                                                      \n",
       "17OV003.N                                                 NaN                                                                      \n",
       "17OV004.N                                                 NaN                                                                      \n",
       "17OV005.N                                                 NaN                                                                      \n",
       "\n",
       "Name       Recurrence-free survival, days  \\\n",
       "Patient_ID                                  \n",
       "01OV002                               NaN   \n",
       "01OV007                               NaN   \n",
       "01OV008                               NaN   \n",
       "01OV010                               NaN   \n",
       "01OV013                               NaN   \n",
       "...                                   ...   \n",
       "17OV001.N                             NaN   \n",
       "17OV002.N                             NaN   \n",
       "17OV003.N                             NaN   \n",
       "17OV004.N                             NaN   \n",
       "17OV005.N                             NaN   \n",
       "\n",
       "Name       Recurrence-free survival from collection, days  \\\n",
       "Patient_ID                                                  \n",
       "01OV002                                               NaN   \n",
       "01OV007                                               NaN   \n",
       "01OV008                                               NaN   \n",
       "01OV010                                               NaN   \n",
       "01OV013                                               NaN   \n",
       "...                                                   ...   \n",
       "17OV001.N                                             NaN   \n",
       "17OV002.N                                             NaN   \n",
       "17OV003.N                                             NaN   \n",
       "17OV004.N                                             NaN   \n",
       "17OV005.N                                             NaN   \n",
       "\n",
       "Name       Recurrence status (1, yes; 0, no) Overall survival, days  \\\n",
       "Patient_ID                                                            \n",
       "01OV002                                  0.0                  415.0   \n",
       "01OV007                                  0.0                  369.0   \n",
       "01OV008                                  0.0                  368.0   \n",
       "01OV010                                  0.0                   21.0   \n",
       "01OV013                                  0.0                  411.0   \n",
       "...                                      ...                    ...   \n",
       "17OV001.N                                NaN                    NaN   \n",
       "17OV002.N                                NaN                    NaN   \n",
       "17OV003.N                                NaN                    NaN   \n",
       "17OV004.N                                NaN                    NaN   \n",
       "17OV005.N                                NaN                    NaN   \n",
       "\n",
       "Name       Overall survival from collection, days  \\\n",
       "Patient_ID                                          \n",
       "01OV002                                       NaN   \n",
       "01OV007                                       NaN   \n",
       "01OV008                                       NaN   \n",
       "01OV010                                       NaN   \n",
       "01OV013                                       NaN   \n",
       "...                                           ...   \n",
       "17OV001.N                                     NaN   \n",
       "17OV002.N                                     NaN   \n",
       "17OV003.N                                     NaN   \n",
       "17OV004.N                                     NaN   \n",
       "17OV005.N                                     NaN   \n",
       "\n",
       "Name       Survival status (1, dead; 0, alive) RAC2_umich_proteomics  \\\n",
       "Patient_ID                                                             \n",
       "01OV002                                    0.0                   NaN   \n",
       "01OV007                                    0.0              0.455253   \n",
       "01OV008                                    0.0                   NaN   \n",
       "01OV010                                    0.0                   NaN   \n",
       "01OV013                                    0.0                   NaN   \n",
       "...                                        ...                   ...   \n",
       "17OV001.N                                  NaN             -0.078380   \n",
       "17OV002.N                                  NaN             -0.234052   \n",
       "17OV003.N                                  NaN             -0.629568   \n",
       "17OV004.N                                  NaN              0.132159   \n",
       "17OV005.N                                  NaN             -0.202844   \n",
       "\n",
       "Name       PODXL_umich_proteomics  \n",
       "Patient_ID                         \n",
       "01OV002                       NaN  \n",
       "01OV007                  0.717456  \n",
       "01OV008                       NaN  \n",
       "01OV010                       NaN  \n",
       "01OV013                       NaN  \n",
       "...                           ...  \n",
       "17OV001.N                0.002298  \n",
       "17OV002.N               -0.377988  \n",
       "17OV003.N               -0.608454  \n",
       "17OV004.N               -0.626095  \n",
       "17OV005.N               -0.765600  \n",
       "\n",
       "[130 rows x 126 columns]"
      ]
     },
     "execution_count": 4,
     "metadata": {},
     "output_type": "execute_result"
    }
   ],
   "source": [
    "follow_up = follow_up.rename({'PPID' : 'Patient_ID'}, axis='columns')\n",
    "clin_prot_follow = pd.merge(clinical_and_protein, follow_up, on = \"Patient_ID\")\n",
    "clinical_and_protein"
   ]
  },
  {
   "cell_type": "code",
   "execution_count": 5,
   "metadata": {},
   "outputs": [],
   "source": [
    "#Determine columns to focus on, and create a subset to work with\n",
    "columns_to_focus_on = ['Survival status (1, dead; 0, alive)',\n",
    "                       'number_of_days_from_date_of_collection_to_date_of_last_contact', \n",
    "                       'number_of_days_from_date_of_collection_to_date_of_death',\n",
    "                       'tumor_stage_pathological']\n",
    "\n",
    "#This adds the protein data that we got from the clinical and proteomics join\n",
    "#so that it will be present in our subset of data to work with\n",
    "for i in range(len(omics_genes)):\n",
    "    omics_genes[i] += '_umich_proteomics'\n",
    "    columns_to_focus_on.append(omics_genes[i])\n",
    "\n",
    "focus_group = clin_prot_follow[columns_to_focus_on].copy().drop_duplicates()"
   ]
  },
  {
   "cell_type": "markdown",
   "metadata": {},
   "source": [
    "## Step 3: Kaplan Meier Plotting\n",
    "Kaplan Meier plots show us the probability of some event occuring over a given length of time, based on some attribute(s).  Oftentimes, they are used to plot the probability of death for clinical attributes, however they could also be used in a variety of other contexts. "
   ]
  },
  {
   "cell_type": "markdown",
   "metadata": {},
   "source": [
    "We will start by finding all patients that have died during the follow-up period and update the column to contain boolean values, where True denotes that the event occurred ('Deceased'), and False denotes that it did not ('Living').  We will then combine the two columns containing timeframe data ('Days_Between_Collection_And_Last_Contact', and 'Days_Between_Collection_And_Death'), to help us with plotting survival curves. These steps are necessary to fit the requirements of the *lifelines* package."
   ]
  },
  {
   "cell_type": "code",
   "execution_count": 6,
   "metadata": {},
   "outputs": [],
   "source": [
    "#Make the Vital Status column boolean\n",
    "focus_group['Survival status (1, dead; 0, alive)'] = focus_group['Survival status (1, dead; 0, alive)'].replace(0, False)\n",
    "focus_group['Survival status (1, dead; 0, alive)'] = focus_group['Survival status (1, dead; 0, alive)'].replace(1, True)\n",
    "focus_group['Survival status (1, dead; 0, alive)'] = focus_group['Survival status (1, dead; 0, alive)'].astype('bool')"
   ]
  },
  {
   "cell_type": "code",
   "execution_count": 7,
   "metadata": {},
   "outputs": [],
   "source": [
    "cols = ['number_of_days_from_date_of_collection_to_date_of_last_contact', 'number_of_days_from_date_of_collection_to_date_of_death']\n",
    "\n",
    "focus_group = focus_group.assign(Days_Until_Last_Contact_Or_Death=focus_group[cols].sum(1)).drop(cols, axis=1)"
   ]
  },
  {
   "cell_type": "code",
   "execution_count": null,
   "metadata": {},
   "outputs": [],
   "source": []
  },
  {
   "cell_type": "markdown",
   "metadata": {},
   "source": [
    "Next, we will create a general Kaplan Meier Plot of overall survival for our cohort, using the KaplanMeierFitter() from the *lifelines* package."
   ]
  },
  {
   "cell_type": "code",
   "execution_count": 14,
   "metadata": {},
   "outputs": [
    {
     "name": "stdout",
     "output_type": "stream",
     "text": [
      "Patient_ID\n",
      "01OV002    0.0\n",
      "01OV007    0.0\n",
      "01OV017    0.0\n",
      "01OV018    0.0\n",
      "01OV023    0.0\n",
      "          ... \n",
      "26OV002    0.0\n",
      "26OV008    0.0\n",
      "26OV009    0.0\n",
      "26OV011    0.0\n",
      "26OV013    0.0\n",
      "Name: Days_Until_Last_Contact_Or_Death, Length: 90, dtype: float64\n"
     ]
    },
    {
     "data": {
      "text/plain": [
       "<Axes: xlabel='timeline'>"
      ]
     },
     "execution_count": 14,
     "metadata": {},
     "output_type": "execute_result"
    },
    {
     "data": {
      "image/png": "[encoded data removed]",
      "text/plain": [
       "<Figure size 640x480 with 1 Axes>"
      ]
     },
     "metadata": {},
     "output_type": "display_data"
    }
   ],
   "source": [
    "time = focus_group['Days_Until_Last_Contact_Or_Death']\n",
    "status = focus_group['Survival status (1, dead; 0, alive)']\n",
    "\n",
    "kmf = KaplanMeierFitter()\n",
    "kmf.fit(time, event_observed = status)\n",
    "kmf.plot()"
   ]
  },
  {
   "cell_type": "markdown",
   "metadata": {},
   "source": [
    "# Step 4 Prepare Data for Multivariate Kaplan Meier Plots and Cox's Proportional Hazard Test\n",
    "We will now group our columns of interest into 3-4 distinct categories each, and assign them numeric values.  It is necessary for the requirements of the *lifelines* package that the categories are assigned numeric values (other data types, including category, are not compatible with the functions we will be using)."
   ]
  },
  {
   "cell_type": "code",
   "execution_count": 9,
   "metadata": {},
   "outputs": [],
   "source": [
    "df_genes = focus_group.copy()\n",
    "\n",
    "#Here, we are separating the protein abundance values for each of our proteins\n",
    "#of interest into 3 groups, based on relative abundance of the protein\n",
    "for col in omics_genes:\n",
    "    lower_25_filter = df_genes[col] <= df_genes[col].quantile(.25)\n",
    "    upper_25_filter = df_genes[col] >= df_genes[col].quantile(.75)\n",
    "\n",
    "    df_genes[col] = np.where(lower_25_filter, \"Lower_25%\", df_genes[col])\n",
    "    df_genes[col] = np.where(upper_25_filter, \"Upper_25%\", df_genes[col])\n",
    "    df_genes[col] = np.where(~lower_25_filter & ~upper_25_filter, \"Middle_50%\", df_genes[col])"
   ]
  },
  {
   "cell_type": "code",
   "execution_count": 10,
   "metadata": {},
   "outputs": [],
   "source": [
    "#Here, we map numeric values to correspond with our 3 protein categories\n",
    "proteomics_map = {\"Lower_25%\" : 1, \"Middle_50%\" : 2, \"Upper_25%\" : 3}\n",
    "for gene in omics_genes:\n",
    "    df_genes[gene] = df_genes[gene].map(proteomics_map)"
   ]
  },
  {
   "cell_type": "code",
   "execution_count": 11,
   "metadata": {},
   "outputs": [
    {
     "ename": "KeyError",
     "evalue": "'Tumor_Stage_Ovary_FIGO'",
     "output_type": "error",
     "traceback": [
      "\u001b[1;31m---------------------------------------------------------------------------\u001b[0m",
      "\u001b[1;31mKeyError\u001b[0m                                  Traceback (most recent call last)",
      "File \u001b[1;32m~\\anaconda3\\lib\\site-packages\\pandas\\core\\indexes\\base.py:3652\u001b[0m, in \u001b[0;36mIndex.get_loc\u001b[1;34m(self, key)\u001b[0m\n\u001b[0;32m   3651\u001b[0m \u001b[38;5;28;01mtry\u001b[39;00m:\n\u001b[1;32m-> 3652\u001b[0m     \u001b[38;5;28;01mreturn\u001b[39;00m \u001b[38;5;28;43mself\u001b[39;49m\u001b[38;5;241;43m.\u001b[39;49m\u001b[43m_engine\u001b[49m\u001b[38;5;241;43m.\u001b[39;49m\u001b[43mget_loc\u001b[49m\u001b[43m(\u001b[49m\u001b[43mcasted_key\u001b[49m\u001b[43m)\u001b[49m\n\u001b[0;32m   3653\u001b[0m \u001b[38;5;28;01mexcept\u001b[39;00m \u001b[38;5;167;01mKeyError\u001b[39;00m \u001b[38;5;28;01mas\u001b[39;00m err:\n",
      "File \u001b[1;32m~\\anaconda3\\lib\\site-packages\\pandas\\_libs\\index.pyx:147\u001b[0m, in \u001b[0;36mpandas._libs.index.IndexEngine.get_loc\u001b[1;34m()\u001b[0m\n",
      "File \u001b[1;32m~\\anaconda3\\lib\\site-packages\\pandas\\_libs\\index.pyx:176\u001b[0m, in \u001b[0;36mpandas._libs.index.IndexEngine.get_loc\u001b[1;34m()\u001b[0m\n",
      "File \u001b[1;32mpandas\\_libs\\hashtable_class_helper.pxi:7080\u001b[0m, in \u001b[0;36mpandas._libs.hashtable.PyObjectHashTable.get_item\u001b[1;34m()\u001b[0m\n",
      "File \u001b[1;32mpandas\\_libs\\hashtable_class_helper.pxi:7088\u001b[0m, in \u001b[0;36mpandas._libs.hashtable.PyObjectHashTable.get_item\u001b[1;34m()\u001b[0m\n",
      "\u001b[1;31mKeyError\u001b[0m: 'Tumor_Stage_Ovary_FIGO'",
      "\nThe above exception was the direct cause of the following exception:\n",
      "\u001b[1;31mKeyError\u001b[0m                                  Traceback (most recent call last)",
      "Cell \u001b[1;32mIn[11], line 6\u001b[0m\n\u001b[0;32m      1\u001b[0m \u001b[38;5;66;03m#Here we map numeric values to corresponding tumor stages\u001b[39;00m\n\u001b[0;32m      2\u001b[0m figo_map \u001b[38;5;241m=\u001b[39m {\u001b[38;5;124m\"\u001b[39m\u001b[38;5;124mIIIC\u001b[39m\u001b[38;5;124m\"\u001b[39m : \u001b[38;5;241m3\u001b[39m, \u001b[38;5;124m\"\u001b[39m\u001b[38;5;124mIV\u001b[39m\u001b[38;5;124m\"\u001b[39m : \u001b[38;5;241m4\u001b[39m, \u001b[38;5;124m\"\u001b[39m\u001b[38;5;124mIIIB\u001b[39m\u001b[38;5;124m\"\u001b[39m : \u001b[38;5;241m3\u001b[39m, \n\u001b[0;32m      3\u001b[0m             \u001b[38;5;124m\"\u001b[39m\u001b[38;5;124mNot Reported/ Unknown\u001b[39m\u001b[38;5;124m\"\u001b[39m : np\u001b[38;5;241m.\u001b[39mnan, \n\u001b[0;32m      4\u001b[0m             \u001b[38;5;124m\"\u001b[39m\u001b[38;5;124mIIIA\u001b[39m\u001b[38;5;124m\"\u001b[39m : \u001b[38;5;241m3\u001b[39m, \u001b[38;5;124m\"\u001b[39m\u001b[38;5;124mIII\u001b[39m\u001b[38;5;124m\"\u001b[39m : \u001b[38;5;241m3\u001b[39m, \u001b[38;5;124m\"\u001b[39m\u001b[38;5;124mIC\u001b[39m\u001b[38;5;124m\"\u001b[39m : \u001b[38;5;241m1\u001b[39m, \u001b[38;5;124m\"\u001b[39m\u001b[38;5;124mIIB\u001b[39m\u001b[38;5;124m\"\u001b[39m : \u001b[38;5;241m2\u001b[39m}\n\u001b[1;32m----> 6\u001b[0m df_genes[\u001b[38;5;124m'\u001b[39m\u001b[38;5;124mTumor_Stage_Ovary_FIGO\u001b[39m\u001b[38;5;124m'\u001b[39m] \u001b[38;5;241m=\u001b[39m \u001b[43mdf_genes\u001b[49m\u001b[43m[\u001b[49m\u001b[38;5;124;43m'\u001b[39;49m\u001b[38;5;124;43mTumor_Stage_Ovary_FIGO\u001b[39;49m\u001b[38;5;124;43m'\u001b[39;49m\u001b[43m]\u001b[49m\u001b[38;5;241m.\u001b[39mmap(figo_map)\n",
      "File \u001b[1;32m~\\anaconda3\\lib\\site-packages\\pandas\\core\\frame.py:3761\u001b[0m, in \u001b[0;36mDataFrame.__getitem__\u001b[1;34m(self, key)\u001b[0m\n\u001b[0;32m   3759\u001b[0m \u001b[38;5;28;01mif\u001b[39;00m \u001b[38;5;28mself\u001b[39m\u001b[38;5;241m.\u001b[39mcolumns\u001b[38;5;241m.\u001b[39mnlevels \u001b[38;5;241m>\u001b[39m \u001b[38;5;241m1\u001b[39m:\n\u001b[0;32m   3760\u001b[0m     \u001b[38;5;28;01mreturn\u001b[39;00m \u001b[38;5;28mself\u001b[39m\u001b[38;5;241m.\u001b[39m_getitem_multilevel(key)\n\u001b[1;32m-> 3761\u001b[0m indexer \u001b[38;5;241m=\u001b[39m \u001b[38;5;28;43mself\u001b[39;49m\u001b[38;5;241;43m.\u001b[39;49m\u001b[43mcolumns\u001b[49m\u001b[38;5;241;43m.\u001b[39;49m\u001b[43mget_loc\u001b[49m\u001b[43m(\u001b[49m\u001b[43mkey\u001b[49m\u001b[43m)\u001b[49m\n\u001b[0;32m   3762\u001b[0m \u001b[38;5;28;01mif\u001b[39;00m is_integer(indexer):\n\u001b[0;32m   3763\u001b[0m     indexer \u001b[38;5;241m=\u001b[39m [indexer]\n",
      "File \u001b[1;32m~\\anaconda3\\lib\\site-packages\\pandas\\core\\indexes\\base.py:3654\u001b[0m, in \u001b[0;36mIndex.get_loc\u001b[1;34m(self, key)\u001b[0m\n\u001b[0;32m   3652\u001b[0m     \u001b[38;5;28;01mreturn\u001b[39;00m \u001b[38;5;28mself\u001b[39m\u001b[38;5;241m.\u001b[39m_engine\u001b[38;5;241m.\u001b[39mget_loc(casted_key)\n\u001b[0;32m   3653\u001b[0m \u001b[38;5;28;01mexcept\u001b[39;00m \u001b[38;5;167;01mKeyError\u001b[39;00m \u001b[38;5;28;01mas\u001b[39;00m err:\n\u001b[1;32m-> 3654\u001b[0m     \u001b[38;5;28;01mraise\u001b[39;00m \u001b[38;5;167;01mKeyError\u001b[39;00m(key) \u001b[38;5;28;01mfrom\u001b[39;00m \u001b[38;5;21;01merr\u001b[39;00m\n\u001b[0;32m   3655\u001b[0m \u001b[38;5;28;01mexcept\u001b[39;00m \u001b[38;5;167;01mTypeError\u001b[39;00m:\n\u001b[0;32m   3656\u001b[0m     \u001b[38;5;66;03m# If we have a listlike key, _check_indexing_error will raise\u001b[39;00m\n\u001b[0;32m   3657\u001b[0m     \u001b[38;5;66;03m#  InvalidIndexError. Otherwise we fall through and re-raise\u001b[39;00m\n\u001b[0;32m   3658\u001b[0m     \u001b[38;5;66;03m#  the TypeError.\u001b[39;00m\n\u001b[0;32m   3659\u001b[0m     \u001b[38;5;28mself\u001b[39m\u001b[38;5;241m.\u001b[39m_check_indexing_error(key)\n",
      "\u001b[1;31mKeyError\u001b[0m: 'Tumor_Stage_Ovary_FIGO'"
     ]
    }
   ],
   "source": [
    "#Here we map numeric values to corresponding tumor stages\n",
    "figo_map = {\"IIIC\" : 3, \"IV\" : 4, \"IIIB\" : 3, \n",
    "            \"Not Reported/ Unknown\" : np.nan, \n",
    "            \"IIIA\" : 3, \"III\" : 3, \"IC\" : 1, \"IIB\" : 2}\n",
    "\n",
    "df_genes['Tumor_Stage_Ovary_FIGO'] = df_genes['Tumor_Stage_Ovary_FIGO'].map(figo_map)"
   ]
  },
  {
   "cell_type": "code",
   "execution_count": null,
   "metadata": {},
   "outputs": [],
   "source": [
    "#Then we will drop missing values, as missing values \n",
    "# will throw an error in the lifelines functions\n",
    "df_clean = df_genes.dropna(axis=0, how='any').copy()"
   ]
  },
  {
   "cell_type": "markdown",
   "metadata": {},
   "source": [
    "Verify that your columns are the correct data types.  They may appear to be correct up front, but could actually be hidden as slightly different data types. The event of interest, in this case *Vital_Status* needs to contain boolean values, and all other columns in the table must be of a numeric type (either int64 or float64)."
   ]
  },
  {
   "cell_type": "code",
   "execution_count": null,
   "metadata": {},
   "outputs": [],
   "source": [
    "for col in df_clean.columns:\n",
    "    print(col, \":\", df_clean[col].dtype)"
   ]
  },
  {
   "cell_type": "code",
   "execution_count": null,
   "metadata": {},
   "outputs": [],
   "source": [
    "df_clean.head()"
   ]
  },
  {
   "cell_type": "markdown",
   "metadata": {},
   "source": [
    "# Step 5: Multivariate Survival Risk Plotting\n",
    "\n",
    "With the CoxPHFitter from the lifelines package we can create covariate survival plots, as shown below.  The variables we are interested in exploring are Tumor Stage, RAC2 abundance, and PODXL  abundance."
   ]
  },
  {
   "cell_type": "markdown",
   "metadata": {},
   "source": [
    "First we will fit our model to the data we have prepared using the CoxPHFitter() class from the lifelines module."
   ]
  },
  {
   "cell_type": "code",
   "execution_count": null,
   "metadata": {},
   "outputs": [],
   "source": [
    "cph = CoxPHFitter()\n",
    "cph.fit(df_clean, duration_col = \"Days_Until_Last_Contact_Or_Death\", \n",
    "        event_col = \"Vital_Status\")"
   ]
  },
  {
   "cell_type": "markdown",
   "metadata": {},
   "source": [
    "Then we will plot each of the attributes to see how different levels of protein or different tumor stages affect survival outcomes in Ovarian Cancer patients."
   ]
  },
  {
   "cell_type": "code",
   "execution_count": null,
   "metadata": {},
   "outputs": [],
   "source": [
    "attributes = ['Tumor_Stage_Ovary_FIGO', 'PODXL_awg_proteomics', 'RAC2_awg_proteomics']"
   ]
  },
  {
   "cell_type": "code",
   "execution_count": null,
   "metadata": {},
   "outputs": [],
   "source": [
    "for attribute in attributes:\n",
    "    plot_title = \"Ovarian Cancer Survival Risk: \" + attribute\n",
    "    cph.plot_partial_effects_on_outcome(attribute, [1,2,3], cmap='coolwarm', \n",
    "                          title=plot_title)"
   ]
  },
  {
   "cell_type": "markdown",
   "metadata": {},
   "source": [
    "# Results\n",
    "These different analyses tend to follow the baseline survival function, however, there are some differences in varying levels of each attribute. For example, FIGO Stage I tumors tend to have a higher survival rate over time comparatively to Stage III tumors.  We can explore these differences with the CoxPHFitter object's *print_summary* function (which prints out results for multivariate linear regression)."
   ]
  },
  {
   "cell_type": "code",
   "execution_count": null,
   "metadata": {},
   "outputs": [],
   "source": [
    "cph.print_summary(model=\"untransformed variables\", decimals=3)"
   ]
  },
  {
   "cell_type": "markdown",
   "metadata": {},
   "source": [
    "# Step 6 Cox's Proportional Hazard Test\n",
    "With the *proportional_hazard_test* function, we can now perform Cox's Proportional Hazard Test on the data to determine how each attribute contributes to our cohort's overall survival.  This is shown by the hazard ratio in the column labeled *-log2(p)* below.  In general, a hazard ratio of 1 suggests that an attribute has no effect on overall survival.  A ratio less than 1 suggests that an attribute contributes to lower survival risk.  A ratio greater than 1 suggests that an attribute contributes to higher survival risk."
   ]
  },
  {
   "cell_type": "code",
   "execution_count": null,
   "metadata": {},
   "outputs": [],
   "source": [
    "results = proportional_hazard_test(cph, df_clean, time_transform='rank')\n",
    "results.print_summary(decimals=3, model=\"untransformed variables\")"
   ]
  },
  {
   "cell_type": "markdown",
   "metadata": {},
   "source": [
    "Below, we show confidence intervals for each of the hazard ratios.  Since both bars include the log(HR) of 1.0 and both of their p-values were greater than 0.05, there is insufficient evidence to suggest that a specific Histologic Grade or Tumor Stage is connected with negative clinical outcomes of death or the development of a new tumor *in our cohort of Ovarian cancer tumors*."
   ]
  },
  {
   "cell_type": "code",
   "execution_count": null,
   "metadata": {},
   "outputs": [],
   "source": [
    "cph.plot()\n",
    "plt.tight_layout()"
   ]
  },
  {
   "cell_type": "markdown",
   "metadata": {},
   "source": [
    "# Closing Remarks\n",
    "It is important to note that there are relatively few patients who died in our cohort (7 out of 88), which is good, but with such a small sample size of death events, it is difficult to conclude with certainty that these features are not more or less connected with survival.  Perhaps a sample of patients with more deaths might have different results.  Alternatively, studying an event with more negative outcomes (such as tumor recurrence) may also provide more data to work with."
   ]
  },
  {
   "cell_type": "code",
   "execution_count": null,
   "metadata": {},
   "outputs": [],
   "source": [
    "df_clean['Vital_Status'].value_counts()"
   ]
  },
  {
   "cell_type": "markdown",
   "metadata": {},
   "source": [
    "It is also important to note that the confidence intervals for these ratios are very large, especially since hazard ratios are standardly shown on a log-scale."
   ]
  },
  {
   "cell_type": "code",
   "execution_count": null,
   "metadata": {},
   "outputs": [],
   "source": [
    "cph.confidence_intervals_"
   ]
  },
  {
   "cell_type": "markdown",
   "metadata": {},
   "source": [
    "This is just one example of how you might use Survival Analysis to learn more about different types of cancer, and how clinical and/or genetic attributes contribute to likelihood of survival. There are many other clinical and genetic attributes, as well as several other cancer types, that can be explored using a similar process to that above. In particular, lung cancer and ovarian cancer have a larger number of negative outcomes per cohort, and would be good to look into further. "
   ]
  }
 ],
 "metadata": {
  "kernelspec": {
   "display_name": "Python 3 (ipykernel)",
   "language": "python",
   "name": "python3"
  },
  "language_info": {
   "codemirror_mode": {
    "name": "ipython",
    "version": 3
   },
   "file_extension": ".py",
   "mimetype": "text/x-python",
   "name": "python",
   "nbconvert_exporter": "python",
   "pygments_lexer": "ipython3",
   "version": "3.9.12"
  }
 },
 "nbformat": 4,
 "nbformat_minor": 4
}
