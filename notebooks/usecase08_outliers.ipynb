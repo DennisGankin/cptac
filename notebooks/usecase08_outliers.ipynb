{
 "cells": [
  {
   "cell_type": "markdown",
   "metadata": {},
   "source": [
    "# Use Case 8: Outliers"
   ]
  },
  {
   "cell_type": "markdown",
   "metadata": {},
   "source": [
    "When looking at data, we often want to identify outliers, extremely high or low data points. In this use case we will show you how to use the Blacksheep package to find these in the CPTAC data. For more detailed information about the Blacksheep package see [this](https://github.com/ruggleslab/blackSheep/) repository.\n",
    "\n",
    "In the CPTAC breast cancer study ([here](https://www.nature.com/articles/nature18003)) it was shown that tumors classified as HER-2 enriched are frequently outliers for high abundance of ERBB2 phosphorylation, protein and mRNA (see [figure 4](https://www.nature.com/articles/nature18003/figures/4) of the manuscript). In this use case we will show that same phenomena in an independent cohort of breast cancer tumors, whose data are included in the cptac package."
   ]
  },
  {
   "cell_type": "markdown",
   "metadata": {},
   "source": [
    "## Step 1: Importing packages and setting up your notebook\n",
    "\n",
    "Before we begin performing the analysis, we must import the packages we will be using. In this first code block, we import the standard set of data science packages.\n",
    "\n",
    "We will need an external package called blacksheep. To install it run the following on your command line:\n",
    "```\n",
    "pip install blksheep\n",
    "```"
   ]
  },
  {
   "cell_type": "code",
   "execution_count": 1,
   "metadata": {},
   "outputs": [],
   "source": [
    "import numpy as np\n",
    "import pandas as pd\n",
    "import matplotlib.pyplot as plt\n",
    "import seaborn as sns"
   ]
  },
  {
   "cell_type": "markdown",
   "metadata": {},
   "source": [
    "In this next code block we import the blacksheep and cptac packages and grab our proteomic and clinical data."
   ]
  },
  {
   "cell_type": "code",
   "execution_count": 2,
   "metadata": {
    "scrolled": true
   },
   "outputs": [
    {
     "name": "stdout",
     "output_type": "stream",
     "text": [
      "tumor_code ['BR']\n",
      "discovery_study ['Yes']\n",
      "discovery_study/type_of_analyzed_samples [nan]\n",
      "confirmatory_study [nan]\n",
      "confirmatory_study/type_of_analyzed_samples [nan]\n",
      "consent/age ['55' '48' '64' '65' '35' '45' '66' '52' '62' '80' '84' '61' '46' '40'\n",
      " '58' '59' '60' '88' '42' '54' '78' '71' '70' '37' '50' '75' '51' '38'\n",
      " '77' '53' '44' '39' '30' '74' '76' '49' '47' '67' '36' '56' '79' '68'\n",
      " '72' '63' '41' '73' '82' '95' '86']\n",
      "consent/sex ['Female']\n",
      "consent/race ['Black or African American' 'White' 'white' 'Unknown' 'Asian']\n",
      "consent/ethnicity ['Not Hispanic or Latino' 'Unknown' 'unknown' 'Hispanic or Latino']\n",
      "consent/ethnicity_race_ancestry_identified [nan]\n",
      "Inferred ancestry ['African' nan 'European' 'Ad_Mixed_American' 'East_Asian']\n",
      "consent/collection_in_us [nan]\n",
      "consent/participant_country [nan]\n",
      "consent/maternal_grandmother_country [nan]\n",
      "consent/maternal_grandfather_country [nan]\n",
      "consent/paternal_grandmother_country [nan]\n",
      "consent/paternal_grandfather_country [nan]\n",
      "consent/deaf_or_difficulty_hearing [nan]\n",
      "consent/blind_or_difficulty_seeing [nan]\n",
      "consent/difficulty_concentrating_remembering_or_making_decisions [nan]\n",
      "consent/difficulty_walking_or_climbing_stairs [nan]\n",
      "consent/difficulty_dressing_or_bathing [nan]\n",
      "consent/difficulty_doing_errands [nan]\n",
      "consent/consent_form_signed [nan]\n",
      "consent/case_stopped ['No']\n",
      "baseline/tumor_site [nan]\n",
      "baseline/tumor_site_other [nan]\n",
      "baseline/tumor_laterality [nan]\n",
      "baseline/tumor_focality [nan]\n",
      "baseline/tumor_size_cm [nan]\n",
      "baseline/histologic_type ['Inflitrating Ductal Carcinoma' nan 'Inflitrating Lobular Carcinoma'\n",
      " 'Other (specify)' 'other, specify' 'IDC and DCIS'\n",
      " 'Infiltrating Ductal and Lobular Carcinoma' 'Mucinous Carcinoma'\n",
      " 'Infiltrating Ductal and Mucinous Carcinoma'\n",
      " 'invasive ductal carcinoma with extensive high-grade DCIS with comedonecrosis and features of papillary carcinoma'\n",
      " 'Mixed ductal and lobular features' 'Triple Negative']\n",
      "cptac_path/histologic_grade ['GX Grading is not applicable, cannot be assessed or not specified']\n",
      "baseline/tumor_necrosis [nan]\n",
      "baseline/margin_status ['Negative (-)' nan 'Positive (+)' 'Not Applicable'\n",
      " 'Not Reported/ Unknown']\n",
      "baseline/ajcc_tnm_cancer_staging_edition_used [nan]\n",
      "baseline/pathologic_staging_primary_tumor_pt ['T2' nan 'T3' 'T4' 'TX' 'T4b ' 'T1c' 'T3a' 'Not Performed' 'T1' 'T2a'\n",
      " 'T4b' '2']\n",
      "baseline/pathologic_staging_regional_lymph_nodes_pn ['N1c' nan 'N1' 'N1a' 'N3' 'N0' 'N2' 'NX' ' N0 ' 'N1mi' 'N0(i-)' 'N3a'\n",
      " 'Not Performed' 'N2a' 'N3b' 'N0(i+)' 'N3c' '0']\n",
      "baseline/number_of_lymph_nodes_examined [nan '15' '13' '17' '1' '2' '4' '6' '12' '3' '31' '14' '11' '8' '10' '9'\n",
      " '7' '5' '23' '16' '30']\n",
      "baseline/number_of_lymph_nodes_positive_for_tumor_by_he_staining [nan '1' '2' '0' '3' '15' '6' '4' '8' '5' '9' '7' '10'\n",
      " 'Not Reported/ Unknown']\n",
      "baseline/clinical_staging_distant_metastasis_cm [nan]\n",
      "baseline/pathologic_staging_distant_metastasis_pm ['M0' nan 'MX' 'M1' 'Not Reported/ Unknown' 'Not Performed' '0']\n",
      "baseline/specify_distant_metastasis_documented_sites [nan]\n",
      "baseline/residual_tumor [nan]\n",
      "baseline/tumor_stage_pathological ['Stage II' 'Staging is not applicable or unknown' 'Stage III' 'Stage I']\n",
      "baseline/paraneoplastic_syndrome_present [nan]\n",
      "baseline/ancillary_studies_immunohistochemistry_performed [nan]\n",
      "baseline/ancillary_studies_immunohistochemistry_type_and_result [nan]\n",
      "baseline/ancillary_studies_other_testing_performed [nan]\n",
      "baseline/ancillary_studies_other_testing_type_and_result [nan]\n",
      "baseline/performance_status_assessment_ecog_performance_status_score [nan]\n",
      "baseline/performance_status_assessment_karnofsky_performance_status_score [nan]\n",
      "baseline/number_of_lymph_nodes_positive_for_tumor_by_ihc_staining [nan 'Not Applicable' 'Not Reported/ Unknown' '0' '2' '1' 'Not Performed'\n",
      " '3']\n",
      "baseline/perineural_invasion [nan]\n",
      "medical_history/height_at_time_of_surgery_cm [nan]\n",
      "medical_history/weight_at_time_of_surgery_kg [nan]\n",
      "medical_history/bmi [nan]\n",
      "medical_history/history_of_cancer ['No' 'Yes, History of Other Cancer Greater Than One Year']\n",
      "medical_history/alcohol_consumption [nan]\n",
      "medical_history/tobacco_smoking_history [nan]\n",
      "medical_history/age_at_which_the_participant_started_smoking [nan]\n",
      "medical_history/age_at_which_the_participant_stopped_smoking [nan]\n",
      "medical_history/on_the_days_participant_smoked_how_many_cigarettes_did_he_she_usually_smoke [nan]\n",
      "medical_history/number_of_pack_years_smoked [nan]\n",
      "medical_history/was_the_participant_exposed_to_secondhand_smoke [nan]\n",
      "medical_history/exposure_to_secondhand_smoke_in_household_during_participants_childhood [nan]\n",
      "medical_history/exposure_to_secondhand_smoke_in_participants_current_household [nan]\n",
      "medical_history/number_of_years_participant_has_consumed_more_than_2_drinks_per_day_for_men_and_more_than_1_drink_per_day_for_women [nan]\n",
      "cancer_history/cancer_type [nan]\n",
      "cancer_history/history_source [nan]\n",
      "cancer_history/history_of_any_treatment ['No']\n",
      "cancer_history/medical_record_documentation_of_this_history_of_cancer_and_treatment [nan]\n",
      "general_medical_history/medical_condition [nan]\n",
      "general_medical_history/history_of_treatment [nan]\n",
      "general_medical_history/history_source [nan]\n",
      "medications/medication_name_vitamins_supplements [nan]\n",
      "medications/history_source [nan]\n",
      "procurement/blood_collection_minimum_required_blood_collected [nan]\n",
      "procurement/blood_collection_number_of_blood_tubes_collected [ 2.  1.  0. nan]\n",
      "procurement/tumor_tissue_collection_tumor_type [nan]\n",
      "procurement/tumor_tissue_collection_number_of_tumor_segments_collected [nan]\n",
      "procurement/tumor_tissue_collection_clamps_used [nan]\n",
      "procurement/tumor_tissue_collection_frozen_with_oct [nan]\n",
      "procurement/normal_adjacent_tissue_collection_number_of_normal_segments_collected [nan]\n",
      "follow-up/follow_up_period [nan]\n",
      "follow-up/is_this_patient_lost_to_follow-up [nan]\n",
      "follow-up/vital_status_at_date_of_last_contact ['Living' nan 'Unknown' 'Deceased']\n",
      "follow-up/number_of_days_from_date_of_initial_pathologic_diagnosis_to_date_of_last_contact [421.  nan 347. 413. 384. 601. 351. 389. 363. 365. 358. 304. 357. 390.\n",
      " 355. 406. 528. 323. 308. 377. 342. 319. 195. 320. 137. 337. 329. 394.\n",
      " 405. 402.  42. 378. 408. 386. 388. 367.  13. 398. 393. 385. 380. 370.\n",
      " 369. 368. 374. 382. 379. 371. 376. 387. 362. 517. 505. 448. 344. 478.\n",
      " 431. 426. 419. 417. 410. 449. 445. 437.  87.   9. 327. 348.]\n",
      "follow-up/number_of_days_from_date_of_initial_pathologic_diagnosis_to_date_of_death [ nan 221. 282.]\n",
      "follow-up/cause_of_death [nan]\n",
      "follow-up/number_of_days_from_date_of_collection_to_date_of_last_contact [nan]\n",
      "follow-up/number_of_days_from_date_of_collection_to_date_of_death [nan]\n",
      "follow-up/adjuvant_post-operative_radiation_therapy ['Yes' nan 'No' 'Not Applicable' 'Not Reported/ Unknown']\n",
      "follow-up/adjuvant_post-operative_pharmaceutical_therapy ['Yes' nan 'No' 'Not Applicable' 'Not Reported/ Unknown']\n",
      "follow-up/adjuvant_post-operative_immunological_therapy [nan]\n",
      "follow-up/tumor_status_at_date_of_last_contact_or_death ['Tumor free' nan 'Loco-regional recurrence/progression'\n",
      " 'Distant met recurrence/progression' 'Not Reported / Unknown']\n",
      "follow-up/measure_of_success_of_outcome_at_the_completion_of_initial_first_course_treatment [nan]\n",
      "follow-up/measure_of_success_of_outcome_at_date_of_last_contact_or_death [nan]\n",
      "follow-up/ecog_performance_status_score_at_date_of_last_contact_or_death [nan]\n",
      "follow-up/karnofsky_performance_status_score_at_date_of_last_contact_or_death [nan]\n",
      "follow-up/performance_status_scale_timing_at_date_of_last_contact_or_death [nan]\n",
      "follow-up/measure_of_success_of_outcome_at_first_NTE [nan]\n",
      "follow-up/ecog_performance_status_score_at_first_NTE [nan]\n",
      "follow-up/karnofsky_performance_status_score_at_first_NTE [nan]\n",
      "follow-up/performance_status_scale_timing_at_first_NTE [nan]\n",
      "follow-up/new_tumor_after_initial_treatment ['No' nan 'Not Applicable' 'Yes' 'Not Reported/ Unknown']\n",
      "follow-up/number_of_days_from_date_of_initial_pathologic_diagnosis_to_date_of_new_tumor_event_after_initial_treatment [nan]\n",
      "follow-up/type_of_new_tumor [nan 'Distant Metastasis']\n",
      "follow-up/site_of_new_tumor [nan 'Liver']\n",
      "follow-up/other_site_of_new_tumor [nan]\n",
      "follow-up/diagnostic_evidence_of_recurrence_or_relapse [nan]\n",
      "follow-up/additional_surgery_for_new_tumor_loco-regional [nan 'Not Applicable' 'Not Reported/ Unknown']\n",
      "follow-up/additional_surgery_for_new_tumor_metastasis [nan]\n",
      "follow-up/residual_tumor_after_surgery_for_new_tumor [nan]\n",
      "follow-up/additional_treatment_radiation_therapy_for_new_tumor [nan 'Not Applicable' 'No']\n",
      "follow-up/additional_treatment_pharmaceutical_therapy_for_new_tumor [nan 'Not Applicable' 'Not Reported/ Unknown']\n",
      "follow-up/additional_treatment_immuno_for_new_tumor [nan]\n",
      "follow-up/number_of_days_from_date_of_initial_pathologic_diagnosis_to_date_of_additional_surgery_for_new_tumor_event_loco-regional [nan]\n",
      "follow-up/number_of_days_from_date_of_initial_pathologic_diagnosis_to_date_of_additional_surgery_for_new_tumor_event_metastasis [nan]\n",
      "Recurrence-free survival, days [nan]\n",
      "Recurrence-free survival from collection, days [nan]\n",
      "Recurrence status (1, yes; 0, no) [0 1]\n",
      "Overall survival, days [421.  nan 347. 413. 384. 601. 351. 389. 363. 365. 358. 304. 357. 390.\n",
      " 355. 406. 528. 323. 308. 377. 342. 319. 195. 320. 137. 337. 329. 394.\n",
      " 405. 402.  42. 378. 408. 386. 388. 221. 367.  13. 398. 393. 385. 380.\n",
      " 370. 369. 368. 374. 382. 379. 371. 376. 387. 362. 517. 505. 448. 344.\n",
      " 478. 431. 426. 419. 417. 410. 449. 445. 437.  87.   9. 327. 348. 282.]\n",
      "Overall survival from collection, days [nan]\n",
      "Survival status (1, dead; 0, alive) [ 0. nan  1.]\n"
     ]
    }
   ],
   "source": [
    "import blacksheep\n",
    "import cptac\n",
    "brca = cptac.Brca()\n",
    "clinical = brca.get_clinical('mssm')\n",
    "proteomics = brca.get_proteomics('umich')\n",
    "\n",
    "for col in clinical.columns:\n",
    "    print(col, clinical[col].unique())"
   ]
  },
  {
   "cell_type": "markdown",
   "metadata": {},
   "source": [
    "## Step 2: Binarize Data\n",
    "\n",
    "The Blacksheep package requires that annotations are a binary variable. Our cptac tumors are divided into 4 subtypes: LumA, LumB, Basal, and Her2. We will use the binarize_annotations function to create a binary table of these PAM50 tumor classifications. We will call this table 'annotations'."
   ]
  },
  {
   "cell_type": "code",
   "execution_count": 3,
   "metadata": {},
   "outputs": [
    {
     "ename": "KeyError",
     "evalue": "\"None of [Index(['PAM50'], dtype='object', name='Name')] are in the [columns]\"",
     "output_type": "error",
     "traceback": [
      "\u001b[1;31m---------------------------------------------------------------------------\u001b[0m",
      "\u001b[1;31mKeyError\u001b[0m                                  Traceback (most recent call last)",
      "Cell \u001b[1;32mIn[3], line 1\u001b[0m\n\u001b[1;32m----> 1\u001b[0m annotations \u001b[38;5;241m=\u001b[39m \u001b[43mclinical\u001b[49m\u001b[43m[\u001b[49m\u001b[43m[\u001b[49m\u001b[38;5;124;43m'\u001b[39;49m\u001b[38;5;124;43mPAM50\u001b[39;49m\u001b[38;5;124;43m'\u001b[39;49m\u001b[43m]\u001b[49m\u001b[43m]\u001b[49m\u001b[38;5;241m.\u001b[39mcopy()\n\u001b[0;32m      2\u001b[0m annotations \u001b[38;5;241m=\u001b[39m blacksheep\u001b[38;5;241m.\u001b[39mbinarize_annotations(annotations)\n\u001b[0;32m      3\u001b[0m annotations\u001b[38;5;241m.\u001b[39mhead()\n",
      "File \u001b[1;32m~\\anaconda3\\lib\\site-packages\\pandas\\core\\frame.py:3511\u001b[0m, in \u001b[0;36mDataFrame.__getitem__\u001b[1;34m(self, key)\u001b[0m\n\u001b[0;32m   3509\u001b[0m     \u001b[38;5;28;01mif\u001b[39;00m is_iterator(key):\n\u001b[0;32m   3510\u001b[0m         key \u001b[38;5;241m=\u001b[39m \u001b[38;5;28mlist\u001b[39m(key)\n\u001b[1;32m-> 3511\u001b[0m     indexer \u001b[38;5;241m=\u001b[39m \u001b[38;5;28;43mself\u001b[39;49m\u001b[38;5;241;43m.\u001b[39;49m\u001b[43mcolumns\u001b[49m\u001b[38;5;241;43m.\u001b[39;49m\u001b[43m_get_indexer_strict\u001b[49m\u001b[43m(\u001b[49m\u001b[43mkey\u001b[49m\u001b[43m,\u001b[49m\u001b[43m \u001b[49m\u001b[38;5;124;43m\"\u001b[39;49m\u001b[38;5;124;43mcolumns\u001b[39;49m\u001b[38;5;124;43m\"\u001b[39;49m\u001b[43m)\u001b[49m[\u001b[38;5;241m1\u001b[39m]\n\u001b[0;32m   3513\u001b[0m \u001b[38;5;66;03m# take() does not accept boolean indexers\u001b[39;00m\n\u001b[0;32m   3514\u001b[0m \u001b[38;5;28;01mif\u001b[39;00m \u001b[38;5;28mgetattr\u001b[39m(indexer, \u001b[38;5;124m\"\u001b[39m\u001b[38;5;124mdtype\u001b[39m\u001b[38;5;124m\"\u001b[39m, \u001b[38;5;28;01mNone\u001b[39;00m) \u001b[38;5;241m==\u001b[39m \u001b[38;5;28mbool\u001b[39m:\n",
      "File \u001b[1;32m~\\anaconda3\\lib\\site-packages\\pandas\\core\\indexes\\base.py:5782\u001b[0m, in \u001b[0;36mIndex._get_indexer_strict\u001b[1;34m(self, key, axis_name)\u001b[0m\n\u001b[0;32m   5779\u001b[0m \u001b[38;5;28;01melse\u001b[39;00m:\n\u001b[0;32m   5780\u001b[0m     keyarr, indexer, new_indexer \u001b[38;5;241m=\u001b[39m \u001b[38;5;28mself\u001b[39m\u001b[38;5;241m.\u001b[39m_reindex_non_unique(keyarr)\n\u001b[1;32m-> 5782\u001b[0m \u001b[38;5;28;43mself\u001b[39;49m\u001b[38;5;241;43m.\u001b[39;49m\u001b[43m_raise_if_missing\u001b[49m\u001b[43m(\u001b[49m\u001b[43mkeyarr\u001b[49m\u001b[43m,\u001b[49m\u001b[43m \u001b[49m\u001b[43mindexer\u001b[49m\u001b[43m,\u001b[49m\u001b[43m \u001b[49m\u001b[43maxis_name\u001b[49m\u001b[43m)\u001b[49m\n\u001b[0;32m   5784\u001b[0m keyarr \u001b[38;5;241m=\u001b[39m \u001b[38;5;28mself\u001b[39m\u001b[38;5;241m.\u001b[39mtake(indexer)\n\u001b[0;32m   5785\u001b[0m \u001b[38;5;28;01mif\u001b[39;00m \u001b[38;5;28misinstance\u001b[39m(key, Index):\n\u001b[0;32m   5786\u001b[0m     \u001b[38;5;66;03m# GH 42790 - Preserve name from an Index\u001b[39;00m\n",
      "File \u001b[1;32m~\\anaconda3\\lib\\site-packages\\pandas\\core\\indexes\\base.py:5842\u001b[0m, in \u001b[0;36mIndex._raise_if_missing\u001b[1;34m(self, key, indexer, axis_name)\u001b[0m\n\u001b[0;32m   5840\u001b[0m     \u001b[38;5;28;01mif\u001b[39;00m use_interval_msg:\n\u001b[0;32m   5841\u001b[0m         key \u001b[38;5;241m=\u001b[39m \u001b[38;5;28mlist\u001b[39m(key)\n\u001b[1;32m-> 5842\u001b[0m     \u001b[38;5;28;01mraise\u001b[39;00m \u001b[38;5;167;01mKeyError\u001b[39;00m(\u001b[38;5;124mf\u001b[39m\u001b[38;5;124m\"\u001b[39m\u001b[38;5;124mNone of [\u001b[39m\u001b[38;5;132;01m{\u001b[39;00mkey\u001b[38;5;132;01m}\u001b[39;00m\u001b[38;5;124m] are in the [\u001b[39m\u001b[38;5;132;01m{\u001b[39;00maxis_name\u001b[38;5;132;01m}\u001b[39;00m\u001b[38;5;124m]\u001b[39m\u001b[38;5;124m\"\u001b[39m)\n\u001b[0;32m   5844\u001b[0m not_found \u001b[38;5;241m=\u001b[39m \u001b[38;5;28mlist\u001b[39m(ensure_index(key)[missing_mask\u001b[38;5;241m.\u001b[39mnonzero()[\u001b[38;5;241m0\u001b[39m]]\u001b[38;5;241m.\u001b[39munique())\n\u001b[0;32m   5845\u001b[0m \u001b[38;5;28;01mraise\u001b[39;00m \u001b[38;5;167;01mKeyError\u001b[39;00m(\u001b[38;5;124mf\u001b[39m\u001b[38;5;124m\"\u001b[39m\u001b[38;5;132;01m{\u001b[39;00mnot_found\u001b[38;5;132;01m}\u001b[39;00m\u001b[38;5;124m not in index\u001b[39m\u001b[38;5;124m\"\u001b[39m)\n",
      "\u001b[1;31mKeyError\u001b[0m: \"None of [Index(['PAM50'], dtype='object', name='Name')] are in the [columns]\""
     ]
    }
   ],
   "source": [
    "annotations = clinical[['PAM50']].copy()\n",
    "annotations = blacksheep.binarize_annotations(annotations)\n",
    "annotations.head()"
   ]
  },
  {
   "cell_type": "markdown",
   "metadata": {},
   "source": [
    "## Step 3: Perform Outlier Analysis\n",
    "\n",
    "Now that our dataframes are correctly formatted, we will start looking for outliers.\n",
    "\n",
    "We will start by using the deva function found in the blacksheep package. This function takes the proteomics data frame (which we transpose to fit the requirements of the function), and the annotations data frame that includes the binarized columns. We also indicate that we want to look for up regulated genes, and that we do not want to aggregate the data. The function returns two things:\n",
    "1. A data object with a dataframe which states whether a sample is an outlier for a specific protein. In the code block below we named this 'outliers'\n",
    "2. A data object with a dataframe with the Q Values showing if a gene shows an enrichment in outliers for a specific subset of tumors as defined in annotations. In the code block below, we named this 'qvalues'."
   ]
  },
  {
   "cell_type": "code",
   "execution_count": null,
   "metadata": {},
   "outputs": [],
   "source": [
    "outliers, qvalues = blacksheep.deva(proteomics.transpose(),\n",
    "                                      annotations,\n",
    "                                      up_or_down='up',\n",
    "                                      aggregate=False,\n",
    "                                      frac_filter=0.3)"
   ]
  },
  {
   "cell_type": "markdown",
   "metadata": {},
   "source": [
    "## Step 4: Inspect Results"
   ]
  },
  {
   "cell_type": "markdown",
   "metadata": {},
   "source": [
    "Because these two tables that are returned are quite complex, we will now look at each of these individually.\n",
    "\n",
    "The outliers table indicates whether each sample is an outlier for a particular gene. In this use case, we will focus on ERBB2. The first line below simplifies the index for each row by dropping the database id and leaving the gene name. We also only print off a portion of the table for brevity."
   ]
  },
  {
   "cell_type": "code",
   "execution_count": null,
   "metadata": {},
   "outputs": [],
   "source": [
    "outliers.df.index = outliers.df.index.droplevel('Database_ID')\n",
    "erbb2_outliers = outliers.df[outliers.df.index.str.match('ERBB2')]\n",
    "erbb2_outliers.iloc[:, :8]"
   ]
  },
  {
   "cell_type": "markdown",
   "metadata": {},
   "source": [
    "In the chart above you can see that most of the samples have 0, indiciating that the sample is not an outlier for ERBB2 protein abundance. X01BR017, however, has a 1, indicating that particular sample is an outlier.\n",
    "\n",
    "The Outliers table contains boolean columns for both outlier and notOutliers. The notOutliers columns are redundant so we will remove them."
   ]
  },
  {
   "cell_type": "code",
   "execution_count": null,
   "metadata": {},
   "outputs": [],
   "source": [
    "erbb2_outliers = erbb2_outliers.loc[:,~erbb2_outliers.columns.str.endswith('_notOutliers')]"
   ]
  },
  {
   "cell_type": "markdown",
   "metadata": {},
   "source": [
    "We can now complile a list of all the samples that were considered to be outliers."
   ]
  },
  {
   "cell_type": "code",
   "execution_count": null,
   "metadata": {},
   "outputs": [],
   "source": [
    "outlier_list = erbb2_outliers.columns[erbb2_outliers.isin([1.0]).all()].tolist()\n",
    "print(outlier_list)"
   ]
  },
  {
   "cell_type": "markdown",
   "metadata": {},
   "source": [
    "## Step 5: Visualizing Outliers\n",
    "To understand what this means, we will plot the proteomics data for the ERBB2 gene and label the outlier samples. Before we graph the result we will join the proteomics and clinical data, isolating the PAM50 subtype and ERBB2."
   ]
  },
  {
   "cell_type": "code",
   "execution_count": null,
   "metadata": {},
   "outputs": [],
   "source": [
    "combined_data = brca.join_metadata_to_omics(metadata_name=\"clinical\",\n",
    "                                            metadata_source=\"awg\",\n",
    "                                            metadata_cols=[\"PAM50\"],\n",
    "                                            omics_name=\"proteomics\", \n",
    "                                            omics_source=\"awg\",\n",
    "                                            omics_genes=['ERBB2'])\n",
    "combined_data.columns = combined_data.columns.droplevel(\"Database_ID\")"
   ]
  },
  {
   "cell_type": "markdown",
   "metadata": {},
   "source": [
    "We will now create the graph."
   ]
  },
  {
   "cell_type": "code",
   "execution_count": null,
   "metadata": {},
   "outputs": [],
   "source": [
    "plt.figure(figsize=(8, 8))\n",
    "sns.set_palette('colorblind')\n",
    "ax = sns.boxplot(data=combined_data, showfliers=False, y='ERBB2_awg_proteomics', color='lightgray')\n",
    "left = False\n",
    "# This for loop labels all the specific outlier data points.\n",
    "for sample in outlier_list:\n",
    "    if left:\n",
    "        position = -0.08\n",
    "        left = False\n",
    "    else:\n",
    "        position = 0.01\n",
    "        left = True\n",
    "    sample = sample.split(\"_\")[0]\n",
    "    ax.annotate(sample, (position, combined_data.transpose()[sample].values[1]))\n",
    "ax = sns.swarmplot(data=combined_data, y='ERBB2_awg_proteomics')\n",
    "plt.show()"
   ]
  },
  {
   "cell_type": "markdown",
   "metadata": {},
   "source": [
    "As you can see from this graph, the samples we labeled, which had a 1.0 in the outliers table were all located at the top of the graph, indicating they are very highly expressed."
   ]
  },
  {
   "cell_type": "markdown",
   "metadata": {},
   "source": [
    "## Step 6: Looking at the Qvalue table\n",
    "\n",
    "Let's now take a look at the Qvalues table. Remember that the qvalues table indicates the probability that a gene shows an enrichment in outliers for categories defined in our annotation dataframe."
   ]
  },
  {
   "cell_type": "code",
   "execution_count": null,
   "metadata": {},
   "outputs": [],
   "source": [
    "qvalues.df.head()"
   ]
  },
  {
   "cell_type": "markdown",
   "metadata": {},
   "source": [
    "This table includes all the q-values. Before really analyzing the table we will want to remove any insignificant q-values. For our purposes we will remove any q-values that are greater than 0.05."
   ]
  },
  {
   "cell_type": "code",
   "execution_count": null,
   "metadata": {},
   "outputs": [],
   "source": [
    "for col in qvalues.df.columns:\n",
    "    qvalues.df.loc[qvalues.df[col] > 0.05, col] = np.nan"
   ]
  },
  {
   "cell_type": "markdown",
   "metadata": {},
   "source": [
    "We will now isolate the ERBB2 gene."
   ]
  },
  {
   "cell_type": "code",
   "execution_count": null,
   "metadata": {},
   "outputs": [],
   "source": [
    "qvalues.df.index = qvalues.df.index.droplevel('Database_ID')\n",
    "qvalues = qvalues.df[qvalues.df.index.str.match('ERBB2')]\n",
    "erbb2_qvalues = qvalues.reset_index()['Name'] == 'ERBB2'\n",
    "qvalues = qvalues.reset_index()[erbb2_qvalues]\n",
    "qvalues.head()"
   ]
  },
  {
   "cell_type": "markdown",
   "metadata": {},
   "source": [
    "Here we see that the only PAM50 subtype that has a significant enrichment is the Her2, which is exactly what is to be expected. To visualize this pattern, we will create a graph similiar to the one above, but with each of the categories in the PAM50 category differentially colored."
   ]
  },
  {
   "cell_type": "code",
   "execution_count": null,
   "metadata": {},
   "outputs": [],
   "source": [
    "plt.figure(figsize=(8, 8))\n",
    "sns.set_palette('colorblind')\n",
    "cols = {'Basal': 0, 'Her2':1, 'LumA':2, 'LumB':3, 'Normal-like':4}\n",
    "ax = sns.boxplot(data=combined_data, y='ERBB2_awg_proteomics', x='PAM50', color='lightgray')\n",
    "ax = sns.swarmplot(data=combined_data, y='ERBB2_awg_proteomics',x='PAM50', hue='PAM50')\n",
    "for sample in outlier_list:\n",
    "    sample = sample.split(\"_\")[0]\n",
    "    ax.annotate(sample, (cols[combined_data.transpose()[sample].values[0]], combined_data.transpose()[sample].values[1]))\n",
    "plt.show()"
   ]
  },
  {
   "cell_type": "markdown",
   "metadata": {},
   "source": [
    "Looking at the distribution of the graph you can see that distribution of the Her2 category is much different than the distributions of the other catgeories. The median of the proteomic data in the Her2 category is much higher than other categories, with many more data points in the upper portion of the graph."
   ]
  },
  {
   "cell_type": "markdown",
   "metadata": {},
   "source": [
    "## Additional Applications"
   ]
  },
  {
   "cell_type": "markdown",
   "metadata": {},
   "source": [
    "We have just walked through one example of how you might use the Outlier Analysis. Using this same approach, you can run the outlier analysis on a number of different clinical attributes, cohorts, and omics data. For example, you may look for outliers within the transcriptomics of the Endometrial cancer type using the clinical attribute of Histological_type. You can also look at more than one clinical attribute at a time by appending more attributes to your annotations table, or you can look for downregulated omics by chaning the 'up_or_down' variable of the run_outliers function."
   ]
  }
 ],
 "metadata": {
  "kernelspec": {
   "display_name": "Python 3 (ipykernel)",
   "language": "python",
   "name": "python3"
  },
  "language_info": {
   "codemirror_mode": {
    "name": "ipython",
    "version": 3
   },
   "file_extension": ".py",
   "mimetype": "text/x-python",
   "name": "python",
   "nbconvert_exporter": "python",
   "pygments_lexer": "ipython3",
   "version": "3.9.12"
  }
 },
 "nbformat": 4,
 "nbformat_minor": 4
}
