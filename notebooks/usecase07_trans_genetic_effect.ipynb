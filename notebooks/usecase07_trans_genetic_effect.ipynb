{
 "cells": [
  {
   "cell_type": "markdown",
   "metadata": {},
   "source": [
    "# Use Case 7: Trans genetic effects"
   ]
  },
  {
   "cell_type": "markdown",
   "metadata": {},
   "source": [
    "We will explore [trans genetic effects](https://en.wikipedia.org/wiki/Trans-acting). This occurs when a DNA mutation in one gene has an effect on a different gene. To fully understand the effect of DNA mutation, this use case will show how to find some of those downstream affected proteins using two prominent cancer genes: ARID1A and TP53."
   ]
  },
  {
   "cell_type": "markdown",
   "metadata": {},
   "source": [
    "# Part I: ARID1A"
   ]
  },
  {
   "cell_type": "markdown",
   "metadata": {},
   "source": [
    "ARID1A potentially affects the transcription of many genes through its function as a chromatin remodeling protein [(Wikipedia)](https://en.wikipedia.org/wiki/ARID1A)."
   ]
  },
  {
   "cell_type": "markdown",
   "metadata": {},
   "source": [
    "This gene has a well-documented set of interacting proteins, we'll examine those to find trans effects."
   ]
  },
  {
   "cell_type": "markdown",
   "metadata": {},
   "source": [
    "# Step 1: Import Libraries"
   ]
  },
  {
   "cell_type": "markdown",
   "metadata": {},
   "source": [
    "Here we will import standard python libraries used to analyze and visualize data as pandas dataframes, as well as our CPTAC data."
   ]
  },
  {
   "cell_type": "code",
   "execution_count": 1,
   "metadata": {},
   "outputs": [],
   "source": [
    "import pandas as pd\n",
    "import numpy as np\n",
    "import scipy.stats\n",
    "import matplotlib.pyplot as plt\n",
    "import seaborn as sns\n",
    "\n",
    "import cptac\n",
    "import cptac.utils as ut\n",
    "\n",
    "en = cptac.Ucec()"
   ]
  },
  {
   "cell_type": "markdown",
   "metadata": {},
   "source": [
    "Our analysis here will be done with endometrial cancer, but can also be done using any of the other cancers in the CPTAC dataset."
   ]
  },
  {
   "cell_type": "markdown",
   "metadata": {},
   "source": [
    "# Step 2: Get Interacting Proteins"
   ]
  },
  {
   "cell_type": "markdown",
   "metadata": {},
   "source": [
    "Now we will get a list of the proteins that are know to interact with ARID1A directly. Our list comes from Bioplex, a process that identifies proteins in direct physical contact. The CPTAC package has a method called get_interacting_proteins_bioplex, which returns a list of proteins that interact with our gene in this way."
   ]
  },
  {
   "cell_type": "code",
   "execution_count": 2,
   "metadata": {},
   "outputs": [
    {
     "name": "stdout",
     "output_type": "stream",
     "text": [
      "Interacting Proteins:\n",
      "['SS18L2', 'WWP2', 'SMARCE1', 'SMARCC2', 'TEX13B', 'DPF2', 'DPF1', 'SMARCB1', 'SMARCD1', 'DPF3', 'BCL7A', 'BCL7C', 'SS18']\n"
     ]
    }
   ],
   "source": [
    "gene = \"ARID1A\"\n",
    "omics = \"proteomics\"\n",
    "\n",
    "interacting_proteins = ut.get_interacting_proteins_bioplex(gene)\n",
    "\n",
    "print(\"Interacting Proteins:\")\n",
    "print(interacting_proteins)"
   ]
  },
  {
   "cell_type": "markdown",
   "metadata": {},
   "source": [
    "# Step 3: Get Omics Data"
   ]
  },
  {
   "cell_type": "markdown",
   "metadata": {},
   "source": [
    "Now we create a new dataframe containing protein measurements for ARID1A and its interacting proteins, calling en.join_omics_to_mutations. Note that if proteomics data does not identify one of the genes in your request, the join method will throw a warning and fill missing values with NaN."
   ]
  },
  {
   "cell_type": "code",
   "execution_count": 3,
   "metadata": {},
   "outputs": [
    {
     "name": "stdout",
     "output_type": "stream",
     "text": [
      "                                                  \r"
     ]
    },
    {
     "name": "stderr",
     "output_type": "stream",
     "text": [
      "cptac warning: The following columns were not found in the awg proteomics dataframe, so they were inserted into joined table, but filled with NaN: DPF1, TEX13B (/Users/robertoldroyd/opt/anaconda3/lib/python3.8/site-packages/cptac/cancers/cancer.py, line 391)\n"
     ]
    },
    {
     "name": "stdout",
     "output_type": "stream",
     "text": [
      "                                                        \r"
     ]
    },
    {
     "name": "stderr",
     "output_type": "stream",
     "text": [
      "cptac warning: In joining the somatic_mutation table, no mutations were found for the following samples, so they were filled with Wildtype_Tumor or Wildtype_Normal: 101 samples for the ARID1A gene (/Users/robertoldroyd/opt/anaconda3/lib/python3.8/site-packages/cptac/cancers/cancer.py, line 391)\n"
     ]
    }
   ],
   "source": [
    "protdf = en.join_omics_to_mutations(mutations_genes=gene,\n",
    "                                    mutations_source='awg',\n",
    "                                    omics_name=omics,\n",
    "                                    omics_source='awg',\n",
    "                                    omics_genes=interacting_proteins)\n",
    "protdf = protdf.loc[protdf['Sample_Status'] == 'Tumor']"
   ]
  },
  {
   "cell_type": "code",
   "execution_count": 4,
   "metadata": {},
   "outputs": [
    {
     "data": {
      "text/html": [
       "<div>\n",
       "<style scoped>\n",
       "    .dataframe tbody tr th:only-of-type {\n",
       "        vertical-align: middle;\n",
       "    }\n",
       "\n",
       "    .dataframe tbody tr th {\n",
       "        vertical-align: top;\n",
       "    }\n",
       "\n",
       "    .dataframe thead th {\n",
       "        text-align: right;\n",
       "    }\n",
       "</style>\n",
       "<table border=\"1\" class=\"dataframe\">\n",
       "  <thead>\n",
       "    <tr style=\"text-align: right;\">\n",
       "      <th>Name</th>\n",
       "      <th>SS18L2_awg_proteomics</th>\n",
       "      <th>WWP2_awg_proteomics</th>\n",
       "      <th>SMARCE1_awg_proteomics</th>\n",
       "      <th>SMARCC2_awg_proteomics</th>\n",
       "      <th>TEX13B_awg_proteomics</th>\n",
       "      <th>DPF2_awg_proteomics</th>\n",
       "      <th>DPF1_awg_proteomics</th>\n",
       "      <th>SMARCB1_awg_proteomics</th>\n",
       "      <th>SMARCD1_awg_proteomics</th>\n",
       "      <th>DPF3_awg_proteomics</th>\n",
       "      <th>BCL7A_awg_proteomics</th>\n",
       "      <th>BCL7C_awg_proteomics</th>\n",
       "      <th>SS18_awg_proteomics</th>\n",
       "      <th>ARID1A_Mutation</th>\n",
       "      <th>ARID1A_Location</th>\n",
       "      <th>ARID1A_Mutation_Status</th>\n",
       "      <th>Sample_Status</th>\n",
       "    </tr>\n",
       "    <tr>\n",
       "      <th>Patient_ID</th>\n",
       "      <th></th>\n",
       "      <th></th>\n",
       "      <th></th>\n",
       "      <th></th>\n",
       "      <th></th>\n",
       "      <th></th>\n",
       "      <th></th>\n",
       "      <th></th>\n",
       "      <th></th>\n",
       "      <th></th>\n",
       "      <th></th>\n",
       "      <th></th>\n",
       "      <th></th>\n",
       "      <th></th>\n",
       "      <th></th>\n",
       "      <th></th>\n",
       "      <th></th>\n",
       "    </tr>\n",
       "  </thead>\n",
       "  <tbody>\n",
       "    <tr>\n",
       "      <th>C3L-00006</th>\n",
       "      <td>NaN</td>\n",
       "      <td>-0.1740</td>\n",
       "      <td>-0.3950</td>\n",
       "      <td>-0.451</td>\n",
       "      <td>NaN</td>\n",
       "      <td>-0.548</td>\n",
       "      <td>NaN</td>\n",
       "      <td>-0.111</td>\n",
       "      <td>-0.328</td>\n",
       "      <td>NaN</td>\n",
       "      <td>0.4100</td>\n",
       "      <td>-0.9180</td>\n",
       "      <td>-0.498</td>\n",
       "      <td>[Missense_Mutation]</td>\n",
       "      <td>[p.T2121P]</td>\n",
       "      <td>Single_mutation</td>\n",
       "      <td>Tumor</td>\n",
       "    </tr>\n",
       "    <tr>\n",
       "      <th>C3L-00008</th>\n",
       "      <td>-0.3110</td>\n",
       "      <td>0.2060</td>\n",
       "      <td>-0.5560</td>\n",
       "      <td>-0.627</td>\n",
       "      <td>NaN</td>\n",
       "      <td>-0.919</td>\n",
       "      <td>NaN</td>\n",
       "      <td>-0.639</td>\n",
       "      <td>-0.418</td>\n",
       "      <td>NaN</td>\n",
       "      <td>0.8880</td>\n",
       "      <td>-0.9410</td>\n",
       "      <td>-0.162</td>\n",
       "      <td>[Nonsense_Mutation, Frame_Shift_Del]</td>\n",
       "      <td>[p.Q403*, p.D1850Tfs*33]</td>\n",
       "      <td>Multiple_mutation</td>\n",
       "      <td>Tumor</td>\n",
       "    </tr>\n",
       "    <tr>\n",
       "      <th>C3L-00032</th>\n",
       "      <td>-0.7080</td>\n",
       "      <td>0.0381</td>\n",
       "      <td>-0.5400</td>\n",
       "      <td>-0.537</td>\n",
       "      <td>NaN</td>\n",
       "      <td>-0.555</td>\n",
       "      <td>NaN</td>\n",
       "      <td>-0.352</td>\n",
       "      <td>-0.648</td>\n",
       "      <td>NaN</td>\n",
       "      <td>0.0927</td>\n",
       "      <td>-0.3880</td>\n",
       "      <td>-0.448</td>\n",
       "      <td>[Wildtype_Tumor]</td>\n",
       "      <td>[No_mutation]</td>\n",
       "      <td>Wildtype_Tumor</td>\n",
       "      <td>Tumor</td>\n",
       "    </tr>\n",
       "    <tr>\n",
       "      <th>C3L-00090</th>\n",
       "      <td>-0.0695</td>\n",
       "      <td>-0.2500</td>\n",
       "      <td>0.0968</td>\n",
       "      <td>-0.102</td>\n",
       "      <td>NaN</td>\n",
       "      <td>0.372</td>\n",
       "      <td>NaN</td>\n",
       "      <td>0.190</td>\n",
       "      <td>0.186</td>\n",
       "      <td>NaN</td>\n",
       "      <td>0.6880</td>\n",
       "      <td>-0.0328</td>\n",
       "      <td>0.203</td>\n",
       "      <td>[Wildtype_Tumor]</td>\n",
       "      <td>[No_mutation]</td>\n",
       "      <td>Wildtype_Tumor</td>\n",
       "      <td>Tumor</td>\n",
       "    </tr>\n",
       "    <tr>\n",
       "      <th>C3L-00098</th>\n",
       "      <td>0.0371</td>\n",
       "      <td>-0.3620</td>\n",
       "      <td>0.0897</td>\n",
       "      <td>-0.432</td>\n",
       "      <td>NaN</td>\n",
       "      <td>-0.642</td>\n",
       "      <td>NaN</td>\n",
       "      <td>-0.829</td>\n",
       "      <td>-0.599</td>\n",
       "      <td>NaN</td>\n",
       "      <td>0.3460</td>\n",
       "      <td>-1.4000</td>\n",
       "      <td>0.298</td>\n",
       "      <td>[Wildtype_Tumor]</td>\n",
       "      <td>[No_mutation]</td>\n",
       "      <td>Wildtype_Tumor</td>\n",
       "      <td>Tumor</td>\n",
       "    </tr>\n",
       "  </tbody>\n",
       "</table>\n",
       "</div>"
      ],
      "text/plain": [
       "Name        SS18L2_awg_proteomics  WWP2_awg_proteomics  \\\n",
       "Patient_ID                                               \n",
       "C3L-00006                     NaN              -0.1740   \n",
       "C3L-00008                 -0.3110               0.2060   \n",
       "C3L-00032                 -0.7080               0.0381   \n",
       "C3L-00090                 -0.0695              -0.2500   \n",
       "C3L-00098                  0.0371              -0.3620   \n",
       "\n",
       "Name        SMARCE1_awg_proteomics  SMARCC2_awg_proteomics  \\\n",
       "Patient_ID                                                   \n",
       "C3L-00006                  -0.3950                  -0.451   \n",
       "C3L-00008                  -0.5560                  -0.627   \n",
       "C3L-00032                  -0.5400                  -0.537   \n",
       "C3L-00090                   0.0968                  -0.102   \n",
       "C3L-00098                   0.0897                  -0.432   \n",
       "\n",
       "Name        TEX13B_awg_proteomics  DPF2_awg_proteomics  DPF1_awg_proteomics  \\\n",
       "Patient_ID                                                                    \n",
       "C3L-00006                     NaN               -0.548                  NaN   \n",
       "C3L-00008                     NaN               -0.919                  NaN   \n",
       "C3L-00032                     NaN               -0.555                  NaN   \n",
       "C3L-00090                     NaN                0.372                  NaN   \n",
       "C3L-00098                     NaN               -0.642                  NaN   \n",
       "\n",
       "Name        SMARCB1_awg_proteomics  SMARCD1_awg_proteomics  \\\n",
       "Patient_ID                                                   \n",
       "C3L-00006                   -0.111                  -0.328   \n",
       "C3L-00008                   -0.639                  -0.418   \n",
       "C3L-00032                   -0.352                  -0.648   \n",
       "C3L-00090                    0.190                   0.186   \n",
       "C3L-00098                   -0.829                  -0.599   \n",
       "\n",
       "Name        DPF3_awg_proteomics  BCL7A_awg_proteomics  BCL7C_awg_proteomics  \\\n",
       "Patient_ID                                                                    \n",
       "C3L-00006                   NaN                0.4100               -0.9180   \n",
       "C3L-00008                   NaN                0.8880               -0.9410   \n",
       "C3L-00032                   NaN                0.0927               -0.3880   \n",
       "C3L-00090                   NaN                0.6880               -0.0328   \n",
       "C3L-00098                   NaN                0.3460               -1.4000   \n",
       "\n",
       "Name        SS18_awg_proteomics                       ARID1A_Mutation  \\\n",
       "Patient_ID                                                              \n",
       "C3L-00006                -0.498                   [Missense_Mutation]   \n",
       "C3L-00008                -0.162  [Nonsense_Mutation, Frame_Shift_Del]   \n",
       "C3L-00032                -0.448                      [Wildtype_Tumor]   \n",
       "C3L-00090                 0.203                      [Wildtype_Tumor]   \n",
       "C3L-00098                 0.298                      [Wildtype_Tumor]   \n",
       "\n",
       "Name                 ARID1A_Location ARID1A_Mutation_Status Sample_Status  \n",
       "Patient_ID                                                                 \n",
       "C3L-00006                 [p.T2121P]        Single_mutation         Tumor  \n",
       "C3L-00008   [p.Q403*, p.D1850Tfs*33]      Multiple_mutation         Tumor  \n",
       "C3L-00032              [No_mutation]         Wildtype_Tumor         Tumor  \n",
       "C3L-00090              [No_mutation]         Wildtype_Tumor         Tumor  \n",
       "C3L-00098              [No_mutation]         Wildtype_Tumor         Tumor  "
      ]
     },
     "execution_count": 4,
     "metadata": {},
     "output_type": "execute_result"
    }
   ],
   "source": [
    "protdf.head()"
   ]
  },
  {
   "cell_type": "markdown",
   "metadata": {},
   "source": [
    "If you scroll the above table all the way to the right, you will see three columns for ARID1A mutations. These columns contain lists, as a sample may have many different mutations. The \"Mutation_status\" column indicates whether there is a single mutation or multiple mutations for that sample."
   ]
  },
  {
   "cell_type": "markdown",
   "metadata": {},
   "source": [
    "With what we are looking for it does not matter how many mutations a sample has, so we want to simplify the Mutation_status column to have just two values, either \"Mutated\" or \"Wildtype.\" We store this in a new column \"Gene Mutation Status\", then remove the unnecessary columns."
   ]
  },
  {
   "cell_type": "code",
   "execution_count": 5,
   "metadata": {},
   "outputs": [],
   "source": [
    "for ind, row in protdf.iterrows():\n",
    "    if row[gene+\"_Mutation_Status\"] != 'Wildtype_Tumor':\n",
    "        protdf.at[ind,'Gene Mutation Status'] = 'Mutated'\n",
    "    else:\n",
    "        protdf.at[ind,'Gene Mutation Status'] = 'Wildtype'"
   ]
  },
  {
   "cell_type": "code",
   "execution_count": 6,
   "metadata": {},
   "outputs": [],
   "source": [
    "protdf = protdf.drop(gene+\"_Mutation\",axis=1)\n",
    "protdf = protdf.drop(gene+\"_Location\",axis=1)\n",
    "protdf = protdf.drop(gene+\"_Mutation_Status\", axis=1)\n",
    "protdf = protdf.drop(\"Sample_Status\",axis=1)"
   ]
  },
  {
   "cell_type": "markdown",
   "metadata": {},
   "source": [
    "# Step 4: Do T-tests"
   ]
  },
  {
   "cell_type": "markdown",
   "metadata": {},
   "source": [
    "The column names now represent the interacting proteins, so we can create a list in order to run our t-tests for each protein individually."
   ]
  },
  {
   "cell_type": "code",
   "execution_count": 7,
   "metadata": {},
   "outputs": [],
   "source": [
    "col_list = list(protdf.columns)\n",
    "col_list.remove('Gene Mutation Status')"
   ]
  },
  {
   "cell_type": "code",
   "execution_count": 8,
   "metadata": {},
   "outputs": [
    {
     "name": "stdout",
     "output_type": "stream",
     "text": [
      "['SS18L2_awg_proteomics', 'WWP2_awg_proteomics', 'SMARCE1_awg_proteomics', 'SMARCC2_awg_proteomics', 'TEX13B_awg_proteomics', 'DPF2_awg_proteomics', 'DPF1_awg_proteomics', 'SMARCB1_awg_proteomics', 'SMARCD1_awg_proteomics', 'DPF3_awg_proteomics', 'BCL7A_awg_proteomics', 'BCL7C_awg_proteomics', 'SS18_awg_proteomics']\n"
     ]
    }
   ],
   "source": [
    "print(col_list)"
   ]
  },
  {
   "cell_type": "markdown",
   "metadata": {},
   "source": [
    "Now we call wrap_ttest, which is an accessory function in cptac.utils. It expects one column with a binary variable (this is why we created the 'Gene Mutation Status' column earlier), and all other data as numeric. It will then run ttests on each column to determine if there is a statistically significant difference between the binary values. For us, it will identify if there are significantly different protein abundances between wildtype and mutated samples."
   ]
  },
  {
   "cell_type": "code",
   "execution_count": 9,
   "metadata": {},
   "outputs": [
    {
     "name": "stdout",
     "output_type": "stream",
     "text": [
      "Doing t-test comparisons\n",
      "\n",
      "               Comparison   P_Value\n",
      "0     DPF2_awg_proteomics  0.000002\n",
      "1  SMARCB1_awg_proteomics  0.000689\n",
      "2  SMARCC2_awg_proteomics  0.000827\n",
      "3  SMARCE1_awg_proteomics  0.001498\n",
      "4  SMARCD1_awg_proteomics  0.001745\n",
      "5    BCL7C_awg_proteomics   0.00438\n",
      "\n",
      "\n",
      "\n"
     ]
    }
   ],
   "source": [
    "print(\"Doing t-test comparisons\\n\")\n",
    "wrap_results = ut.wrap_ttest(protdf, 'Gene Mutation Status', col_list)\n",
    "#This gives us back a dataframe with significant comparisons\n",
    "\n",
    "if wrap_results is not None:\n",
    "        print(wrap_results)\n",
    "        print(\"\\n\\n\")\n",
    "else:\n",
    "    print(\"No significant comparisons found\")"
   ]
  },
  {
   "cell_type": "markdown",
   "metadata": {},
   "source": [
    "Our t-test returned six proteins whose levels were significantly changed by a mutation in ARID1A. We will look at DPF2 and plot the data with Seaborn to show exactly how its levels change with our gene's mutation."
   ]
  },
  {
   "cell_type": "code",
   "execution_count": 10,
   "metadata": {
    "scrolled": true
   },
   "outputs": [
    {
     "data": {
      "image/png": "[encoded data removed]",
      "text/plain": [
       "<Figure size 432x288 with 1 Axes>"
      ]
     },
     "metadata": {
      "needs_background": "light"
     },
     "output_type": "display_data"
    }
   ],
   "source": [
    "sns.boxplot(data = protdf, x = 'Gene Mutation Status', y = 'DPF2_awg_proteomics', showfliers = False)\n",
    "sns.stripplot(data = protdf, x = 'Gene Mutation Status', y = 'DPF2_awg_proteomics', jitter = True, dodge = True, color = '.3')\n",
    "plt.show()"
   ]
  },
  {
   "cell_type": "markdown",
   "metadata": {},
   "source": [
    "From this boxplot, we can see that there is a significant decrease in DPF2 levels with a mutation in ARID1A."
   ]
  },
  {
   "cell_type": "markdown",
   "metadata": {},
   "source": [
    "# Part II: Example with TP53"
   ]
  },
  {
   "cell_type": "markdown",
   "metadata": {},
   "source": [
    "We will now look at TP53: a tumor suppressing gene that is very important in helping prevent mutation, as well as repairing damaged DNA in cells [(Wikipedia)](https://en.wikipedia.org/wiki/P53)."
   ]
  },
  {
   "cell_type": "markdown",
   "metadata": {},
   "source": [
    "We will use the same steps as above, this time without separated code blocks. Because we are not sure which proteins might be affected, we will look for trans effects in all the proteomics data instead of just the interacting proteins from bioplex. Due to the high number of comparisons, this will take a little bit of time. In the end, we will have a list of genes affected by TP53."
   ]
  },
  {
   "cell_type": "code",
   "execution_count": 11,
   "metadata": {},
   "outputs": [
    {
     "name": "stdout",
     "output_type": "stream",
     "text": [
      "\n",
      "Gene:  TP53\n"
     ]
    },
    {
     "name": "stderr",
     "output_type": "stream",
     "text": [
      "cptac warning: In joining the somatic_mutation table, no mutations were found for the following samples, so they were filled with Wildtype_Tumor or Wildtype_Normal: 123 samples for the TP53 gene (/Users/robertoldroyd/opt/anaconda3/lib/python3.8/site-packages/cptac/cancers/cancer.py, line 391)\n"
     ]
    },
    {
     "name": "stdout",
     "output_type": "stream",
     "text": [
      "Doing t-test comparisons\n",
      "\n",
      "                  Comparison   P_Value\n",
      "0      MTHFD2_awg_proteomics       0.0\n",
      "1    SLC4A1AP_awg_proteomics  0.000001\n",
      "2        XPO5_awg_proteomics  0.000002\n",
      "3       TRMT6_awg_proteomics  0.000002\n",
      "4       STAT2_awg_proteomics  0.000002\n",
      "..                       ...       ...\n",
      "131     PRPF6_awg_proteomics  0.045829\n",
      "132     KDM2A_awg_proteomics  0.046903\n",
      "133      PBLD_awg_proteomics  0.047125\n",
      "134     USP14_awg_proteomics  0.047856\n",
      "135    STARD7_awg_proteomics  0.049078\n",
      "\n",
      "[136 rows x 2 columns]\n",
      "\n",
      "\n",
      "\n"
     ]
    }
   ],
   "source": [
    "gene = \"TP53\"\n",
    "print(\"\\nGene: \", gene)\n",
    "\n",
    "# Step 1: Create dataframe in order to do comparisons with wrap_ttest\n",
    "# Note that here we do not pass any values for 'omics_genes', so it will use all available genes\n",
    "protdf = en.join_omics_to_mutations(mutations_genes=[gene],\n",
    "                                    mutations_source=\"awg\",\n",
    "                                    omics_name=omics,\n",
    "                                    omics_source=\"awg\")\n",
    "protdf = protdf.loc[protdf['Sample_Status'] == 'Tumor']\n",
    "\n",
    "for ind, row in protdf.iterrows():\n",
    "    if row[gene+\"_Mutation_Status\"] != 'Wildtype_Tumor':\n",
    "        protdf.at[ind,'ARID1A Mutation Status'] = 'Mutated'\n",
    "    else:\n",
    "        protdf.at[ind,'ARID1A Mutation Status'] = 'Wildtype'\n",
    "\n",
    "        \n",
    "# Step 2: Format the dataframe to set it up properly for our t-test\n",
    "protdf = protdf.drop(gene+\"_Mutation\",axis=1)\n",
    "protdf = protdf.drop(gene+\"_Location\",axis=1)\n",
    "protdf = protdf.drop(gene+\"_Mutation_Status\", axis=1)\n",
    "protdf = protdf.drop(\"Sample_Status\",axis=1)\n",
    "\n",
    "\n",
    "#Step 3: Make list of columns to be compared using t-tests\n",
    "col_list = list(protdf.columns)\n",
    "col_list.remove('ARID1A Mutation Status')\n",
    "\n",
    "    \n",
    "#Step 4: Call wrap_ttest, pass in formatted dataframe, print results\n",
    "print(\"Doing t-test comparisons\\n\")\n",
    "wrap_results = ut.wrap_ttest(protdf, 'ARID1A Mutation Status', col_list)\n",
    "\n",
    "if wrap_results is not None:\n",
    "        print(wrap_results)\n",
    "        print(\"\\n\\n\")"
   ]
  },
  {
   "cell_type": "markdown",
   "metadata": {},
   "source": [
    "Each of the proteins shown can be individually analyzed in the same manner that we showed above. It's worth noting that with some genes this list might be relatively small because our wrap_ttest does Bonferroni correction, so the cutoff for \"significance\" is very strict. For further ideas about how to analyze larger lists of genes, refer to usecase 5."
   ]
  }
 ],
 "metadata": {
  "kernelspec": {
   "display_name": "Python 3",
   "language": "python",
   "name": "python3"
  },
  "language_info": {
   "codemirror_mode": {
    "name": "ipython",
    "version": 3
   },
   "file_extension": ".py",
   "mimetype": "text/x-python",
   "name": "python",
   "nbconvert_exporter": "python",
   "pygments_lexer": "ipython3",
   "version": "3.8.8"
  }
 },
 "nbformat": 4,
 "nbformat_minor": 4
}
