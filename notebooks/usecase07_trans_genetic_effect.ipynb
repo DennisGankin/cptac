{
 "cells": [
  {
   "cell_type": "markdown",
   "metadata": {},
   "source": [
    "# Use Case 7: Trans genetic effects"
   ]
  },
  {
   "cell_type": "markdown",
   "metadata": {},
   "source": [
    "We will explore [trans genetic effects](https://en.wikipedia.org/wiki/Trans-acting). This occurs when a DNA mutation in one gene has an effect on a different gene. To fully understand the effect of DNA mutation, this use case will show how to find some of those downstream affected proteins using two prominent cancer genes: ARID1A and TP53."
   ]
  },
  {
   "cell_type": "markdown",
   "metadata": {},
   "source": [
    "# Part I: ARID1A"
   ]
  },
  {
   "cell_type": "markdown",
   "metadata": {},
   "source": [
    "ARID1A potentially affects the transcription of many genes through its function as a chromatin remodeling protein [(Wikipedia)](https://en.wikipedia.org/wiki/ARID1A)."
   ]
  },
  {
   "cell_type": "markdown",
   "metadata": {},
   "source": [
    "This gene has a well-documented set of interacting proteins, we'll examine those to find trans effects."
   ]
  },
  {
   "cell_type": "markdown",
   "metadata": {},
   "source": [
    "# Step 1: Import Libraries"
   ]
  },
  {
   "cell_type": "markdown",
   "metadata": {},
   "source": [
    "Here we will import standard python libraries used to analyze and visualize data as pandas dataframes, as well as our CPTAC data."
   ]
  },
  {
   "cell_type": "code",
   "execution_count": 1,
   "metadata": {},
   "outputs": [],
   "source": [
    "import pandas as pd\n",
    "import numpy as np\n",
    "import scipy.stats\n",
    "import matplotlib.pyplot as plt\n",
    "import seaborn as sns\n",
    "\n",
    "import cptac\n",
    "import cptac.utils as ut\n",
    "\n",
    "en = cptac.Ucec()"
   ]
  },
  {
   "cell_type": "markdown",
   "metadata": {},
   "source": [
    "Our analysis here will be done with endometrial cancer, but can also be done using any of the other cancers in the CPTAC dataset."
   ]
  },
  {
   "cell_type": "markdown",
   "metadata": {},
   "source": [
    "# Step 2: Get Interacting Proteins"
   ]
  },
  {
   "cell_type": "markdown",
   "metadata": {},
   "source": [
    "Now we will get a list of the proteins that are know to interact with ARID1A directly. Our list comes from Bioplex, a process that identifies proteins in direct physical contact. The CPTAC package has a method called get_interacting_proteins_bioplex, which returns a list of proteins that interact with our gene in this way."
   ]
  },
  {
   "cell_type": "code",
   "execution_count": 2,
   "metadata": {},
   "outputs": [
    {
     "name": "stdout",
     "output_type": "stream",
     "text": [
      "Interacting Proteins:\n",
      "['BCL7A', 'SMARCD1', 'SMARCE1', 'TEX13B', 'DPF2', 'WWP2', 'SMARCC2', 'SS18L2', 'DPF3', 'SMARCB1', 'SS18', 'DPF1', 'BCL7C']\n"
     ]
    }
   ],
   "source": [
    "gene = \"ARID1A\"\n",
    "omics = \"proteomics\"\n",
    "\n",
    "interacting_proteins = ut.get_interacting_proteins_bioplex(gene)\n",
    "\n",
    "print(\"Interacting Proteins:\")\n",
    "print(interacting_proteins)"
   ]
  },
  {
   "cell_type": "markdown",
   "metadata": {},
   "source": [
    "# Step 3: Get Omics Data"
   ]
  },
  {
   "cell_type": "markdown",
   "metadata": {},
   "source": [
    "Now we create a new dataframe containing protein measurements for ARID1A and its interacting proteins, calling en.join_omics_to_mutations. Note that if proteomics data does not identify one of the genes in your request, the join method will throw a warning and fill missing values with NaN."
   ]
  },
  {
   "cell_type": "code",
   "execution_count": 3,
   "metadata": {},
   "outputs": [
    {
     "name": "stderr",
     "output_type": "stream",
     "text": [
      "cptac warning: The following columns were not found in the umich proteomics dataframe, so they were inserted into joined table, but filled with NaN: DPF1, TEX13B (C:\\Users\\sabme\\anaconda3\\lib\\site-packages\\cptac\\cancers\\cancer.py, line 556)\n",
      "cptac warning: In joining the somatic_mutation table, no mutations were found for the following samples, so they were filled with Wildtype_Tumor or Wildtype_Normal: 107 samples for the ARID1A gene (C:\\Users\\sabme\\anaconda3\\lib\\site-packages\\cptac\\cancers\\cancer.py, line 371)\n"
     ]
    }
   ],
   "source": [
    "protdf = en.join_omics_to_mutations(mutations_genes=gene,\n",
    "                                    mutations_source='washu',\n",
    "                                    omics_name=omics,\n",
    "                                    omics_source='umich',\n",
    "                                    omics_genes=interacting_proteins)\n",
    "protdf = protdf.loc[protdf['Sample_Status'] == 'Tumor']"
   ]
  },
  {
   "cell_type": "code",
   "execution_count": 4,
   "metadata": {
    "scrolled": true
   },
   "outputs": [
    {
     "data": {
      "text/html": [
       "<div>\n",
       "<style scoped>\n",
       "    .dataframe tbody tr th:only-of-type {\n",
       "        vertical-align: middle;\n",
       "    }\n",
       "\n",
       "    .dataframe tbody tr th {\n",
       "        vertical-align: top;\n",
       "    }\n",
       "\n",
       "    .dataframe thead th {\n",
       "        text-align: right;\n",
       "    }\n",
       "</style>\n",
       "<table border=\"1\" class=\"dataframe\">\n",
       "  <thead>\n",
       "    <tr style=\"text-align: right;\">\n",
       "      <th>Name</th>\n",
       "      <th>BCL7A_umich_proteomics</th>\n",
       "      <th>BCL7A_umich_proteomics</th>\n",
       "      <th>BCL7C_umich_proteomics</th>\n",
       "      <th>DPF1_umich_proteomics</th>\n",
       "      <th>DPF2_umich_proteomics</th>\n",
       "      <th>DPF3_umich_proteomics</th>\n",
       "      <th>SMARCB1_umich_proteomics</th>\n",
       "      <th>SMARCC2_umich_proteomics</th>\n",
       "      <th>SMARCC2_umich_proteomics</th>\n",
       "      <th>SMARCD1_umich_proteomics</th>\n",
       "      <th>SMARCE1_umich_proteomics</th>\n",
       "      <th>SS18_umich_proteomics</th>\n",
       "      <th>SS18L2_umich_proteomics</th>\n",
       "      <th>TEX13B_umich_proteomics</th>\n",
       "      <th>WWP2_umich_proteomics</th>\n",
       "      <th>ARID1A_Mutation</th>\n",
       "      <th>ARID1A_Location</th>\n",
       "      <th>ARID1A_Mutation_Status_washu_somatic_mutation</th>\n",
       "      <th>ARID1A_Mutation_Status_washu_somatic_mutation</th>\n",
       "      <th>Sample_Status</th>\n",
       "    </tr>\n",
       "    <tr>\n",
       "      <th>Patient_ID</th>\n",
       "      <th></th>\n",
       "      <th></th>\n",
       "      <th></th>\n",
       "      <th></th>\n",
       "      <th></th>\n",
       "      <th></th>\n",
       "      <th></th>\n",
       "      <th></th>\n",
       "      <th></th>\n",
       "      <th></th>\n",
       "      <th></th>\n",
       "      <th></th>\n",
       "      <th></th>\n",
       "      <th></th>\n",
       "      <th></th>\n",
       "      <th></th>\n",
       "      <th></th>\n",
       "      <th></th>\n",
       "      <th></th>\n",
       "      <th></th>\n",
       "    </tr>\n",
       "  </thead>\n",
       "  <tbody>\n",
       "    <tr>\n",
       "      <th>C3L-00006</th>\n",
       "      <td>NaN</td>\n",
       "      <td>0.342403</td>\n",
       "      <td>-0.636899</td>\n",
       "      <td>NaN</td>\n",
       "      <td>-0.341313</td>\n",
       "      <td>NaN</td>\n",
       "      <td>-0.276047</td>\n",
       "      <td>-0.518042</td>\n",
       "      <td>-0.147223</td>\n",
       "      <td>-0.180085</td>\n",
       "      <td>-0.255385</td>\n",
       "      <td>-0.184546</td>\n",
       "      <td>NaN</td>\n",
       "      <td>NaN</td>\n",
       "      <td>0.102838</td>\n",
       "      <td>[Missense_Mutation]</td>\n",
       "      <td>[p.T2121P]</td>\n",
       "      <td>Single_mutation</td>\n",
       "      <td>Single_mutation</td>\n",
       "      <td>Tumor</td>\n",
       "    </tr>\n",
       "    <tr>\n",
       "      <th>C3L-00008</th>\n",
       "      <td>0.279261</td>\n",
       "      <td>0.043996</td>\n",
       "      <td>-0.853702</td>\n",
       "      <td>NaN</td>\n",
       "      <td>-0.613538</td>\n",
       "      <td>NaN</td>\n",
       "      <td>-0.412291</td>\n",
       "      <td>-0.575983</td>\n",
       "      <td>-0.913941</td>\n",
       "      <td>-0.242887</td>\n",
       "      <td>-0.506047</td>\n",
       "      <td>-0.045882</td>\n",
       "      <td>-0.069976</td>\n",
       "      <td>NaN</td>\n",
       "      <td>0.283238</td>\n",
       "      <td>[Nonsense_Mutation, Frame_Shift_Del]</td>\n",
       "      <td>[p.Q403*, p.D1850Tfs*33]</td>\n",
       "      <td>Multiple_mutation</td>\n",
       "      <td>Multiple_mutation</td>\n",
       "      <td>Tumor</td>\n",
       "    </tr>\n",
       "    <tr>\n",
       "      <th>C3L-00032</th>\n",
       "      <td>NaN</td>\n",
       "      <td>0.012216</td>\n",
       "      <td>-0.405616</td>\n",
       "      <td>NaN</td>\n",
       "      <td>-0.311407</td>\n",
       "      <td>NaN</td>\n",
       "      <td>-0.227223</td>\n",
       "      <td>-0.550890</td>\n",
       "      <td>-0.500229</td>\n",
       "      <td>-0.609800</td>\n",
       "      <td>-0.394279</td>\n",
       "      <td>-0.353417</td>\n",
       "      <td>-0.524786</td>\n",
       "      <td>NaN</td>\n",
       "      <td>0.225262</td>\n",
       "      <td>[Wildtype_Tumor]</td>\n",
       "      <td>[No_mutation]</td>\n",
       "      <td>NaN</td>\n",
       "      <td>NaN</td>\n",
       "      <td>Tumor</td>\n",
       "    </tr>\n",
       "    <tr>\n",
       "      <th>C3L-00084</th>\n",
       "      <td>NaN</td>\n",
       "      <td>0.006604</td>\n",
       "      <td>0.209216</td>\n",
       "      <td>NaN</td>\n",
       "      <td>0.453395</td>\n",
       "      <td>NaN</td>\n",
       "      <td>0.311589</td>\n",
       "      <td>-0.041216</td>\n",
       "      <td>-0.520971</td>\n",
       "      <td>1.456642</td>\n",
       "      <td>0.582811</td>\n",
       "      <td>0.309990</td>\n",
       "      <td>NaN</td>\n",
       "      <td>NaN</td>\n",
       "      <td>-0.191736</td>\n",
       "      <td>[Wildtype_Tumor]</td>\n",
       "      <td>[No_mutation]</td>\n",
       "      <td>NaN</td>\n",
       "      <td>NaN</td>\n",
       "      <td>Tumor</td>\n",
       "    </tr>\n",
       "    <tr>\n",
       "      <th>C3L-00090</th>\n",
       "      <td>NaN</td>\n",
       "      <td>0.548479</td>\n",
       "      <td>-0.049807</td>\n",
       "      <td>NaN</td>\n",
       "      <td>0.201228</td>\n",
       "      <td>NaN</td>\n",
       "      <td>0.364734</td>\n",
       "      <td>-0.063142</td>\n",
       "      <td>0.412197</td>\n",
       "      <td>0.210401</td>\n",
       "      <td>0.170752</td>\n",
       "      <td>0.061522</td>\n",
       "      <td>0.056844</td>\n",
       "      <td>NaN</td>\n",
       "      <td>0.071053</td>\n",
       "      <td>[Wildtype_Tumor]</td>\n",
       "      <td>[No_mutation]</td>\n",
       "      <td>NaN</td>\n",
       "      <td>NaN</td>\n",
       "      <td>Tumor</td>\n",
       "    </tr>\n",
       "  </tbody>\n",
       "</table>\n",
       "</div>"
      ],
      "text/plain": [
       "Name        BCL7A_umich_proteomics  BCL7A_umich_proteomics  \\\n",
       "Patient_ID                                                   \n",
       "C3L-00006                      NaN                0.342403   \n",
       "C3L-00008                 0.279261                0.043996   \n",
       "C3L-00032                      NaN                0.012216   \n",
       "C3L-00084                      NaN                0.006604   \n",
       "C3L-00090                      NaN                0.548479   \n",
       "\n",
       "Name        BCL7C_umich_proteomics  DPF1_umich_proteomics  \\\n",
       "Patient_ID                                                  \n",
       "C3L-00006                -0.636899                    NaN   \n",
       "C3L-00008                -0.853702                    NaN   \n",
       "C3L-00032                -0.405616                    NaN   \n",
       "C3L-00084                 0.209216                    NaN   \n",
       "C3L-00090                -0.049807                    NaN   \n",
       "\n",
       "Name        DPF2_umich_proteomics  DPF3_umich_proteomics  \\\n",
       "Patient_ID                                                 \n",
       "C3L-00006               -0.341313                    NaN   \n",
       "C3L-00008               -0.613538                    NaN   \n",
       "C3L-00032               -0.311407                    NaN   \n",
       "C3L-00084                0.453395                    NaN   \n",
       "C3L-00090                0.201228                    NaN   \n",
       "\n",
       "Name        SMARCB1_umich_proteomics  SMARCC2_umich_proteomics  \\\n",
       "Patient_ID                                                       \n",
       "C3L-00006                  -0.276047                 -0.518042   \n",
       "C3L-00008                  -0.412291                 -0.575983   \n",
       "C3L-00032                  -0.227223                 -0.550890   \n",
       "C3L-00084                   0.311589                 -0.041216   \n",
       "C3L-00090                   0.364734                 -0.063142   \n",
       "\n",
       "Name        SMARCC2_umich_proteomics  SMARCD1_umich_proteomics  \\\n",
       "Patient_ID                                                       \n",
       "C3L-00006                  -0.147223                 -0.180085   \n",
       "C3L-00008                  -0.913941                 -0.242887   \n",
       "C3L-00032                  -0.500229                 -0.609800   \n",
       "C3L-00084                  -0.520971                  1.456642   \n",
       "C3L-00090                   0.412197                  0.210401   \n",
       "\n",
       "Name        SMARCE1_umich_proteomics  SS18_umich_proteomics  \\\n",
       "Patient_ID                                                    \n",
       "C3L-00006                  -0.255385              -0.184546   \n",
       "C3L-00008                  -0.506047              -0.045882   \n",
       "C3L-00032                  -0.394279              -0.353417   \n",
       "C3L-00084                   0.582811               0.309990   \n",
       "C3L-00090                   0.170752               0.061522   \n",
       "\n",
       "Name        SS18L2_umich_proteomics  TEX13B_umich_proteomics  \\\n",
       "Patient_ID                                                     \n",
       "C3L-00006                       NaN                      NaN   \n",
       "C3L-00008                 -0.069976                      NaN   \n",
       "C3L-00032                 -0.524786                      NaN   \n",
       "C3L-00084                       NaN                      NaN   \n",
       "C3L-00090                  0.056844                      NaN   \n",
       "\n",
       "Name        WWP2_umich_proteomics                       ARID1A_Mutation  \\\n",
       "Patient_ID                                                                \n",
       "C3L-00006                0.102838                   [Missense_Mutation]   \n",
       "C3L-00008                0.283238  [Nonsense_Mutation, Frame_Shift_Del]   \n",
       "C3L-00032                0.225262                      [Wildtype_Tumor]   \n",
       "C3L-00084               -0.191736                      [Wildtype_Tumor]   \n",
       "C3L-00090                0.071053                      [Wildtype_Tumor]   \n",
       "\n",
       "Name                 ARID1A_Location  \\\n",
       "Patient_ID                             \n",
       "C3L-00006                 [p.T2121P]   \n",
       "C3L-00008   [p.Q403*, p.D1850Tfs*33]   \n",
       "C3L-00032              [No_mutation]   \n",
       "C3L-00084              [No_mutation]   \n",
       "C3L-00090              [No_mutation]   \n",
       "\n",
       "Name       ARID1A_Mutation_Status_washu_somatic_mutation  \\\n",
       "Patient_ID                                                 \n",
       "C3L-00006                                Single_mutation   \n",
       "C3L-00008                              Multiple_mutation   \n",
       "C3L-00032                                            NaN   \n",
       "C3L-00084                                            NaN   \n",
       "C3L-00090                                            NaN   \n",
       "\n",
       "Name       ARID1A_Mutation_Status_washu_somatic_mutation Sample_Status  \n",
       "Patient_ID                                                              \n",
       "C3L-00006                                Single_mutation         Tumor  \n",
       "C3L-00008                              Multiple_mutation         Tumor  \n",
       "C3L-00032                                            NaN         Tumor  \n",
       "C3L-00084                                            NaN         Tumor  \n",
       "C3L-00090                                            NaN         Tumor  "
      ]
     },
     "execution_count": 4,
     "metadata": {},
     "output_type": "execute_result"
    }
   ],
   "source": [
    "protdf.head()"
   ]
  },
  {
   "cell_type": "markdown",
   "metadata": {},
   "source": [
    "If you scroll the above table all the way to the right, you will see three columns for ARID1A mutations. These columns contain lists, as a sample may have many different mutations. The \"Mutation_Status_washu_somatic_mutation\" column indicates whether there is a single mutation or multiple mutations for that sample."
   ]
  },
  {
   "cell_type": "markdown",
   "metadata": {},
   "source": [
    "With what we are looking for it does not matter how many mutations a sample has, so we want to simplify the Mutation_Status_washu_somatic_mutation column to have just two values, either \"Mutated\" or \"Wildtype.\" We store this in a new column \"Gene Mutation Status\", then remove the unnecessary columns."
   ]
  },
  {
   "cell_type": "code",
   "execution_count": 5,
   "metadata": {
    "scrolled": true
   },
   "outputs": [],
   "source": [
    "protdf = protdf.loc[:,~protdf.columns.duplicated()]\n",
    "\n",
    "for ind, row in protdf.iterrows():\n",
    "    mutation_status = row[\"ARID1A_Mutation_Status_washu_somatic_mutation\"]\n",
    "    if mutation_status == 'Single_mutation' or mutation_status == 'Multiple_mutation':\n",
    "        protdf.at[ind,'Gene Mutation Status'] = 'Mutated'\n",
    "    else:\n",
    "        protdf.at[ind,'Gene Mutation Status'] = 'Wildtype'"
   ]
  },
  {
   "cell_type": "code",
   "execution_count": 6,
   "metadata": {},
   "outputs": [],
   "source": [
    "protdf = protdf.drop(gene+\"_Mutation\",axis=1)\n",
    "protdf = protdf.drop(gene+\"_Location\",axis=1)\n",
    "protdf = protdf.drop(gene+\"_Mutation_Status_washu_somatic_mutation\", axis=1)\n",
    "protdf = protdf.drop(\"Sample_Status\",axis=1)"
   ]
  },
  {
   "cell_type": "markdown",
   "metadata": {},
   "source": [
    "# Step 4: Do T-tests"
   ]
  },
  {
   "cell_type": "markdown",
   "metadata": {},
   "source": [
    "The column names now represent the interacting proteins, so we can create a list in order to run our t-tests for each protein individually."
   ]
  },
  {
   "cell_type": "code",
   "execution_count": 7,
   "metadata": {},
   "outputs": [],
   "source": [
    "col_list = list(protdf.columns)\n",
    "col_list.remove('Gene Mutation Status')"
   ]
  },
  {
   "cell_type": "code",
   "execution_count": 8,
   "metadata": {},
   "outputs": [
    {
     "name": "stdout",
     "output_type": "stream",
     "text": [
      "['BCL7A_umich_proteomics', 'BCL7C_umich_proteomics', 'DPF1_umich_proteomics', 'DPF2_umich_proteomics', 'DPF3_umich_proteomics', 'SMARCB1_umich_proteomics', 'SMARCC2_umich_proteomics', 'SMARCD1_umich_proteomics', 'SMARCE1_umich_proteomics', 'SS18_umich_proteomics', 'SS18L2_umich_proteomics', 'TEX13B_umich_proteomics', 'WWP2_umich_proteomics']\n"
     ]
    }
   ],
   "source": [
    "print(col_list)"
   ]
  },
  {
   "cell_type": "markdown",
   "metadata": {},
   "source": [
    "Now we call wrap_ttest, which is an accessory function in cptac.utils. It expects one column with a binary variable (this is why we created the 'Gene Mutation Status' column earlier), and all other data as numeric. It will then run ttests on each column to determine if there is a statistically significant difference between the binary values. For us, it will identify if there are significantly different protein abundances between wildtype and mutated samples."
   ]
  },
  {
   "cell_type": "code",
   "execution_count": 9,
   "metadata": {},
   "outputs": [
    {
     "name": "stdout",
     "output_type": "stream",
     "text": [
      "Doing t-test comparisons\n",
      "\n",
      "                 Comparison   P_Value\n",
      "0     DPF2_umich_proteomics  0.000017\n",
      "1    BCL7C_umich_proteomics  0.000035\n",
      "2  SMARCC2_umich_proteomics  0.000413\n",
      "3  SMARCB1_umich_proteomics  0.004456\n",
      "4  SMARCE1_umich_proteomics  0.004670\n",
      "5  SMARCD1_umich_proteomics  0.015895\n",
      "\n",
      "\n",
      "\n"
     ]
    }
   ],
   "source": [
    "print(\"Doing t-test comparisons\\n\")\n",
    "wrap_results = ut.wrap_ttest(protdf, 'Gene Mutation Status', col_list)\n",
    "#This gives us back a dataframe with significant comparisons\n",
    "\n",
    "if wrap_results is not None:\n",
    "        print(wrap_results)\n",
    "        print(\"\\n\\n\")\n",
    "else:\n",
    "    print(\"No significant comparisons found\")"
   ]
  },
  {
   "cell_type": "markdown",
   "metadata": {},
   "source": [
    "Our t-test returned six proteins whose levels were significantly changed by a mutation in ARID1A. We will look at DPF2 and plot the data with Seaborn to show exactly how its levels change with our gene's mutation."
   ]
  },
  {
   "cell_type": "code",
   "execution_count": 10,
   "metadata": {
    "scrolled": true
   },
   "outputs": [
    {
     "data": {
      "image/png": "[encoded data removed]",
      "text/plain": [
       "<Figure size 640x480 with 1 Axes>"
      ]
     },
     "metadata": {},
     "output_type": "display_data"
    }
   ],
   "source": [
    "sns.boxplot(data = protdf, x = 'Gene Mutation Status', y = 'DPF2_umich_proteomics', showfliers = False)\n",
    "sns.stripplot(data = protdf, x = 'Gene Mutation Status', y = 'DPF2_umich_proteomics', jitter = True, dodge = True, color = '.3')\n",
    "plt.show()"
   ]
  },
  {
   "cell_type": "markdown",
   "metadata": {},
   "source": [
    "From this boxplot, we can see that there is a significant decrease in DPF2 levels with a mutation in ARID1A."
   ]
  },
  {
   "cell_type": "markdown",
   "metadata": {},
   "source": [
    "# Part II: Example with TP53"
   ]
  },
  {
   "cell_type": "markdown",
   "metadata": {},
   "source": [
    "We will now look at TP53: a tumor suppressing gene that is very important in helping prevent mutation, as well as repairing damaged DNA in cells [(Wikipedia)](https://en.wikipedia.org/wiki/P53)."
   ]
  },
  {
   "cell_type": "markdown",
   "metadata": {},
   "source": [
    "We will use the same steps as above, this time without separated code blocks. Because we are not sure which proteins might be affected, we will look for trans effects in all the proteomics data instead of just the interacting proteins from bioplex. Due to the high number of comparisons, this will take a little bit of time. In the end, we will have a list of genes affected by TP53."
   ]
  },
  {
   "cell_type": "code",
   "execution_count": 11,
   "metadata": {},
   "outputs": [
    {
     "name": "stdout",
     "output_type": "stream",
     "text": [
      "\n",
      "Gene:  TP53\n"
     ]
    },
    {
     "name": "stderr",
     "output_type": "stream",
     "text": [
      "cptac warning: In joining the somatic_mutation table, no mutations were found for the following samples, so they were filled with Wildtype_Tumor or Wildtype_Normal: 129 samples for the TP53 gene (C:\\Users\\sabme\\anaconda3\\lib\\site-packages\\cptac\\cancers\\cancer.py, line 371)\n"
     ]
    },
    {
     "name": "stdout",
     "output_type": "stream",
     "text": [
      "Doing t-test comparisons\n",
      "\n",
      "                   Comparison   P_Value\n",
      "0      STAT2_umich_proteomics  0.000002\n",
      "1     DLGAP5_umich_proteomics  0.000030\n",
      "2   SLC4A1AP_umich_proteomics  0.000053\n",
      "3      CMTR1_umich_proteomics  0.000126\n",
      "4      TRMT6_umich_proteomics  0.000165\n",
      "..                        ...       ...\n",
      "72     RRP36_umich_proteomics  0.047035\n",
      "73    TOM1L1_umich_proteomics  0.048238\n",
      "74    KIF13B_umich_proteomics  0.048484\n",
      "75    PARP14_umich_proteomics  0.048569\n",
      "76      BDH2_umich_proteomics  0.049898\n",
      "\n",
      "[77 rows x 2 columns]\n",
      "\n",
      "\n",
      "\n"
     ]
    }
   ],
   "source": [
    "gene = \"TP53\"\n",
    "print(\"\\nGene: \", gene)\n",
    "\n",
    "# Step 1: Create dataframe in order to do comparisons with wrap_ttest\n",
    "# Note that here we do not pass any values for 'omics_genes', so it will use all available genes\n",
    "protdf = en.join_omics_to_mutations(mutations_genes=[gene],\n",
    "                                    mutations_source=\"washu\",\n",
    "                                    omics_name=omics,\n",
    "                                    omics_source=\"umich\")\n",
    "protdf = protdf.loc[protdf['Sample_Status'] == 'Tumor']\n",
    "\n",
    "protdf = protdf.loc[:,~protdf.columns.duplicated()]\n",
    "\n",
    "for ind, row in protdf.iterrows():\n",
    "    mutation_status = row[\"TP53_Mutation_Status_washu_somatic_mutation\"]\n",
    "    if mutation_status == 'Single_mutation' or mutation_status == 'Multiple_mutation':\n",
    "        protdf.at[ind,'Gene Mutation Status'] = 'Mutated'\n",
    "    else:\n",
    "        protdf.at[ind,'Gene Mutation Status'] = 'Wildtype'\n",
    "\n",
    "        \n",
    "# Step 2: Format the dataframe to set it up properly for our t-test\n",
    "protdf = protdf.drop(gene+\"_Mutation\",axis=1)\n",
    "protdf = protdf.drop(gene+\"_Location\",axis=1)\n",
    "protdf = protdf.drop(gene+\"_Mutation_Status_washu_somatic_mutation\", axis=1)\n",
    "protdf = protdf.drop(\"Sample_Status\",axis=1)\n",
    "\n",
    "\n",
    "#Step 3: Make list of columns to be compared using t-tests\n",
    "col_list = list(protdf.columns)\n",
    "col_list.remove('Gene Mutation Status')\n",
    "\n",
    "    \n",
    "#Step 4: Call wrap_ttest, pass in formatted dataframe, print results\n",
    "print(\"Doing t-test comparisons\\n\")\n",
    "wrap_results = ut.wrap_ttest(protdf, 'Gene Mutation Status', col_list)\n",
    "\n",
    "if wrap_results is not None:\n",
    "        print(wrap_results)\n",
    "        print(\"\\n\\n\")"
   ]
  },
  {
   "cell_type": "markdown",
   "metadata": {},
   "source": [
    "Each of the proteins shown can be individually analyzed in the same manner that we showed above. It's worth noting that with some genes this list might be relatively small because our wrap_ttest does Bonferroni correction, so the cutoff for \"significance\" is very strict. For further ideas about how to analyze larger lists of genes, refer to usecase 5."
   ]
  }
 ],
 "metadata": {
  "kernelspec": {
   "display_name": "Python 3 (ipykernel)",
   "language": "python",
   "name": "python3"
  },
  "language_info": {
   "codemirror_mode": {
    "name": "ipython",
    "version": 3
   },
   "file_extension": ".py",
   "mimetype": "text/x-python",
   "name": "python",
   "nbconvert_exporter": "python",
   "pygments_lexer": "ipython3",
   "version": "3.9.12"
  }
 },
 "nbformat": 4,
 "nbformat_minor": 4
}
