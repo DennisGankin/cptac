{
 "cells": [
  {
   "cell_type": "markdown",
   "metadata": {},
   "source": [
    "# Use Case 7: Trans genetic effects"
   ]
  },
  {
   "cell_type": "markdown",
   "metadata": {},
   "source": [
    "We will explore [trans genetic effects](https://en.wikipedia.org/wiki/Trans-acting). This occurs when DNA mutation in one gene has an effect on a different gene. To fully understand the effect of DNA mutation, this use case will show how to find some of those downstream affected protiens using two prominent cancer genes: TP53 and ARID1A."
   ]
  },
  {
   "cell_type": "markdown",
   "metadata": {},
   "source": [
    "# Part I: TP53"
   ]
  },
  {
   "cell_type": "markdown",
   "metadata": {},
   "source": [
    "TP53 is a tumor suppressing gene that is very important in helping prevent mutation, as well as repairing damaged DNA in cells [(Wikipedia)](https://en.wikipedia.org/wiki/P53). Since TP53 has a well-documented set of interating proteins, we'll examine those to find trans effects."
   ]
  },
  {
   "cell_type": "markdown",
   "metadata": {},
   "source": [
    "# Step 1: Import Libraries"
   ]
  },
  {
   "cell_type": "markdown",
   "metadata": {},
   "source": [
    "Here we will import standard python libraries used to analyze and visualize data as pandas dataframes, as well as our CPTAC data."
   ]
  },
  {
   "cell_type": "code",
   "execution_count": 1,
   "metadata": {},
   "outputs": [
    {
     "name": "stdout",
     "output_type": "stream",
     "text": [
      "                                                \r"
     ]
    }
   ],
   "source": [
    "import pandas as pd\n",
    "import numpy as np\n",
    "import scipy.stats\n",
    "import matplotlib.pyplot as plt\n",
    "import seaborn as sns\n",
    "\n",
    "import cptac\n",
    "import cptac.utils as ut\n",
    "\n",
    "en = cptac.Endometrial()"
   ]
  },
  {
   "cell_type": "markdown",
   "metadata": {},
   "source": [
    "Our analysis here will be done with endometrial cancer, but can also be done using any of the other cancers in the CPTAC dataset."
   ]
  },
  {
   "cell_type": "markdown",
   "metadata": {},
   "source": [
    "# Step 2: Get Interacting Proteins"
   ]
  },
  {
   "cell_type": "markdown",
   "metadata": {},
   "source": [
    "Now we will get a list of the proteins that are know to interact with TP53 directly. Our list comes from Bioplex, a process that identifies proteins in direct physical contact. The CPTAC package also has a method called get_interacting_proteins_bioplex, which returns a list of proteins that interact with our gene in this way."
   ]
  },
  {
   "cell_type": "code",
   "execution_count": 2,
   "metadata": {},
   "outputs": [
    {
     "name": "stdout",
     "output_type": "stream",
     "text": [
      "Interacting Proteins:\n",
      "['CELA2B', 'HNF4A', 'FAM175B', 'AURKA', 'GPR156', 'MDM4', 'CUL9', 'MDM2', 'FBXW7', 'RORC', 'HOMER3', 'CUL7', 'FAM111A']\n"
     ]
    }
   ],
   "source": [
    "gene = \"TP53\"\n",
    "omics = \"proteomics\"\n",
    "\n",
    "interacting_proteins = ut.get_interacting_proteins_bioplex(gene)\n",
    "\n",
    "print(\"Interacting Proteins:\")\n",
    "print(interacting_proteins)"
   ]
  },
  {
   "cell_type": "markdown",
   "metadata": {},
   "source": [
    "# Step 3: Get Omics Data"
   ]
  },
  {
   "cell_type": "markdown",
   "metadata": {},
   "source": [
    "Now we create a new dataframe containing protein measurements for TP53 and its interacting proteins, calling en.join_omics_to_mutations. We note thqta if proteomfics data does not identify one of the genes in your request, the join method will throw a warning and fill with NAN (a missing value)."
   ]
  },
  {
   "cell_type": "code",
   "execution_count": 3,
   "metadata": {},
   "outputs": [
    {
     "name": "stderr",
     "output_type": "stream",
     "text": [
      "cptac warning: The following columns were not found in the proteomics dataframe, so they were inserted into joined table, but filled with NaN: CELA2B, FAM175B, FBXW7, GPR156, HNF4A, MDM2, MDM4, RORC (C:\\Users\\humbe\\miniconda3\\lib\\site-packages\\ipykernel_launcher.py, line 1)\n",
      "cptac warning: In joining the somatic_mutation table, no mutations were found for the following samples, so they were filled with Wildtype_Tumor or Wildtype_Normal: 123 samples for the TP53 gene (C:\\Users\\humbe\\miniconda3\\lib\\site-packages\\ipykernel_launcher.py, line 1)\n"
     ]
    }
   ],
   "source": [
    "protdf = en.join_omics_to_mutations(mutations_genes=gene, omics_df_name=omics, omics_genes=interacting_proteins)\n",
    "protdf = protdf.loc[protdf['Sample_Status'] == 'Tumor']"
   ]
  },
  {
   "cell_type": "code",
   "execution_count": 4,
   "metadata": {},
   "outputs": [
    {
     "data": {
      "text/html": [
       "<div>\n",
       "<style scoped>\n",
       "    .dataframe tbody tr th:only-of-type {\n",
       "        vertical-align: middle;\n",
       "    }\n",
       "\n",
       "    .dataframe tbody tr th {\n",
       "        vertical-align: top;\n",
       "    }\n",
       "\n",
       "    .dataframe thead th {\n",
       "        text-align: right;\n",
       "    }\n",
       "</style>\n",
       "<table border=\"1\" class=\"dataframe\">\n",
       "  <thead>\n",
       "    <tr style=\"text-align: right;\">\n",
       "      <th>Name</th>\n",
       "      <th>CELA2B_proteomics</th>\n",
       "      <th>HNF4A_proteomics</th>\n",
       "      <th>FAM175B_proteomics</th>\n",
       "      <th>AURKA_proteomics</th>\n",
       "      <th>GPR156_proteomics</th>\n",
       "      <th>MDM4_proteomics</th>\n",
       "      <th>CUL9_proteomics</th>\n",
       "      <th>MDM2_proteomics</th>\n",
       "      <th>FBXW7_proteomics</th>\n",
       "      <th>RORC_proteomics</th>\n",
       "      <th>HOMER3_proteomics</th>\n",
       "      <th>CUL7_proteomics</th>\n",
       "      <th>FAM111A_proteomics</th>\n",
       "      <th>TP53_Mutation</th>\n",
       "      <th>TP53_Location</th>\n",
       "      <th>TP53_Mutation_Status</th>\n",
       "      <th>Sample_Status</th>\n",
       "    </tr>\n",
       "    <tr>\n",
       "      <th>Patient_ID</th>\n",
       "      <th></th>\n",
       "      <th></th>\n",
       "      <th></th>\n",
       "      <th></th>\n",
       "      <th></th>\n",
       "      <th></th>\n",
       "      <th></th>\n",
       "      <th></th>\n",
       "      <th></th>\n",
       "      <th></th>\n",
       "      <th></th>\n",
       "      <th></th>\n",
       "      <th></th>\n",
       "      <th></th>\n",
       "      <th></th>\n",
       "      <th></th>\n",
       "      <th></th>\n",
       "    </tr>\n",
       "  </thead>\n",
       "  <tbody>\n",
       "    <tr>\n",
       "      <th>C3L-00006</th>\n",
       "      <td>NaN</td>\n",
       "      <td>NaN</td>\n",
       "      <td>NaN</td>\n",
       "      <td>NaN</td>\n",
       "      <td>NaN</td>\n",
       "      <td>NaN</td>\n",
       "      <td>0.0355</td>\n",
       "      <td>NaN</td>\n",
       "      <td>NaN</td>\n",
       "      <td>NaN</td>\n",
       "      <td>-0.443</td>\n",
       "      <td>0.0408</td>\n",
       "      <td>0.363000</td>\n",
       "      <td>[Missense_Mutation]</td>\n",
       "      <td>[p.R248W]</td>\n",
       "      <td>Single_mutation</td>\n",
       "      <td>Tumor</td>\n",
       "    </tr>\n",
       "    <tr>\n",
       "      <th>C3L-00008</th>\n",
       "      <td>NaN</td>\n",
       "      <td>NaN</td>\n",
       "      <td>NaN</td>\n",
       "      <td>0.311</td>\n",
       "      <td>NaN</td>\n",
       "      <td>NaN</td>\n",
       "      <td>0.1480</td>\n",
       "      <td>NaN</td>\n",
       "      <td>NaN</td>\n",
       "      <td>NaN</td>\n",
       "      <td>-0.897</td>\n",
       "      <td>-0.1430</td>\n",
       "      <td>0.601000</td>\n",
       "      <td>[Wildtype_Tumor]</td>\n",
       "      <td>[No_mutation]</td>\n",
       "      <td>Wildtype_Tumor</td>\n",
       "      <td>Tumor</td>\n",
       "    </tr>\n",
       "    <tr>\n",
       "      <th>C3L-00032</th>\n",
       "      <td>NaN</td>\n",
       "      <td>NaN</td>\n",
       "      <td>NaN</td>\n",
       "      <td>NaN</td>\n",
       "      <td>NaN</td>\n",
       "      <td>NaN</td>\n",
       "      <td>0.1130</td>\n",
       "      <td>NaN</td>\n",
       "      <td>NaN</td>\n",
       "      <td>NaN</td>\n",
       "      <td>-0.451</td>\n",
       "      <td>0.0999</td>\n",
       "      <td>-0.280000</td>\n",
       "      <td>[Wildtype_Tumor]</td>\n",
       "      <td>[No_mutation]</td>\n",
       "      <td>Wildtype_Tumor</td>\n",
       "      <td>Tumor</td>\n",
       "    </tr>\n",
       "    <tr>\n",
       "      <th>C3L-00090</th>\n",
       "      <td>NaN</td>\n",
       "      <td>NaN</td>\n",
       "      <td>NaN</td>\n",
       "      <td>-0.798</td>\n",
       "      <td>NaN</td>\n",
       "      <td>NaN</td>\n",
       "      <td>0.1680</td>\n",
       "      <td>NaN</td>\n",
       "      <td>NaN</td>\n",
       "      <td>NaN</td>\n",
       "      <td>-0.034</td>\n",
       "      <td>-0.7460</td>\n",
       "      <td>0.066500</td>\n",
       "      <td>[Wildtype_Tumor]</td>\n",
       "      <td>[No_mutation]</td>\n",
       "      <td>Wildtype_Tumor</td>\n",
       "      <td>Tumor</td>\n",
       "    </tr>\n",
       "    <tr>\n",
       "      <th>C3L-00098</th>\n",
       "      <td>NaN</td>\n",
       "      <td>NaN</td>\n",
       "      <td>NaN</td>\n",
       "      <td>3.110</td>\n",
       "      <td>NaN</td>\n",
       "      <td>NaN</td>\n",
       "      <td>-0.2530</td>\n",
       "      <td>NaN</td>\n",
       "      <td>NaN</td>\n",
       "      <td>NaN</td>\n",
       "      <td>-0.535</td>\n",
       "      <td>-0.1200</td>\n",
       "      <td>-0.000411</td>\n",
       "      <td>[Missense_Mutation]</td>\n",
       "      <td>[p.S241C]</td>\n",
       "      <td>Single_mutation</td>\n",
       "      <td>Tumor</td>\n",
       "    </tr>\n",
       "  </tbody>\n",
       "</table>\n",
       "</div>"
      ],
      "text/plain": [
       "Name        CELA2B_proteomics  HNF4A_proteomics  FAM175B_proteomics  \\\n",
       "Patient_ID                                                            \n",
       "C3L-00006                 NaN               NaN                 NaN   \n",
       "C3L-00008                 NaN               NaN                 NaN   \n",
       "C3L-00032                 NaN               NaN                 NaN   \n",
       "C3L-00090                 NaN               NaN                 NaN   \n",
       "C3L-00098                 NaN               NaN                 NaN   \n",
       "\n",
       "Name        AURKA_proteomics  GPR156_proteomics  MDM4_proteomics  \\\n",
       "Patient_ID                                                         \n",
       "C3L-00006                NaN                NaN              NaN   \n",
       "C3L-00008              0.311                NaN              NaN   \n",
       "C3L-00032                NaN                NaN              NaN   \n",
       "C3L-00090             -0.798                NaN              NaN   \n",
       "C3L-00098              3.110                NaN              NaN   \n",
       "\n",
       "Name        CUL9_proteomics  MDM2_proteomics  FBXW7_proteomics  \\\n",
       "Patient_ID                                                       \n",
       "C3L-00006            0.0355              NaN               NaN   \n",
       "C3L-00008            0.1480              NaN               NaN   \n",
       "C3L-00032            0.1130              NaN               NaN   \n",
       "C3L-00090            0.1680              NaN               NaN   \n",
       "C3L-00098           -0.2530              NaN               NaN   \n",
       "\n",
       "Name        RORC_proteomics  HOMER3_proteomics  CUL7_proteomics  \\\n",
       "Patient_ID                                                        \n",
       "C3L-00006               NaN             -0.443           0.0408   \n",
       "C3L-00008               NaN             -0.897          -0.1430   \n",
       "C3L-00032               NaN             -0.451           0.0999   \n",
       "C3L-00090               NaN             -0.034          -0.7460   \n",
       "C3L-00098               NaN             -0.535          -0.1200   \n",
       "\n",
       "Name        FAM111A_proteomics        TP53_Mutation  TP53_Location  \\\n",
       "Patient_ID                                                           \n",
       "C3L-00006             0.363000  [Missense_Mutation]      [p.R248W]   \n",
       "C3L-00008             0.601000     [Wildtype_Tumor]  [No_mutation]   \n",
       "C3L-00032            -0.280000     [Wildtype_Tumor]  [No_mutation]   \n",
       "C3L-00090             0.066500     [Wildtype_Tumor]  [No_mutation]   \n",
       "C3L-00098            -0.000411  [Missense_Mutation]      [p.S241C]   \n",
       "\n",
       "Name       TP53_Mutation_Status Sample_Status  \n",
       "Patient_ID                                     \n",
       "C3L-00006       Single_mutation         Tumor  \n",
       "C3L-00008        Wildtype_Tumor         Tumor  \n",
       "C3L-00032        Wildtype_Tumor         Tumor  \n",
       "C3L-00090        Wildtype_Tumor         Tumor  \n",
       "C3L-00098       Single_mutation         Tumor  "
      ]
     },
     "execution_count": 4,
     "metadata": {},
     "output_type": "execute_result"
    }
   ],
   "source": [
    "protdf.head()"
   ]
  },
  {
   "cell_type": "markdown",
   "metadata": {},
   "source": [
    "If you scroll the table abo ve all the way over to the right, you will see three columns for TP53 mutation. As a sample may have a complete set of mutations, these columns contain lists and the \"Mutation_status\" column says whether it is a single or multiple mutation. We want to simplify this column to have just two values, either \"Mutated\" or \"Wildtype.\" Next, we remove a few unwanted columns."
   ]
  },
  {
   "cell_type": "code",
   "execution_count": 5,
   "metadata": {},
   "outputs": [],
   "source": [
    "for ind, row in protdf.iterrows():\n",
    "    if row[gene+\"_Mutation_Status\"] != 'Wildtype_Tumor':\n",
    "        protdf.at[ind,'TP53 Mutation Status'] = 'Mutated'\n",
    "    else:\n",
    "        protdf.at[ind,'TP53 Mutation Status'] = 'Wildtype'"
   ]
  },
  {
   "cell_type": "code",
   "execution_count": 6,
   "metadata": {},
   "outputs": [],
   "source": [
    "protdf = protdf.drop(gene+\"_Mutation\",axis=1)\n",
    "protdf = protdf.drop(gene+\"_Location\",axis=1)\n",
    "protdf = protdf.drop(gene+\"_Mutation_Status\", axis=1)\n",
    "protdf = protdf.drop(\"Sample_Status\",axis=1)"
   ]
  },
  {
   "cell_type": "markdown",
   "metadata": {},
   "source": [
    "# Step 4: Do T-tests"
   ]
  },
  {
   "cell_type": "markdown",
   "metadata": {},
   "source": [
    "We take the column names, which are the interacting proteins, and create a list in order to run our t-tests for each protein individually."
   ]
  },
  {
   "cell_type": "code",
   "execution_count": 7,
   "metadata": {},
   "outputs": [],
   "source": [
    "col_list = list(protdf.columns)\n",
    "col_list.remove('TP53 Mutation Status')"
   ]
  },
  {
   "cell_type": "code",
   "execution_count": 8,
   "metadata": {},
   "outputs": [
    {
     "name": "stdout",
     "output_type": "stream",
     "text": [
      "['CELA2B_proteomics', 'HNF4A_proteomics', 'FAM175B_proteomics', 'AURKA_proteomics', 'GPR156_proteomics', 'MDM4_proteomics', 'CUL9_proteomics', 'MDM2_proteomics', 'FBXW7_proteomics', 'RORC_proteomics', 'HOMER3_proteomics', 'CUL7_proteomics', 'FAM111A_proteomics']\n"
     ]
    }
   ],
   "source": [
    "print(col_list)"
   ]
  },
  {
   "cell_type": "markdown",
   "metadata": {},
   "source": [
    "Now we call wrap_ttest, which is an accessory function in cptac.utils. It expects one column with a binary variable (this is why we crearted the 'TP53 Mutation Status' column earlier), and all other data as numeric. It will then run ttests on each column to determine if there is a statistically significant difference between the binary values. For us, it will identify if there are significantly different protein abundances between wildtype and mutated samples."
   ]
  },
  {
   "cell_type": "code",
   "execution_count": 9,
   "metadata": {},
   "outputs": [
    {
     "name": "stdout",
     "output_type": "stream",
     "text": [
      "Doing t-test comparisons\n",
      "\n",
      "         Comparison   P_Value\n",
      "0  AURKA_proteomics  0.000016\n",
      "\n",
      "\n",
      "\n"
     ]
    },
    {
     "name": "stderr",
     "output_type": "stream",
     "text": [
      "C:\\Users\\humbe\\miniconda3\\lib\\site-packages\\statsmodels\\stats\\multitest.py:152: RuntimeWarning: invalid value encountered in less_equal\n",
      "  reject = pvals <= alphacBonf\n",
      "C:\\Users\\humbe\\miniconda3\\lib\\site-packages\\statsmodels\\stats\\multitest.py:256: RuntimeWarning: invalid value encountered in greater\n",
      "  pvals_corrected[pvals_corrected>1] = 1\n"
     ]
    }
   ],
   "source": [
    "print(\"Doing t-test comparisons\\n\")\n",
    "wrap_results = ut.wrap_ttest(protdf, 'TP53 Mutation Status', col_list)\n",
    "#This gives us back a dataframe with significant comparisons\n",
    "\n",
    "if wrap_results is not None:\n",
    "        print(wrap_results)\n",
    "        print(\"\\n\\n\")"
   ]
  },
  {
   "cell_type": "markdown",
   "metadata": {},
   "source": [
    "Our t-test returned one protein whose levels were significantly changed by a mutation in TP53, Aurora Kinase, which has a known relationship with TP53 [(link)](https://www.ncbi.nlm.nih.gov/pubmed/27933271). Let's lot the data with Seaborn to show exactly how levels of aurora kinase change with our gene's mutation."
   ]
  },
  {
   "cell_type": "code",
   "execution_count": 10,
   "metadata": {
    "scrolled": true
   },
   "outputs": [
    {
     "data": {
      "text/plain": [
       "<matplotlib.axes._subplots.AxesSubplot at 0x1b3e8cbaa88>"
      ]
     },
     "execution_count": 10,
     "metadata": {},
     "output_type": "execute_result"
    },
    {
     "data": {
      "image/png": "[encoded data removed]",
      "text/plain": [
       "<Figure size 432x288 with 1 Axes>"
      ]
     },
     "metadata": {
      "needs_background": "light"
     },
     "output_type": "display_data"
    }
   ],
   "source": [
    "sns.boxplot(data = protdf, x = 'TP53 Mutation Status', y = 'AURKA_proteomics', showfliers = False)\n",
    "sns.stripplot(data = protdf, x = 'TP53 Mutation Status', y = 'AURKA_proteomics', jitter = True, dodge = True, color = '.3')"
   ]
  },
  {
   "cell_type": "markdown",
   "metadata": {},
   "source": [
    "From this boxplot, we can see that there is a significant increase in aurora kinase levels with a mutation in TP53."
   ]
  },
  {
   "cell_type": "markdown",
   "metadata": {},
   "source": [
    "# Part II: Example Using ARID1A"
   ]
  },
  {
   "cell_type": "markdown",
   "metadata": {},
   "source": [
    "We will now look at ARID1A, which potentially affects the transcription of many genes through its function as a chromatin remodeling protein [(Wikipedia)](https://en.wikipedia.org/wiki/ARID1A)."
   ]
  },
  {
   "cell_type": "markdown",
   "metadata": {},
   "source": [
    "In order to perform this analysis, we will use the same steps as we did earlier, only this time without separated code blocks. Because we are not sure which proteins might be affected, we will look for trans effects in all the proteomics data. Due to the high amount of comparisons, this will take a little bit of time. In the end, we will have a list of genes affected by ARID1A."
   ]
  },
  {
   "cell_type": "code",
   "execution_count": 11,
   "metadata": {},
   "outputs": [
    {
     "name": "stdout",
     "output_type": "stream",
     "text": [
      "\n",
      "Gene:  ARID1A\n"
     ]
    },
    {
     "name": "stderr",
     "output_type": "stream",
     "text": [
      "cptac warning: In joining the somatic_mutation table, no mutations were found for the following samples, so they were filled with Wildtype_Tumor or Wildtype_Normal: 101 samples for the ARID1A gene (C:\\Users\\humbe\\miniconda3\\lib\\site-packages\\ipykernel_launcher.py, line 5)\n"
     ]
    },
    {
     "name": "stdout",
     "output_type": "stream",
     "text": [
      "Doing t-test comparisons\n",
      "\n"
     ]
    },
    {
     "name": "stderr",
     "output_type": "stream",
     "text": [
      "C:\\Users\\humbe\\miniconda3\\lib\\site-packages\\numpy\\core\\fromnumeric.py:3584: RuntimeWarning: Degrees of freedom <= 0 for slice\n",
      "  **kwargs)\n",
      "C:\\Users\\humbe\\miniconda3\\lib\\site-packages\\numpy\\core\\_methods.py:209: RuntimeWarning: invalid value encountered in double_scalars\n",
      "  ret = ret.dtype.type(ret / rcount)\n",
      "C:\\Users\\humbe\\miniconda3\\lib\\site-packages\\scipy\\stats\\_distn_infrastructure.py:903: RuntimeWarning: invalid value encountered in greater\n",
      "  return (a < x) & (x < b)\n",
      "C:\\Users\\humbe\\miniconda3\\lib\\site-packages\\scipy\\stats\\_distn_infrastructure.py:903: RuntimeWarning: invalid value encountered in less\n",
      "  return (a < x) & (x < b)\n",
      "C:\\Users\\humbe\\miniconda3\\lib\\site-packages\\scipy\\stats\\_distn_infrastructure.py:1912: RuntimeWarning: invalid value encountered in less_equal\n",
      "  cond2 = cond0 & (x <= _a)\n"
     ]
    },
    {
     "name": "stdout",
     "output_type": "stream",
     "text": [
      "          Comparison       P_Value\n",
      "0  ARID1A_proteomics  1.025018e-10\n",
      "1   MAP1S_proteomics  1.010149e-07\n",
      "2    DPF2_proteomics  2.166609e-07\n",
      "3   KDM4B_proteomics  4.414547e-07\n",
      "4    RRM1_proteomics  4.455870e-07\n",
      "5  MAP7D3_proteomics  4.880890e-07\n",
      "6   CYTH3_proteomics  3.109396e-06\n",
      "7   CEP78_proteomics  3.749172e-06\n",
      "\n",
      "\n",
      "\n"
     ]
    },
    {
     "name": "stderr",
     "output_type": "stream",
     "text": [
      "C:\\Users\\humbe\\miniconda3\\lib\\site-packages\\statsmodels\\stats\\multitest.py:152: RuntimeWarning: invalid value encountered in less_equal\n",
      "  reject = pvals <= alphacBonf\n",
      "C:\\Users\\humbe\\miniconda3\\lib\\site-packages\\statsmodels\\stats\\multitest.py:256: RuntimeWarning: invalid value encountered in greater\n",
      "  pvals_corrected[pvals_corrected>1] = 1\n"
     ]
    }
   ],
   "source": [
    "gene = \"ARID1A\"\n",
    "print(\"\\nGene: \", gene)\n",
    "\n",
    "# Step 1: Create dataframe in order to do comparisons with wrap_ttest\n",
    "protdf = en.join_omics_to_mutations(mutations_genes=[gene], omics_df_name=omics)\n",
    "protdf = protdf.loc[protdf['Sample_Status'] == 'Tumor']\n",
    "\n",
    "for ind, row in protdf.iterrows():\n",
    "    if row[gene+\"_Mutation_Status\"] != 'Wildtype_Tumor':\n",
    "        protdf.at[ind,'ARID1A Mutation Status'] = 'Mutated'\n",
    "    else:\n",
    "        protdf.at[ind,'ARID1A Mutation Status'] = 'Wildtype'\n",
    "\n",
    "        \n",
    "# Step 2: Format the dataframe to set it up properly for our t-test\n",
    "protdf = protdf.drop(gene+\"_Mutation\",axis=1)\n",
    "protdf = protdf.drop(gene+\"_Location\",axis=1)\n",
    "protdf = protdf.drop(gene+\"_Mutation_Status\", axis=1)\n",
    "protdf = protdf.drop(\"Sample_Status\",axis=1)\n",
    "\n",
    "\n",
    "#Step 3: Make list of columns to be compared using t-tests\n",
    "col_list = list(protdf.columns)\n",
    "col_list.remove('ARID1A Mutation Status')\n",
    "\n",
    "    \n",
    "#Step 4: Call wrap_ttest, pass in formatted dataframe, print results\n",
    "print(\"Doing t-test comparisons\\n\")\n",
    "wrap_results = ut.wrap_ttest(protdf, 'ARID1A Mutation Status', col_list)\n",
    "\n",
    "if wrap_results is not None:\n",
    "        print(wrap_results)\n",
    "        print(\"\\n\\n\")"
   ]
  },
  {
   "cell_type": "markdown",
   "metadata": {},
   "source": [
    "Each of the proteins shown can be individually analyzed in the same manner that we showed above. The reason for the relatively small list of proteins shown here is that our wrap_ttest does Bonferroni correction, so the cutoff for \"significance\" is very strict. For further ideas about how to analyze larger lists of genes, refer to usecase 5."
   ]
  }
 ],
 "metadata": {
  "kernelspec": {
   "display_name": "Python 3",
   "language": "python",
   "name": "python3"
  },
  "language_info": {
   "codemirror_mode": {
    "name": "ipython",
    "version": 3
   },
   "file_extension": ".py",
   "mimetype": "text/x-python",
   "name": "python",
   "nbconvert_exporter": "python",
   "pygments_lexer": "ipython3",
   "version": "3.7.7"
  }
 },
 "nbformat": 4,
 "nbformat_minor": 2
}
