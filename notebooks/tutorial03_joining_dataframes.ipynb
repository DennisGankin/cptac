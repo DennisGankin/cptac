{
 "cells": [
  {
   "cell_type": "markdown",
   "metadata": {},
   "source": [
    "# Tutorial 3: Joining dataframes with `cptac`\n",
    "\n",
    "In this tutorial, we provide several examples of how to use the built-in `cptac` functions for joining different dataframes.\n",
    "\n",
    "We will do this on data for Endometrial carcinoma. First we need to import the package and create an endometrial data object, which we call 'en'."
   ]
  },
  {
   "cell_type": "code",
   "execution_count": null,
   "metadata": {},
   "outputs": [],
   "source": [
    "# Start by importing the cptac package\n",
    "import cptac\n",
    "\n",
    "# Create an endometrial data object, named 'en'\n",
    "en = cptac.Ucec()\n",
    "\n",
    "# List the available data sources\n",
    "en.list_data_sources()"
   ]
  },
  {
   "cell_type": "markdown",
   "metadata": {},
   "source": [
    "en.list_data_sources() shows the types of data available in the dataset and their respective sources. For example, you see proteomics data is available from umich, transcriptomics data from bcm, broad, washu and so forth."
   ]
  },
  {
   "cell_type": "code",
   "execution_count": null,
   "metadata": {},
   "outputs": [],
   "source": [
    "# Retrieve the transcriptomics data from bcm\n",
    "bcm_data = en.get_transcriptomics('bcm')\n",
    "\n",
    "# Display the first few rows of the dataframe\n",
    "bcm_data.head()"
   ]
  },
  {
   "cell_type": "markdown",
   "metadata": {},
   "source": [
    "In the above code, get_transcriptomics('bcm') is used to retrieve the transcriptomics data from bcm. Each row represents a different patient, and each column corresponds to a different gene."
   ]
  },
  {
   "cell_type": "markdown",
   "metadata": {},
   "source": [
    "## General format\n",
    "\n",
    "cptac has a helpful function called `multi_join`. It allows data from several different cptac dataframes to be joined at the same time.\n",
    "\n",
    "To use `multi_join`, you specify the dataframes you want to join by passing a dictionary of their names to the function call. The function will automatically check that the dataframes whose names you provided are valid for the join function, and print an error message if they aren't.\n",
    "\n",
    "Whenever a column from an -omics dataframe is included in a joined table, the name of the -omics dataframe it came from is joined to the column header, to avoid confusion.\n",
    "\n",
    "If you wish to only include particular columns in the join, include them as values in the dictionary. All values will accept either a single column name as a string, or a list of column name strings. In this use case, we will usually only select specific columns for readability, but you could select the whole dataframe in all these cases, except for the mutations dataframe.\n",
    "\n",
    "The join functions use logic analogous to an SQL INNER JOIN."
   ]
  },
  {
   "cell_type": "markdown",
   "metadata": {},
   "source": [
    "# Join dictionary\n",
    "\n",
    "The main parameter for the `multi_join` function is a dictionary with source and datatype as a key, and specific columns as a value. Because there are multiple sources for each datatype, the desired source needs to be included. This can be done in two different ways. The first is by using a string that contains the source, a space, and then the datatype. The second is by using a tuple formatted (source, datatype). For example, using:\n",
    "\n",
    "`{('umich', 'proteomics'): ''}`\n",
    "\n",
    "or\n",
    "\n",
    "`{\"umich proteomics\": ''}`\n",
    "\n",
    "as the join dictionary would each result in `multi_join` returning a dataframe containing only awg proteomics data.\n",
    "\n",
    "You'll notice the value in the key:value pair is an empty string. Because a dictionary needs to have a value for each key, the empty string or an empty list mean we want everything from the specified dataframe. If a string or list of strings is specified, the joined dataframe will only contain the specified columns. See below for more examples."
   ]
  },
  {
   "cell_type": "markdown",
   "metadata": {},
   "source": [
    "## Join omics to omics\n",
    "\n",
    "`multi_join` can join two -omics dataframes to each other. Types of -omics data valid for use with this function are acetylproteomics, CNV, phosphoproteomics, phosphoproteomics_gene, proteomics, and transcriptomics."
   ]
  },
  {
   "cell_type": "code",
   "execution_count": null,
   "metadata": {},
   "outputs": [],
   "source": [
    "# Joining two -omics dataframes together using multi_join\n",
    "prot_and_tran = en.multi_join({\"umich proteomics\":'', \"bcm transcriptomics\":''})\n",
    "prot_and_tran.head()"
   ]
  },
  {
   "cell_type": "markdown",
   "metadata": {},
   "source": [
    "In this example, multi_join is used to join proteomics data from umich and transcriptomics data from bcm into one combined dataframe."
   ]
  },
  {
   "cell_type": "code",
   "execution_count": null,
   "metadata": {},
   "outputs": [],
   "source": [
    "# Using multi_join with specified columns\n",
    "prot_and_tran_selected = en.multi_join({\"umich proteomics\":'ARF5', \"bcm transcriptomics\":'A1BG'})\n",
    "prot_and_tran_selected.head()"
   ]
  },
  {
   "cell_type": "markdown",
   "metadata": {},
   "source": [
    "Here, multi_join is used again, but this time only the 'ARF5' column from the proteomics data and the 'A1BG' column from the transcriptomics data are included in the resulting dataframe."
   ]
  },
  {
   "cell_type": "markdown",
   "metadata": {},
   "source": [
    "## Join metadata to omics\n",
    "\n",
    "The `multi_join` function can also join a metadata dataframe (e.g. clinical or derived_molecular) with an -omics dataframe:"
   ]
  },
  {
   "cell_type": "code",
   "execution_count": null,
   "metadata": {
    "tags": []
   },
   "outputs": [],
   "source": [
    "# Join a metadata dataframe with an -omics dataframe\n",
    "clin_and_tran = en.multi_join({\"mssm clinical\":'', \"bcm transcriptomics\":''})\n",
    "clin_and_tran.head()"
   ]
  },
  {
   "cell_type": "markdown",
   "metadata": {},
   "source": [
    "Joining only specific columns:"
   ]
  },
  {
   "cell_type": "code",
   "execution_count": null,
   "metadata": {},
   "outputs": [],
   "source": [
    "clin_and_tran = en.multi_join({\"mssm clinical\": [\"age\", \"Overall survival, days\"], \"bcm transcriptomics\": [\"ZYX\", 'ZZEF1']})\n",
    "clin_and_tran.head()"
   ]
  },
  {
   "cell_type": "markdown",
   "metadata": {},
   "source": [
    "## Join metadata to metadata\n",
    "\n",
    "Of course two metadata dataframes (e.g. clinical or derived_molecular) can also be joined together. Note how we passed a column name to select from the clinical dataframe, but passing an empty string `''` or an empty list `[]` for the column parameter for the derived_molecular dataframe caused the entire dataframe to be selected."
   ]
  },
  {
   "cell_type": "code",
   "execution_count": null,
   "metadata": {},
   "outputs": [],
   "source": [
    "clin_and_tran = en.multi_join({\n",
    "    \"mssm clinical\": \"\",\n",
    "    \"bcm transcriptomics\": '' # Note that by using an empty string or list as the value, we join the entire dataframe\n",
    "})\n",
    "\n",
    "clin_and_tran.head()"
   ]
  },
  {
   "cell_type": "markdown",
   "metadata": {},
   "source": [
    "## Join many datatypes together\n",
    "\n",
    "If you need data from three or more dataframes, they can all simply be added to the joining dictionary. The only limit to the number of dataframes the joining dictionary parameter for `multi_join` can take is your imagination."
   ]
  },
  {
   "cell_type": "code",
   "execution_count": null,
   "metadata": {},
   "outputs": [],
   "source": [
    "joining_dictionary = {\"umich proteomics\": \"ARF5\", \"bcm transcriptomics\": \"A1BG\", \"mssm clinical\": [], \"washu somatic_mutation\": []}\n",
    "en.multi_join(joining_dictionary).head()"
   ]
  },
  {
   "cell_type": "markdown",
   "metadata": {},
   "source": [
    "`multi_join` does not necessarily need to join different dataframes. If you just want a small amount of information from a dataframe, this function is useful for that as well."
   ]
  },
  {
   "cell_type": "code",
   "execution_count": null,
   "metadata": {},
   "outputs": [],
   "source": [
    "sample_type_and_discovery = en.multi_join({\"mssm clinical\": ['type_of_analyzed_samples', 'discovery_study']})\n",
    "sample_type_and_discovery.head()"
   ]
  },
  {
   "cell_type": "markdown",
   "metadata": {},
   "source": [
    "## Join omics to mutations\n",
    "\n",
    "Joining an -omics dataframe with the mutation data for a specified gene or genes involves specific steps. It's worth noting that because there might be multiple mutations for one gene in a single sample, the mutation type and location data are returned in lists by default, even if there is only one mutation.\n",
    "\n",
    "For samples with no mutation for a particular gene, the list will contain either \"Wildtype_Tumor\" or \"Wildtype_Normal\", depending on whether the sample is a tumor or normal one. The mutation status column will contain either \"Single_mutation\", \"Multiple_mutation\", \"Wildtype_Tumor\", or \"Wildtype_Normal\", which aids with parsing.\n",
    "\n",
    "Let's consider an example:"
   ]
  },
  {
   "cell_type": "code",
   "execution_count": null,
   "metadata": {},
   "outputs": [],
   "source": [
    "somatic_mutations = en.get_somatic_mutation('harmonized')\n",
    "selected_prot_and_som_mut = en.join_omics_to_mutations(\n",
    "    omics_name = \"proteomics\",\n",
    "    mutations_genes = \"SHANK2\",\n",
    "    omics_genes = [\"ARF5\", \"M6PR\"],\n",
    "    omics_source = 'umich',\n",
    "    mutations_source = 'harmonized')\n",
    "selected_prot_and_som_mut.head(10)"
   ]
  },
  {
   "cell_type": "markdown",
   "metadata": {},
   "source": [
    "In the code above, we're joining proteomics data and somatic mutation data. The gene for the mutation data is \"SHANK2\" and the genes for the proteomics data are \"ARF5\" and \"M6PR\"."
   ]
  },
  {
   "cell_type": "markdown",
   "metadata": {},
   "source": [
    "### Filtering multiple mutations\n",
    "\n",
    "If there are multiple mutations, you can use the multi_join function to filter them. The function allows you to specify certain mutation types or locations to prioritize, and it provides a default sorting hierarchy for all other mutations.\n",
    "\n",
    "Here are some examples:"
   ]
  },
  {
   "cell_type": "code",
   "execution_count": null,
   "metadata": {},
   "outputs": [],
   "source": [
    "SHANK2_default_filter = en.multi_join({\"umich proteomics\": [\"ARF5\", \"M6PR\"],\n",
    "                                     \"harmonized somatic_mutation\": \"SHANK2\"},\n",
    "                                    mutations_filter=[])\n",
    "\n",
    "SHANK2_simple_filter = en.multi_join({\"umich proteomics\": [\"ARF5\", \"M6PR\"],\n",
    "                                    \"harmonized somatic_mutation\": \"SHANK2\"},\n",
    "                                   mutations_filter=[\"Missense_Mutation\"])\n",
    "\n",
    "PTEN_complex_filter = en.multi_join({\"umich proteomics\": [\"ARF5\", \"M6PR\"],\n",
    "                                    \"harmonized somatic_mutation\": \"SHANK2\"}, \n",
    "                                    mutations_filter=[\"p.R130Q\", \"Nonsense_Mutation\"])\n"
   ]
  },
  {
   "cell_type": "markdown",
   "metadata": {},
   "source": [
    "The mutations_filter parameter allows you to specify the mutations you're interested in. If you don't provide any specific mutations (i.e., you pass an empty list), it will use a default hierarchy, choosing truncation mutations over missense mutations, and silent mutations last of all. If there are multiple mutations of the same type, it chooses the mutation occurring earlier in the sequence."
   ]
  },
  {
   "cell_type": "markdown",
   "metadata": {},
   "source": [
    "## Join metadata to mutations\n",
    "\n",
    "Joining metadata to mutation data follows the same process as joining other datatypes. You can also use the mutations_filter parameter to filter multiple mutations.\n",
    "\n",
    "For instance, you can use the get_clinical function to retrieve clinical data, as shown below:"
   ]
  },
  {
   "cell_type": "code",
   "execution_count": null,
   "metadata": {},
   "outputs": [],
   "source": [
    "en.get_clinical('mssm')"
   ]
  },
  {
   "cell_type": "code",
   "execution_count": null,
   "metadata": {},
   "outputs": [],
   "source": [
    "en.join_metadata_to_mutations(\n",
    "    metadata_name=\"clinical\",\n",
    "    metadata_source=\"mssm\",\n",
    "    metadata_cols=[\"age\", \"sex\", \"race\"],\n",
    "    mutations_source=\"harmonized\",\n",
    "    mutations_genes=\"SHANK2\",\n",
    "    mutations_filter=[\"Missense_Mutation\"])"
   ]
  },
  {
   "cell_type": "markdown",
   "metadata": {},
   "source": [
    "This command joins the age, sex, and race metadata with the mutation data for the SHANK2 gene, filtering out all mutations except Missense_Mutations.\n",
    "\n",
    "If you need to join metadata to a larger number of mutation genes, the multi_join function can be useful. Below, we join the same metadata with the mutation data for SHANK2, PTEN, and TP53 genes. Here we do not filter mutations. Remember, by default, the mutations_filter parameter of multi_join behaves the same as the join_metadata_to_mutations function - it returns all mutations as lists in the output dataframe, regardless of the number of mutations for a given sample."
   ]
  },
  {
   "cell_type": "code",
   "execution_count": null,
   "metadata": {},
   "outputs": [],
   "source": [
    "en.multi_join({\"mssm clinical\": [\"age\", \"sex\", \"race\"],\n",
    "               \"harmonized somatic_mutation\": [\"SHANK2\", \"PTEN\", \"TP53\"]})"
   ]
  },
  {
   "cell_type": "markdown",
   "metadata": {},
   "source": [
    "Here is an example of joining clinical data with mutations while filtering specific mutations:"
   ]
  },
  {
   "cell_type": "code",
   "execution_count": null,
   "metadata": {},
   "outputs": [],
   "source": [
    "survival_and_SHANK2 = en.multi_join({\"mssm clinical\": [\"age\", \"sex\", \"race\"],\n",
    "               \"harmonized somatic_mutation\": [\"SHANK2\", \"PTEN\", \"TP53\"]}, \n",
    "               mutations_filter=[\"Missense_Mutation\"])\n",
    "\n",
    "survival_and_SHANK2"
   ]
  },
  {
   "cell_type": "markdown",
   "metadata": {},
   "source": [
    "Remember that the mutations_filter parameter receives a list. In this example, it is filtering only the \"Missense_Mutation\" type for all genes specified."
   ]
  },
  {
   "cell_type": "markdown",
   "metadata": {},
   "source": [
    "# Exporting dataframes\n",
    "\n",
    "If you wish to export a dataframe to a file, simply call the dataframe's to_csv method, passing the path you wish to save the file to, and the value separator you want:"
   ]
  },
  {
   "cell_type": "code",
   "execution_count": null,
   "metadata": {},
   "outputs": [],
   "source": [
    "survival_and_SHANK2.to_csv(path_or_buf=\"histologic_type_and_PTEN_mutation.tsv\", sep='\\t')"
   ]
  }
 ],
 "metadata": {
  "kernelspec": {
   "display_name": "Python 3 (ipykernel)",
   "language": "python",
   "name": "python3"
  },
  "language_info": {
   "codemirror_mode": {
    "name": "ipython",
    "version": 3
   },
   "file_extension": ".py",
   "mimetype": "text/x-python",
   "name": "python",
   "nbconvert_exporter": "python",
   "pygments_lexer": "ipython3",
   "version": "3.9.12"
  }
 },
 "nbformat": 4,
 "nbformat_minor": 4
}
