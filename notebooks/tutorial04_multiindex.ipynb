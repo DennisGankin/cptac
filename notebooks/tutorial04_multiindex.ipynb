{
 "cells": [
  {
   "cell_type": "markdown",
   "metadata": {},
   "source": [
    "# Tutorial 4: Multi-level column indices (`MultiIndex`)\n",
    "\n",
    "A MultiIndex is an index with multiple, hierarchical levels. We use a multiindex for the column headers of a dataframe. This allows each column to have multiple keys associated with it--one key for each level.\n",
    "\n",
    "The multiindex is a native part of the `pandas` package. For more documentation, see their [MultiIndex / advanced indexing page](https://pandas.pydata.org/pandas-docs/stable/user_guide/advanced.html).\n",
    "\n",
    "MultiIndexes make it easy to associate multiple identifiers with a single column. In this tutorial, we'll work with phosphoproteomics data from the endometrial cancer dataset.\n",
    "\n",
    "Phosphoproteomics is the large-scale study of proteins that have undergone a process called phosphorylation. This is particularly important in the context of disease, as the process is often disrupted in cancer cells.\n",
    "\n",
    "Let's start by importing our required package and loading the endometrial dataset."
   ]
  },
  {
   "cell_type": "code",
   "execution_count": 1,
   "metadata": {},
   "outputs": [],
   "source": [
    "import cptac\n",
    "en = cptac.Ucec()"
   ]
  },
  {
   "cell_type": "markdown",
   "metadata": {},
   "source": [
    "Let's see the data sources available in our dataset."
   ]
  },
  {
   "cell_type": "code",
   "execution_count": 2,
   "metadata": {},
   "outputs": [],
   "source": [
    "en.list_data_sources()"
   ]
  },
  {
   "cell_type": "markdown",
   "metadata": {},
   "source": [
    "Here, we see different types of omics data (e.g., CNV, proteomics, phosphoproteomics) available from various sources (e.g., washu, umich).\n",
    "\n",
    "We will retrieve phosphoproteomics, proteomics and CNV data from the respective sources."
   ]
  },
  {
   "cell_type": "code",
   "execution_count": 3,
   "metadata": {},
   "outputs": [],
   "source": [
    "#Some data may take several minutes to load\n",
    "en.get_proteomics('umich')\n",
    "en.get_phosphoproteomics('umich')\n",
    "en.get_CNV('washu')"
   ]
  },
  {
   "cell_type": "markdown",
   "metadata": {},
   "source": [
    "Now that our data is loaded, let's take a look at the structure of the phosphoproteomics data."
   ]
  },
  {
   "cell_type": "code",
   "execution_count": 4,
   "metadata": {},
   "outputs": [],
   "source": [
    "# Display first 5 rows of phosphoproteomics data\n",
    "en.get_phosphoproteomics('umich').head()"
   ]
  },
  {
   "cell_type": "markdown",
   "metadata": {},
   "source": [
    "# Join functions with multiindices \n",
    "The join functions have been written to handle multiindices. More information on the join functions can be found in the joining_dataframes tutorial. \n",
    "An example of joining a multiindexed dataframe (in this case phosphoproteomics) with a non multiindexed dataframe (in this case CNV) is below. "
   ]
  },
  {
   "cell_type": "code",
   "execution_count": 5,
   "metadata": {},
   "outputs": [],
   "source": [
    "phospho_and_CNV = en.join_omics_to_omics(df1_name=\"CNV\", df2_name=\"phosphoproteomics\", df1_source='washu', df2_source = 'umich')\n",
    "phospho_and_CNV.head()"
   ]
  },
  {
   "cell_type": "markdown",
   "metadata": {},
   "source": [
    "Since the C3L-00084 row doesn't have CNV data, it is filled in with NANs, so that it can be joined to the CNV dataframe. "
   ]
  },
  {
   "cell_type": "markdown",
   "metadata": {},
   "source": [
    "# How to select from multiindex\n"
   ]
  },
  {
   "cell_type": "markdown",
   "metadata": {},
   "source": [
    "## Selecting based on all levels\n",
    "We can select single columns by passing the proper keys for all levels of the multiindex. For example, to get the proteomics for ARF5, we'd do the following:"
   ]
  },
  {
   "cell_type": "code",
   "execution_count": 6,
   "metadata": {},
   "outputs": [],
   "source": [
    "prot = en.get_proteomics('umich')\n",
    "all_levels_selection = prot[\"ARF5\"]\n",
    "\n",
    "#Display the first 10 rows of the desired data\n",
    "all_levels_selection.head(10)"
   ]
  },
  {
   "cell_type": "markdown",
   "metadata": {},
   "source": [
    "## Selecting based on one level\n",
    "We can easily select multiple columns from our multiindex dataframe, based on just the \"Name\" level of the multiindex:"
   ]
  },
  {
   "cell_type": "code",
   "execution_count": 7,
   "metadata": {},
   "outputs": [],
   "source": [
    "gene1_filter = prot.columns.get_level_values(\"Name\").str.startswith(\"A\") # Select all columns where the gene starts with \"A\". This will grab every column where the key \"Name\" starts with AA\n",
    "gene1_data = prot.loc[:, gene1_filter]\n",
    "gene1_data.head()"
   ]
  },
  {
   "cell_type": "markdown",
   "metadata": {},
   "source": [
    "## Selecting based on a different level of the multiindex\n",
    "We can also select based on one of the inner levels of the multiindex. For example, to get data for all tyrosine phosphorylation sites:"
   ]
  },
  {
   "cell_type": "code",
   "execution_count": 8,
   "metadata": {},
   "outputs": [],
   "source": [
    "y_site_filter = prot.columns.get_level_values(\"Database_ID\").str.contains(\"ENSp\") # Create a boolean filter selecting all columns where the Site level contains a \"Y\"\n",
    "\n",
    "y_sites = prot.loc[:, y_site_filter] # Select the columns\n",
    "y_sites.head()"
   ]
  },
  {
   "cell_type": "markdown",
   "metadata": {},
   "source": [
    "# How to use `cptac.utils.reduce_multiindex()`\n",
    "To make it easier to work with multi-level indices, we provide the `reduce_multiindex` function, available for import from the `cptac.utils` submodule. It can both drop levels from a multiindex, and \"flatten\" a multi-level index into a single-level index by concatenating the keys from multiple levels into a single key for each column."
   ]
  },
  {
   "cell_type": "code",
   "execution_count": 9,
   "metadata": {},
   "outputs": [],
   "source": [
    "import cptac.utils as ut"
   ]
  },
  {
   "cell_type": "markdown",
   "metadata": {},
   "source": [
    "## Dropping Levels\n",
    "We can drop levels based on index or name. We can also drop single or multiple levels at once. \n",
    "Note that it will warn you if duplicate column key combinations arise due to dropping levels. "
   ]
  },
  {
   "cell_type": "markdown",
   "metadata": {},
   "source": [
    "### Dropping by index or name"
   ]
  },
  {
   "cell_type": "code",
   "execution_count": 12,
   "metadata": {},
   "outputs": [],
   "source": [
    "ut.reduce_multiindex(df=prot, levels_to_drop=\"Database_ID\").head()"
   ]
  },
  {
   "cell_type": "markdown",
   "metadata": {},
   "source": [
    "### Dropping single or multiple levels at once\n",
    "By passing a list (or array-like) to levels_to drop, we can drop multiple levels of the multiindex at the same time. Note that we must leave at least one existing level. \n",
    "\n",
    "We will show this with the colon data."
   ]
  },
  {
   "cell_type": "code",
   "execution_count": 13,
   "metadata": {},
   "outputs": [],
   "source": [
    "colon = cptac.Coad()\n",
    "prot = colon.get_proteomics('umich')\n",
    "prot.head()\n",
    "#cptac.get_cancer_info()"
   ]
  },
  {
   "cell_type": "code",
   "execution_count": 14,
   "metadata": {},
   "outputs": [],
   "source": [
    "# Drop level 'Name'\n",
    "ut.reduce_multiindex(df=prot, levels_to_drop='Name').head()\n",
    "#You can also pass a list in order to drop multiple levels"
   ]
  },
  {
   "cell_type": "markdown",
   "metadata": {},
   "source": [
    "## Combining levels (Flattening)"
   ]
  },
  {
   "cell_type": "markdown",
   "metadata": {},
   "source": [
    "We can combine levels of a multiindexed dataframe. When combined the levels will be sepereated by an underscore, by default. We could specify a different seperator using the `sep` parameter."
   ]
  },
  {
   "cell_type": "code",
   "execution_count": null,
   "metadata": {},
   "outputs": [],
   "source": [
    "ut.reduce_multiindex(df=prot, flatten=True).head()"
   ]
  },
  {
   "cell_type": "markdown",
   "metadata": {},
   "source": [
    "When flatteing levels , NaNs and empty strings will automitically be dropped."
   ]
  },
  {
   "cell_type": "code",
   "execution_count": null,
   "metadata": {},
   "outputs": [],
   "source": [
    "phospho_and_CNV = en.join_omics_to_omics(df1_name=\"CNV\", df2_name=\"phosphoproteomics\", df1_source = 'washu', df2_source = 'umich')\n",
    "phospho_and_CNV.head()\n",
    "\n",
    "# Note that the CNV columns all have empty strings in the \"Site\" level of the columns,\n",
    "# since the CNV data doesn't have any values for that."
   ]
  },
  {
   "cell_type": "code",
   "execution_count": null,
   "metadata": {},
   "outputs": [],
   "source": [
    "ut.reduce_multiindex(df=phospho_and_CNV, flatten=True).head()\n",
    "# Notice that the empty strings have been dropped"
   ]
  },
  {
   "cell_type": "markdown",
   "metadata": {},
   "source": [
    "## Getting a single level index of tuples\n",
    "\n",
    "You can also use `reduce_multiindex` to turn the multi-level column index into a single level index of tuples, with each value in a column's tuple corresponding to the column's value for that level of the index:"
   ]
  },
  {
   "cell_type": "code",
   "execution_count": null,
   "metadata": {},
   "outputs": [],
   "source": [
    "ut.reduce_multiindex(df=prot, tuples=True).head()"
   ]
  },
  {
   "cell_type": "markdown",
   "metadata": {},
   "source": [
    "## Turning off warnings\n",
    "\n",
    "If your multiindex operation creates duplicate column headers, or has no effect, `reduce_multiindex` will warn you. You can silence these warnings by passing `True` to the `quiet` parameter:"
   ]
  },
  {
   "cell_type": "code",
   "execution_count": null,
   "metadata": {},
   "outputs": [],
   "source": [
    "ut.reduce_multiindex(df=prot, levels_to_drop=\"Name\").head()"
   ]
  },
  {
   "cell_type": "code",
   "execution_count": null,
   "metadata": {},
   "outputs": [],
   "source": [
    "# No warning will be issued\n",
    "ut.reduce_multiindex(df=prot, levels_to_drop=\"Name\", quiet=True).head()"
   ]
  }
 ],
 "metadata": {
  "kernelspec": {
   "display_name": "Python 3 (ipykernel)",
   "language": "python",
   "name": "python3"
  },
  "language_info": {
   "codemirror_mode": {
    "name": "ipython",
    "version": 3
   },
   "file_extension": ".py",
   "mimetype": "text/x-python",
   "name": "python",
   "nbconvert_exporter": "python",
   "pygments_lexer": "ipython3",
   "version": "3.9.12"
  }
 },
 "nbformat": 4,
 "nbformat_minor": 4
}
