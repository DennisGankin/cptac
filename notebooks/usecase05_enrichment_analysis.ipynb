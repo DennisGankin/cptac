{
 "cells": [
  {
   "cell_type": "markdown",
   "metadata": {},
   "source": [
    "# Use Case 5: Gene Set Enrichment Analysis"
   ]
  },
  {
   "cell_type": "markdown",
   "metadata": {},
   "source": [
    "## Step 1: Importing packages and setting up your notebook.\n",
    "\n",
    "We start the notebook by importing the standard packages for data science. These are useful for analyzing data stored in dataframes and for plotting the results."
   ]
  },
  {
   "cell_type": "code",
   "execution_count": 1,
   "metadata": {},
   "outputs": [],
   "source": [
    "import pandas as pd\n",
    "import numpy as np\n",
    "import matplotlib.pyplot as plt\n",
    "from scipy import stats\n",
    "import gseapy as gp\n",
    "from gseapy.plot import barplot, dotplot"
   ]
  },
  {
   "cell_type": "markdown",
   "metadata": {},
   "source": [
    "Our cancer data and a variety of accessory functions are provided in the cptac package."
   ]
  },
  {
   "cell_type": "code",
   "execution_count": 2,
   "metadata": {},
   "outputs": [],
   "source": [
    "import cptac\n",
    "en = cptac.Ucec()"
   ]
  },
  {
   "cell_type": "markdown",
   "metadata": {},
   "source": [
    "## Step 2: Joining dataframes\n",
    "\n",
    "For this example we will be separating the protein abudance based on whether the sample is tumor or non-tumor tissue. This information is stored in the \"discovery_study/type_of_analyzed_samples\" column in the clinical dataframe. We first join the clinical information into the proteomics dataframe utilizing the `en.join_metadata_to_omics` function."
   ]
  },
  {
   "cell_type": "code",
   "execution_count": 3,
   "metadata": {},
   "outputs": [],
   "source": [
    "tumorProt = en.join_metadata_to_omics(metadata_name=\"clinical\",\n",
    "                                      metadata_source='mssm',\n",
    "                                      metadata_cols='discovery_study/type_of_analyzed_samples',\n",
    "                                      omics_name=\"proteomics\",\n",
    "                                      omics_source='umich')"
   ]
  },
  {
   "cell_type": "markdown",
   "metadata": {},
   "source": [
    "## Step 3: Organizing the data\n",
    "\n",
    "We then separate the proteomics into two groups, based on whether the patient is categorized as \"Tumor\" or \"Tumor_and_Normal\". We make a single value out of this in the code below calling everything besides \"Tumor\" a \"Normal\" sample."
   ]
  },
  {
   "cell_type": "code",
   "execution_count": 4,
   "metadata": {},
   "outputs": [],
   "source": [
    "#Retrieve boolean array of true values\n",
    "tumor_bool = tumorProt['discovery_study/type_of_analyzed_samples'] == \"Tumor\"\n",
    "normal_bool = tumorProt['discovery_study/type_of_analyzed_samples'] != \"Tumor\"\n",
    "#Use boolean array to select for appropriate patients\n",
    "tumor = tumorProt[tumor_bool]\n",
    "normal = tumorProt[normal_bool]"
   ]
  },
  {
   "cell_type": "markdown",
   "metadata": {},
   "source": [
    "## Step 4: Perform statistical tests\n",
    "\n",
    "Next, we find the genes that are upregulated in each partition using Welch's t-test (a variation on the two sample t-test due to different variances between the two groups) to compare the \"Tumor\" individuals with the \"Normal\" individuals for each gene."
   ]
  },
  {
   "cell_type": "code",
   "execution_count": null,
   "metadata": {
    "tags": []
   },
   "outputs": [],
   "source": [
    "#Create array variables to hold the significant genes for each partition\n",
    "tumor_genes = []\n",
    "normal_genes = []\n",
    "#Grab the genes of interest, ignoring the MSI column in the dataframe\n",
    "genes = tumor.columns[1:]\n",
    "#Correct alpha level for multiple testing by dividing the standard .05 by the number of genes to be analyzed\n",
    "threshold = .05 / len(genes)\n",
    "#Perform Welch's t-test(different variances) on each gene between the two groups\n",
    "for gene in genes:\n",
    "    tumor_gene_abundance = tumor[gene]\n",
    "    normal_gene_abundance = normal[gene]\n",
    "    \n",
    "    if len(tumor_gene_abundance.shape) > 1 or len(normal_gene_abundance.shape) > 1:\n",
    "        # take the mean across the columns\n",
    "        tumor_gene_abundance = tumor_gene_abundance.mean(axis=1)\n",
    "        normal_gene_abundance = normal_gene_abundance.mean(axis=1)\n",
    "    \n",
    "    pvalue = stats.ttest_ind(tumor_gene_abundance, normal_gene_abundance, equal_var=False, nan_policy='omit').pvalue\n",
    "    #If the P-value is significant, determine which partition is more highly expressed\n",
    "    if pvalue < threshold:\n",
    "        if tumor_gene_abundance.mean() > normal_gene_abundance.mean():\n",
    "            tumor_genes.append(gene.split(\"_\")[0])\n",
    "        elif normal_gene_abundance.mean() > tumor_gene_abundance.mean():\n",
    "            normal_genes.append(gene.split(\"_\")[0])\n",
    "#Optional check of number of genes in each partition\n",
    "print(\"Proteomics Tumor Genes:\", len(tumor_genes))\n",
    "print(\"Proteomics Normal Genes:\", len(normal_genes))"
   ]
  },
  {
   "cell_type": "markdown",
   "metadata": {},
   "source": [
    "## Step 5: Gene set enrichment analysis\n",
    "\n",
    "We then use the genes that are up-regulated in these partitions to perform a Gene Set Enrichment Analysis using the `gp.enrichr()` function (`gp` being the specified abbreviation for the imported gseapy package)."
   ]
  },
  {
   "cell_type": "code",
   "execution_count": null,
   "metadata": {},
   "outputs": [],
   "source": [
    "tumor_enr = gp.enrichr(gene_list=tumor_genes, gene_sets='KEGG_2016', outdir='test/enrichr_kegg_tumor')\n",
    "normal_enr = gp.enrichr(gene_list=normal_genes, gene_sets='KEGG_2016', outdir='test/enrichr_kegg_normal')"
   ]
  },
  {
   "cell_type": "markdown",
   "metadata": {},
   "source": [
    "We can view the data as a table by using the `obj.res2d` command (`obj` being the variable name specified in the previous step). The Gene Set Enrichment Analysis returns a list of pathways the genes provided are involved in, based on a significant adjusted P-value."
   ]
  },
  {
   "cell_type": "code",
   "execution_count": null,
   "metadata": {
    "scrolled": true
   },
   "outputs": [],
   "source": [
    "tumor_enr.res2d.head()"
   ]
  },
  {
   "cell_type": "code",
   "execution_count": null,
   "metadata": {},
   "outputs": [],
   "source": [
    "normal_enr.res2d.head()"
   ]
  },
  {
   "cell_type": "markdown",
   "metadata": {},
   "source": [
    "## Step 6: Plot the p-values\n",
    "\n",
    "We can better visualize these tables and the significant pathways detected through the gseapy imported `barplot()` function, which takes an enrichr table and a title as parameters."
   ]
  },
  {
   "cell_type": "code",
   "execution_count": null,
   "metadata": {},
   "outputs": [],
   "source": [
    "barplot(tumor_enr.res2d,title=\"Proteomics Tumor KEGG_2016\")\n",
    "plt.show()"
   ]
  },
  {
   "cell_type": "code",
   "execution_count": null,
   "metadata": {},
   "outputs": [],
   "source": [
    "barplot(normal_enr.res2d,title=\"Normal KEGG_2016\")\n",
    "plt.show()"
   ]
  },
  {
   "cell_type": "markdown",
   "metadata": {},
   "source": [
    "## Discussion\n",
    "\n",
    "When comparing these barplots, we can observe the \"Tumor\" group has one pathway expressed at a very significant adjusted P-value, while the other pathways are expressed at a less significant P-value. The single pathway is the Ribosome pathway, which could be attributed to the \"Tumor\" genes disrupting ribosome activity. In comparison, the \"Normal\" group has a higher count of high significant P-values."
   ]
  }
 ],
 "metadata": {
  "kernelspec": {
   "display_name": "Python 3 (ipykernel)",
   "language": "python",
   "name": "python3"
  },
  "language_info": {
   "codemirror_mode": {
    "name": "ipython",
    "version": 3
   },
   "file_extension": ".py",
   "mimetype": "text/x-python",
   "name": "python",
   "nbconvert_exporter": "python",
   "pygments_lexer": "ipython3",
   "version": "3.9.12"
  }
 },
 "nbformat": 4,
 "nbformat_minor": 4
}
