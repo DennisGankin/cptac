{
 "cells": [
  {
   "cell_type": "markdown",
   "metadata": {},
   "source": [
    "# Tutorial 5: Data and package updates\n",
    "\n",
    "The datasets that `cptac` distributes are still being actively worked on by the teams that generated them. Additionally, we periodically make improvements to the `cptac` package itself. Thus, we regularly release new versions of the data and the package. This tutorial will go over how to access both those data and package updates.\n",
    "\n",
    "**Note: In this tutorial, we intentionally get `cptac` to generate the various errors and warnings it gives when your data or package is out of date. We do this on purpose, so you can see what it looks like; the tutorial is not broken.**"
   ]
  },
  {
   "cell_type": "markdown",
   "metadata": {},
   "source": [
    "## Updating the package\n",
    "\n",
    "Each time you import `cptac` into a Python environment, it automatically checks whether you have the most recent release of the package. If you don't, it will print a warning like this:"
   ]
  },
  {
   "cell_type": "code",
   "execution_count": 1,
   "metadata": {},
   "outputs": [
    {
     "name": "stderr",
     "output_type": "stream",
     "text": [
      "cptac warning: Your version of cptac (1.5.1) is out-of-date. Latest is 1.5.0. Please run 'pip install --upgrade cptac' to update it. (C:\\Users\\sabme\\anaconda3\\lib\\threading.py, line 910)\n"
     ]
    }
   ],
   "source": [
    "import cptac"
   ]
  },
  {
   "cell_type": "markdown",
   "metadata": {},
   "source": [
    "As the warning directs, simply run `pip install --upgrade cptac` to get the latest version of the package. This will ensure that you have all the latest functionality of the package, and that you're able to access the latest versions of all the datasets."
   ]
  },
  {
   "cell_type": "markdown",
   "metadata": {},
   "source": [
    "## Watching the repository for new releases\n",
    "Each time there's a new version of the package, we release the new version on PyPI, and also post a release page on GitHub. You can use GitHub's \"Watch\" feature to get an email sent to you every time we do this. Simply log in to GitHub, browse to the [main page for our repository](https://github.com/PayneLab/cptac), click on the \"Watch\" button in the upper right corner of the page, and select the \"Releases only\" option from the drop-down box, as shown below. You will then get an email every time we release another version of the package.\n",
    "\n",
    "![How to watch releases](img/github_watch.png)"
   ]
  }
 ],
 "metadata": {
  "kernelspec": {
   "display_name": "Python 3 (ipykernel)",
   "language": "python",
   "name": "python3"
  },
  "language_info": {
   "codemirror_mode": {
    "name": "ipython",
    "version": 3
   },
   "file_extension": ".py",
   "mimetype": "text/x-python",
   "name": "python",
   "nbconvert_exporter": "python",
   "pygments_lexer": "ipython3",
   "version": "3.9.12"
  }
 },
 "nbformat": 4,
 "nbformat_minor": 4
}
